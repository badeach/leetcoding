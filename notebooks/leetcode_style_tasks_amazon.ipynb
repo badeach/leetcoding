{
 "cells": [
  {
   "cell_type": "markdown",
   "metadata": {},
   "source": [
    "[Geeks4geeks task](https://www.geeksforgeeks.org/count-pairs-array-whose-sum-less-x/)\n",
    "\n",
    "**Given a list of numbers and K, return the number of pairs where the sum of the pair is less than K.**"
   ]
  },
  {
   "cell_type": "markdown",
   "metadata": {},
   "source": [
    "_brute-force solution_"
   ]
  },
  {
   "cell_type": "code",
   "execution_count": 1,
   "metadata": {},
   "outputs": [],
   "source": [
    "import string\n",
    "from typing import List, Optional\n",
    "from collections import Counter"
   ]
  },
  {
   "cell_type": "code",
   "execution_count": 2,
   "metadata": {},
   "outputs": [],
   "source": [
    "def my_func_brute_force(a_list: List[int], K: int):\n",
    "    num_pairs = 0\n",
    "    for i, el1 in enumerate(a_list):\n",
    "        for j, el2 in enumerate(a_list):\n",
    "            if i < j and el1 + el2 < K:\n",
    "                num_pairs += 1\n",
    "    return num_pairs"
   ]
  },
  {
   "cell_type": "code",
   "execution_count": 3,
   "metadata": {},
   "outputs": [],
   "source": [
    "assert my_func_brute_force(a_list=range(10), K=5) == 6\n",
    "assert my_func_brute_force(a_list=range(1), K=5) == 0"
   ]
  },
  {
   "cell_type": "markdown",
   "metadata": {},
   "source": [
    "_linear solution_"
   ]
  },
  {
   "cell_type": "code",
   "execution_count": 4,
   "metadata": {},
   "outputs": [],
   "source": [
    "def my_func_linear(a_list: List[int], K: int):\n",
    "    l, r = 0, len(a_list) - 1\n",
    "    num_pairs = 0\n",
    "    \n",
    "    while l < r:\n",
    "        \n",
    "        if a_list[l] + a_list[r] < K:\n",
    "            num_pairs += (r - l)\n",
    "            l += 1\n",
    "        else:\n",
    "            r -= 1\n",
    "    return num_pairs\n",
    "  "
   ]
  },
  {
   "cell_type": "code",
   "execution_count": 5,
   "metadata": {},
   "outputs": [],
   "source": [
    "assert my_func_linear(a_list=range(10), K=5) == 6\n",
    "assert my_func_linear(a_list=range(2), K=5) == 1"
   ]
  },
  {
   "cell_type": "markdown",
   "metadata": {},
   "source": [
    "[Similar Task1](https://leetcode.com/discuss/interview-question/396248/Facebook-or-Phone-Screen-or-Point-in-max-overlapping-intervals), [Similar Task2](https://www.geeksforgeeks.org/find-the-point-where-maximum-intervals-overlap/)\n",
    "\n",
    "**Given login and logout times of users (in ints, e.g. [2, 10], [5, 8]) find the peak load interval.**"
   ]
  },
  {
   "cell_type": "code",
   "execution_count": 6,
   "metadata": {},
   "outputs": [],
   "source": [
    "import numpy as np\n",
    "\n",
    "def find_peak_load(intervals: List[List[int]]):\n",
    "\n",
    "    l, r = -1, np.infty\n",
    "    \n",
    "    if len(intervals) == 0:\n",
    "        return (l, r)\n",
    "    else:\n",
    "        for interval in intervals:\n",
    "            cur_l, cur_r = interval\n",
    "            \n",
    "            if cur_l > l:\n",
    "                l = cur_l\n",
    "                \n",
    "            if cur_r < r:\n",
    "                r = cur_r\n",
    "                \n",
    "        return (l, r)\n",
    "    "
   ]
  },
  {
   "cell_type": "code",
   "execution_count": 7,
   "metadata": {},
   "outputs": [
    {
     "data": {
      "text/plain": [
       "(5, 6)"
      ]
     },
     "execution_count": 7,
     "metadata": {},
     "output_type": "execute_result"
    }
   ],
   "source": [
    "find_peak_load([[2, 10], [5, 6], [3, 8]])"
   ]
  },
  {
   "cell_type": "code",
   "execution_count": 8,
   "metadata": {},
   "outputs": [
    {
     "data": {
      "text/plain": [
       "(-1, inf)"
      ]
     },
     "execution_count": 8,
     "metadata": {},
     "output_type": "execute_result"
    }
   ],
   "source": [
    "find_peak_load([])"
   ]
  }
 ],
 "metadata": {
  "kernelspec": {
   "display_name": "Python 3 (ipykernel)",
   "language": "python",
   "name": "python3"
  },
  "language_info": {
   "codemirror_mode": {
    "name": "ipython",
    "version": 3
   },
   "file_extension": ".py",
   "mimetype": "text/x-python",
   "name": "python",
   "nbconvert_exporter": "python",
   "pygments_lexer": "ipython3",
   "version": "3.10.4"
  }
 },
 "nbformat": 4,
 "nbformat_minor": 4
}
