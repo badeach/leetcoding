{
 "cells": [
  {
   "cell_type": "markdown",
   "metadata": {},
   "source": [
    "[Geeks4geeks task](https://www.geeksforgeeks.org/count-pairs-array-whose-sum-less-x/)\n",
    "\n",
    "**Given a list of numbers and K, return the number of pairs where the sum of the pair is less than K.**"
   ]
  },
  {
   "cell_type": "markdown",
   "metadata": {},
   "source": [
    "brute-force solution"
   ]
  },
  {
   "cell_type": "code",
   "execution_count": 86,
   "metadata": {},
   "outputs": [],
   "source": [
    "import string\n",
    "from typing import List, Optional\n",
    "from collections import Counter"
   ]
  },
  {
   "cell_type": "code",
   "execution_count": 11,
   "metadata": {},
   "outputs": [],
   "source": [
    "def my_func_brute_force(a_list: List[int], K: int):\n",
    "    num_pairs = 0\n",
    "    for i, el1 in enumerate(a_list):\n",
    "        for j, el2 in enumerate(a_list):\n",
    "            if i < j and el1 + el2 < K:\n",
    "                print(el1, el2)\n",
    "                num_pairs += 1\n",
    "    return num_pairs"
   ]
  },
  {
   "cell_type": "code",
   "execution_count": 13,
   "metadata": {},
   "outputs": [
    {
     "name": "stdout",
     "output_type": "stream",
     "text": [
      "0 1\n",
      "0 2\n",
      "0 3\n",
      "0 4\n",
      "1 2\n",
      "1 3\n"
     ]
    },
    {
     "data": {
      "text/plain": [
       "6"
      ]
     },
     "execution_count": 13,
     "metadata": {},
     "output_type": "execute_result"
    }
   ],
   "source": [
    "my_func_brute_force(a_list=range(10), K=5)"
   ]
  },
  {
   "cell_type": "code",
   "execution_count": 14,
   "metadata": {},
   "outputs": [
    {
     "data": {
      "text/plain": [
       "0"
      ]
     },
     "execution_count": 14,
     "metadata": {},
     "output_type": "execute_result"
    }
   ],
   "source": [
    "my_func_brute_force(a_list=range(1), K=5)"
   ]
  },
  {
   "cell_type": "markdown",
   "metadata": {},
   "source": [
    "linear solution"
   ]
  },
  {
   "cell_type": "code",
   "execution_count": 9,
   "metadata": {},
   "outputs": [],
   "source": [
    "def my_func_linear(a_list: List[int], K: int):\n",
    "    l, r = 0, len(a_list) - 1\n",
    "    num_pairs = 0\n",
    "    \n",
    "    while l < r:\n",
    "        \n",
    "        if a_list[l] + a_list[r] < K:\n",
    "            num_pairs += (r - l)\n",
    "            l += 1\n",
    "        else:\n",
    "            r -= 1\n",
    "    return num_pairs\n",
    "  "
   ]
  },
  {
   "cell_type": "code",
   "execution_count": 15,
   "metadata": {},
   "outputs": [
    {
     "data": {
      "text/plain": [
       "6"
      ]
     },
     "execution_count": 15,
     "metadata": {},
     "output_type": "execute_result"
    }
   ],
   "source": [
    "my_func_linear(a_list=range(10), K=5)"
   ]
  },
  {
   "cell_type": "code",
   "execution_count": 17,
   "metadata": {
    "scrolled": true
   },
   "outputs": [
    {
     "data": {
      "text/plain": [
       "1"
      ]
     },
     "execution_count": 17,
     "metadata": {},
     "output_type": "execute_result"
    }
   ],
   "source": [
    "my_func_linear(a_list=range(2), K=5)"
   ]
  },
  {
   "cell_type": "markdown",
   "metadata": {},
   "source": [
    "[Similar Task1](https://leetcode.com/discuss/interview-question/396248/Facebook-or-Phone-Screen-or-Point-in-max-overlapping-intervals), [Similar Task2](https://www.geeksforgeeks.org/find-the-point-where-maximum-intervals-overlap/)\n",
    "\n",
    "**Given login and logout times of users (in ints, e.g. [2, 10], [5, 8]) find the peak load interval.**"
   ]
  },
  {
   "cell_type": "code",
   "execution_count": 18,
   "metadata": {},
   "outputs": [],
   "source": [
    "import numpy as np\n",
    "\n",
    "def find_peak_load(intervals: List[List[int]]):\n",
    "\n",
    "    l, r = -1, np.infty\n",
    "    \n",
    "    if len(intervals) == 0:\n",
    "        return (l, r)\n",
    "    else:\n",
    "        for interval in intervals:\n",
    "            cur_l, cur_r = interval\n",
    "            \n",
    "            if cur_l > l:\n",
    "                l = cur_l\n",
    "                \n",
    "            if cur_r < r:\n",
    "                r = cur_r\n",
    "                \n",
    "        return (l, r)\n",
    "    "
   ]
  },
  {
   "cell_type": "code",
   "execution_count": 19,
   "metadata": {},
   "outputs": [
    {
     "data": {
      "text/plain": [
       "(5, 6)"
      ]
     },
     "execution_count": 19,
     "metadata": {},
     "output_type": "execute_result"
    }
   ],
   "source": [
    "find_peak_load([[2, 10], [5, 6], [3, 8]])"
   ]
  },
  {
   "cell_type": "code",
   "execution_count": 20,
   "metadata": {},
   "outputs": [
    {
     "data": {
      "text/plain": [
       "(-1, inf)"
      ]
     },
     "execution_count": 20,
     "metadata": {},
     "output_type": "execute_result"
    }
   ],
   "source": [
    "find_peak_load([])"
   ]
  },
  {
   "cell_type": "markdown",
   "metadata": {},
   "source": [
    "**2-sum**"
   ]
  },
  {
   "cell_type": "code",
   "execution_count": 9,
   "metadata": {},
   "outputs": [],
   "source": [
    "def two_sum(nums: List[int], x: int) -> bool:\n",
    "    \n",
    "    nums.sort()\n",
    "    \n",
    "    if len(nums) <= 1:\n",
    "        return False\n",
    "    \n",
    "    i, j = 0, len(nums) - 1\n",
    "    \n",
    "    while i < j:\n",
    "        curr_sum = nums[i] + nums[j]\n",
    "        if curr_sum == x:\n",
    "            return True\n",
    "        \n",
    "        elif curr_sum < x:\n",
    "            i += 1\n",
    "        else:\n",
    "            j -= 1\n",
    "        \n",
    "    return False"
   ]
  },
  {
   "cell_type": "code",
   "execution_count": 11,
   "metadata": {},
   "outputs": [],
   "source": [
    "assert two_sum(nums=[0, 2, -4, 4, 6, 11, -7], x=7)\n",
    "assert two_sum(nums=[0, -1, 2, 4, 12, -6, 8, 15], x=8)"
   ]
  },
  {
   "cell_type": "markdown",
   "metadata": {},
   "source": [
    "**[Integer to English Words](https://leetcode.com/problems/integer-to-english-words/)**\n",
    "\n",
    "Convert a non-negative integer num to its English words representation."
   ]
  },
  {
   "cell_type": "code",
   "execution_count": 77,
   "metadata": {},
   "outputs": [],
   "source": [
    "digits = {'1': 'One', '2': 'Two', '3': 'Three', '4': 'Four', '5': 'Five',\n",
    "                 '6': 'Six', '7': 'Seven', '8': 'Eight', '9': 'Nine'}\n",
    "\n",
    "def numberToWordsUpToTwoDigits(str_num: str) -> str:\n",
    "            \n",
    "    teens = {'10': 'Ten', '11': 'Eleven', '12': 'Twelve', '13': 'Thirteen', '14': 'Fourteen', \n",
    "             '15': 'Fiveteen', '16': 'Sixteen', '17': 'Seventeen', '18': 'Eightteen', \n",
    "             '19': 'Nineteen'}\n",
    "\n",
    "    decades = {'2': 'Twenty', '3': 'Thirty', '4': 'Fourty', '5': 'Fifty', '6': 'Sixty',\n",
    "              '7': 'Seventy', '8': 'Eighty', '9': 'Ninety'}\n",
    "\n",
    "    if set(str_num) == {'0'}:\n",
    "        return \"\"\n",
    "    if str_num[0] == '0':\n",
    "        return digits[str_num[1]]\n",
    "    if str_num[0] == '1':\n",
    "        return teens[str_num]\n",
    "    else:\n",
    "        if str_num[1] == '0':\n",
    "            return decades[str_num[0]]\n",
    "        else:\n",
    "            return decades[str_num[0]] + \" \" + digits[str_num[1]]\n",
    "        \n",
    "def numberToWordsUpToThreeDigits(str_num: str) -> str:\n",
    "            \n",
    "    if set(str_num) == {'0'}:\n",
    "        return \"\"\n",
    "    if str_num[0] == '0':\n",
    "        return numberToWordsUpToTwoDigits(str_num[1:])\n",
    "\n",
    "    res = digits[str_num[0]] + \" Hundred \" + numberToWordsUpToTwoDigits(str_num[1:])\n",
    "    return res.strip()\n",
    "\n",
    "def numberToWords(num: int) -> str:\n",
    "    str_num = str(num)\n",
    "    rev_str_num = str_num[::-1]\n",
    "    res = []\n",
    "\n",
    "    scales = {'0': '', '3': 'Thousand', '6': 'Million', '9': 'Billion'}\n",
    "\n",
    "    for i in range(0, len(str_num), 3):\n",
    "        num = rev_str_num[i: i+3][::-1]\n",
    "        \n",
    "        if len(num) == 1:\n",
    "            curr_res = digits[num]\n",
    "                \n",
    "        elif len(num) == 2:\n",
    "            curr_res = numberToWordsUpToTwoDigits(num)\n",
    "\n",
    "        else:\n",
    "            curr_res = numberToWordsUpToThreeDigits(num)\n",
    "            \n",
    "        if i > 0:\n",
    "        \n",
    "            if num != '0' and num != '00' and num != '000':\n",
    "                curr_res = f\" {curr_res} {scales[str(i)]}\"\n",
    "                res.append(curr_res)\n",
    "        else:\n",
    "            if curr_res:\n",
    "                res.append(\" \" + curr_res)\n",
    "\n",
    "    return \"\".join(res[::-1]).strip()"
   ]
  },
  {
   "cell_type": "code",
   "execution_count": 78,
   "metadata": {},
   "outputs": [],
   "source": [
    "assert numberToWords('2000564321') == 'Two Billion Five Hundred Sixty Four Thousand Three Hundred Twenty One'\n",
    "assert numberToWords('100000') == 'One Hundred Thousand'"
   ]
  },
  {
   "cell_type": "markdown",
   "metadata": {},
   "source": [
    "**[819. Most Common Word](https://leetcode.com/problems/most-common-word/)**\n",
    "\n",
    "Given a string paragraph and a string array of the banned words banned, return the most frequent word that is not banned. It is guaranteed there is at least one word that is not banned, and that the answer is unique.\n",
    "\n",
    "The words in paragraph are case-insensitive and the answer should be returned in lowercase.\n",
    "\n",
    " "
   ]
  },
  {
   "cell_type": "code",
   "execution_count": 93,
   "metadata": {},
   "outputs": [],
   "source": [
    "def mostCommonWord(paragraph: str, banned: List[str]) -> str:\n",
    "    \n",
    "    for i in string.punctuation:\n",
    "        paragraph = paragraph.replace(i, ' ')\n",
    "        \n",
    "    freqs = Counter([el.strip(string.punctuation).lower() for el in paragraph.split()])\n",
    "\n",
    "    for word, freq in sorted(freqs.items(), key=lambda p: -p[1]):\n",
    "        if word not in banned:\n",
    "            return word"
   ]
  },
  {
   "cell_type": "code",
   "execution_count": 95,
   "metadata": {},
   "outputs": [],
   "source": [
    "assert mostCommonWord(paragraph=\"Bob hit a ball, the hit BALL flew far after it was hit.\", banned = [\"hit\"]) == 'ball'\n",
    "assert mostCommonWord(paragraph=\"a, a, a, a, b,b,b,c, c\", banned=[\"a\"]) == 'b'"
   ]
  },
  {
   "cell_type": "markdown",
   "metadata": {},
   "source": [
    "---\n",
    "**[15. 3sum](https://leetcode.com/problems/3sum/)**\n",
    "\n",
    "Given an integer array `nums`, return all the triplets `[nums[i], nums[j], nums[k]]` such that `i != j, i != k`, and `j != k`, and `nums[i] + nums[j] + nums[k] == 0`.\n",
    "\n",
    "Notice that the solution set must not contain duplicate triplets."
   ]
  },
  {
   "cell_type": "code",
   "execution_count": 96,
   "metadata": {},
   "outputs": [],
   "source": [
    "def threeSum(nums: List[int]) -> List[List[int]]:\n",
    "\n",
    "    inv_num_dict = {}\n",
    "\n",
    "    res, dups = set(), set()\n",
    "\n",
    "\n",
    "    for i, el in enumerate(nums):\n",
    "        if el in inv_num_dict:\n",
    "            inv_num_dict[el].append(i)\n",
    "        else:\n",
    "            inv_num_dict[el] = [i]\n",
    "\n",
    "    for i in range(len(nums)):\n",
    "        if nums[i] not in dups:\n",
    "            dups.add(nums[i])\n",
    "\n",
    "            for j in range(i+1, len(nums)):\n",
    "\n",
    "                complement = 0 - nums[i] - nums[j] \n",
    "\n",
    "                if complement in inv_num_dict:\n",
    "\n",
    "                    for id_k in inv_num_dict[complement]:\n",
    "                        if id_k != i and id_k != j:\n",
    "                            triple = [nums[i], nums[j], nums[id_k]]\n",
    "                            res.add(tuple(sorted(triple)))\n",
    "        return res"
   ]
  },
  {
   "cell_type": "code",
   "execution_count": null,
   "metadata": {},
   "outputs": [],
   "source": []
  }
 ],
 "metadata": {
  "kernelspec": {
   "display_name": "Python 3 (ipykernel)",
   "language": "python",
   "name": "python3"
  },
  "language_info": {
   "codemirror_mode": {
    "name": "ipython",
    "version": 3
   },
   "file_extension": ".py",
   "mimetype": "text/x-python",
   "name": "python",
   "nbconvert_exporter": "python",
   "pygments_lexer": "ipython3",
   "version": "3.10.4"
  }
 },
 "nbformat": 4,
 "nbformat_minor": 4
}
