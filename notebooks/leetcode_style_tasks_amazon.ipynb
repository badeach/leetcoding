{
 "cells": [
  {
   "cell_type": "markdown",
   "metadata": {},
   "source": [
    "[Geeks4geeks task](https://www.geeksforgeeks.org/count-pairs-array-whose-sum-less-x/)\n",
    "\n",
    "**Given a list of numbers and K, return the number of pairs where the sum of the pair is less than K.**"
   ]
  },
  {
   "cell_type": "markdown",
   "metadata": {},
   "source": [
    "brute-force solution"
   ]
  },
  {
   "cell_type": "code",
   "execution_count": 3,
   "metadata": {},
   "outputs": [],
   "source": [
    "from typing import List, Optional"
   ]
  },
  {
   "cell_type": "code",
   "execution_count": 11,
   "metadata": {},
   "outputs": [],
   "source": [
    "def my_func_brute_force(a_list: List[int], K: int):\n",
    "    num_pairs = 0\n",
    "    for i, el1 in enumerate(a_list):\n",
    "        for j, el2 in enumerate(a_list):\n",
    "            if i < j and el1 + el2 < K:\n",
    "                print(el1, el2)\n",
    "                num_pairs += 1\n",
    "    return num_pairs"
   ]
  },
  {
   "cell_type": "code",
   "execution_count": 13,
   "metadata": {},
   "outputs": [
    {
     "name": "stdout",
     "output_type": "stream",
     "text": [
      "0 1\n",
      "0 2\n",
      "0 3\n",
      "0 4\n",
      "1 2\n",
      "1 3\n"
     ]
    },
    {
     "data": {
      "text/plain": [
       "6"
      ]
     },
     "execution_count": 13,
     "metadata": {},
     "output_type": "execute_result"
    }
   ],
   "source": [
    "my_func_brute_force(a_list=range(10), K=5)"
   ]
  },
  {
   "cell_type": "code",
   "execution_count": 14,
   "metadata": {},
   "outputs": [
    {
     "data": {
      "text/plain": [
       "0"
      ]
     },
     "execution_count": 14,
     "metadata": {},
     "output_type": "execute_result"
    }
   ],
   "source": [
    "my_func_brute_force(a_list=range(1), K=5)"
   ]
  },
  {
   "cell_type": "markdown",
   "metadata": {},
   "source": [
    "linear solution"
   ]
  },
  {
   "cell_type": "code",
   "execution_count": 9,
   "metadata": {},
   "outputs": [],
   "source": [
    "def my_func_linear(a_list: List[int], K: int):\n",
    "    l, r = 0, len(a_list) - 1\n",
    "    num_pairs = 0\n",
    "    \n",
    "    while l < r:\n",
    "        \n",
    "        if a_list[l] + a_list[r] < K:\n",
    "            num_pairs += (r - l)\n",
    "            l += 1\n",
    "        else:\n",
    "            r -= 1\n",
    "    return num_pairs\n",
    "  "
   ]
  },
  {
   "cell_type": "code",
   "execution_count": 15,
   "metadata": {},
   "outputs": [
    {
     "data": {
      "text/plain": [
       "6"
      ]
     },
     "execution_count": 15,
     "metadata": {},
     "output_type": "execute_result"
    }
   ],
   "source": [
    "my_func_linear(a_list=range(10), K=5)"
   ]
  },
  {
   "cell_type": "code",
   "execution_count": 17,
   "metadata": {
    "scrolled": true
   },
   "outputs": [
    {
     "data": {
      "text/plain": [
       "1"
      ]
     },
     "execution_count": 17,
     "metadata": {},
     "output_type": "execute_result"
    }
   ],
   "source": [
    "my_func_linear(a_list=range(2), K=5)"
   ]
  },
  {
   "cell_type": "markdown",
   "metadata": {},
   "source": [
    "[Similar Task1](https://leetcode.com/discuss/interview-question/396248/Facebook-or-Phone-Screen-or-Point-in-max-overlapping-intervals), [Similar Task2](https://www.geeksforgeeks.org/find-the-point-where-maximum-intervals-overlap/)\n",
    "\n",
    "**Given login and logout times of users (in ints, e.g. [2, 10], [5, 8]) find the peak load interval.**"
   ]
  },
  {
   "cell_type": "code",
   "execution_count": 18,
   "metadata": {},
   "outputs": [],
   "source": [
    "import numpy as np\n",
    "\n",
    "def find_peak_load(intervals: List[List[int]]):\n",
    "\n",
    "    l, r = -1, np.infty\n",
    "    \n",
    "    if len(intervals) == 0:\n",
    "        return (l, r)\n",
    "    else:\n",
    "        for interval in intervals:\n",
    "            cur_l, cur_r = interval\n",
    "            \n",
    "            if cur_l > l:\n",
    "                l = cur_l\n",
    "                \n",
    "            if cur_r < r:\n",
    "                r = cur_r\n",
    "                \n",
    "        return (l, r)\n",
    "    "
   ]
  },
  {
   "cell_type": "code",
   "execution_count": 19,
   "metadata": {},
   "outputs": [
    {
     "data": {
      "text/plain": [
       "(5, 6)"
      ]
     },
     "execution_count": 19,
     "metadata": {},
     "output_type": "execute_result"
    }
   ],
   "source": [
    "find_peak_load([[2, 10], [5, 6], [3, 8]])"
   ]
  },
  {
   "cell_type": "code",
   "execution_count": 20,
   "metadata": {},
   "outputs": [
    {
     "data": {
      "text/plain": [
       "(-1, inf)"
      ]
     },
     "execution_count": 20,
     "metadata": {},
     "output_type": "execute_result"
    }
   ],
   "source": [
    "find_peak_load([])"
   ]
  },
  {
   "cell_type": "markdown",
   "metadata": {},
   "source": [
    "**2-sum**"
   ]
  },
  {
   "cell_type": "code",
   "execution_count": 9,
   "metadata": {},
   "outputs": [],
   "source": [
    "def two_sum(nums: List[int], x: int) -> bool:\n",
    "    \n",
    "    nums.sort()\n",
    "    \n",
    "    if len(nums) <= 1:\n",
    "        return False\n",
    "    \n",
    "    i, j = 0, len(nums) - 1\n",
    "    \n",
    "    while i < j:\n",
    "        curr_sum = nums[i] + nums[j]\n",
    "        if curr_sum == x:\n",
    "            return True\n",
    "        \n",
    "        elif curr_sum < x:\n",
    "            i += 1\n",
    "        else:\n",
    "            j -= 1\n",
    "        \n",
    "    return False"
   ]
  },
  {
   "cell_type": "code",
   "execution_count": 11,
   "metadata": {},
   "outputs": [],
   "source": [
    "assert two_sum(nums=[0, 2, -4, 4, 6, 11, -7], x=7)\n",
    "assert two_sum(nums=[0, -1, 2, 4, 12, -6, 8, 15], x=8)"
   ]
  },
  {
   "cell_type": "code",
   "execution_count": null,
   "metadata": {},
   "outputs": [],
   "source": []
  }
 ],
 "metadata": {
  "kernelspec": {
   "display_name": "Python 3 (ipykernel)",
   "language": "python",
   "name": "python3"
  },
  "language_info": {
   "codemirror_mode": {
    "name": "ipython",
    "version": 3
   },
   "file_extension": ".py",
   "mimetype": "text/x-python",
   "name": "python",
   "nbconvert_exporter": "python",
   "pygments_lexer": "ipython3",
   "version": "3.10.4"
  }
 },
 "nbformat": 4,
 "nbformat_minor": 4
}
