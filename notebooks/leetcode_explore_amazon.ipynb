{
 "cells": [
  {
   "cell_type": "markdown",
   "metadata": {},
   "source": [
    "# [Explore Amazon](https://leetcode.com/explore/interview/card/amazon/)\n",
    "\n",
    "Top interview questions asked by Amazon as voted by the community.\n",
    "\n",
    "We compiled this list thoroughly so you can save time and get well-prepared for an Amazon interview.\n",
    "\n",
    "Completing this card should give you a good idea of the type of questions you would encounter in your Amazon interview."
   ]
  },
  {
   "cell_type": "markdown",
   "metadata": {},
   "source": [
    "## Arrays and strings\n",
    "\n",
    "Amazon likes to ask simple, basic array questions. We highly recommend you to practice First Unique Character in a String, which is a popular question being asked. We also recommend Integer to English Words."
   ]
  },
  {
   "cell_type": "markdown",
   "metadata": {},
   "source": [
    "---\n",
    "**[1. Two Sum](https://leetcode.com/problems/two-sum/)**\n",
    "\n",
    "Given an array of integers nums and an integer target, return indices of the two numbers such that they add up to target.\n",
    "\n",
    "You may assume that each input would have exactly one solution, and you may not use the same element twice.\n",
    "\n",
    "You can return the answer in any order."
   ]
  },
  {
   "cell_type": "code",
   "execution_count": 9,
   "metadata": {},
   "outputs": [],
   "source": [
    "def two_sum(nums: List[int], x: int) -> bool:\n",
    "    \n",
    "    nums.sort()\n",
    "    \n",
    "    if len(nums) <= 1:\n",
    "        return False\n",
    "    \n",
    "    i, j = 0, len(nums) - 1\n",
    "    \n",
    "    while i < j:\n",
    "        curr_sum = nums[i] + nums[j]\n",
    "        if curr_sum == x:\n",
    "            return True\n",
    "        \n",
    "        elif curr_sum < x:\n",
    "            i += 1\n",
    "        else:\n",
    "            j -= 1\n",
    "        \n",
    "    return False"
   ]
  },
  {
   "cell_type": "code",
   "execution_count": 10,
   "metadata": {},
   "outputs": [],
   "source": [
    "assert two_sum(nums=[0, 2, -4, 4, 6, 11, -7], x=7)\n",
    "assert two_sum(nums=[0, -1, 2, 4, 12, -6, 8, 15], x=8)"
   ]
  },
  {
   "cell_type": "markdown",
   "metadata": {},
   "source": [
    "---\n",
    "**[273. Integer to English Words](https://leetcode.com/problems/integer-to-english-words/)**\n",
    "\n",
    "Convert a non-negative integer num to its English words representation."
   ]
  },
  {
   "cell_type": "code",
   "execution_count": 11,
   "metadata": {},
   "outputs": [],
   "source": [
    "digits = {'1': 'One', '2': 'Two', '3': 'Three', '4': 'Four', '5': 'Five',\n",
    "                 '6': 'Six', '7': 'Seven', '8': 'Eight', '9': 'Nine'}\n",
    "\n",
    "def numberToWordsUpToTwoDigits(str_num: str) -> str:\n",
    "            \n",
    "    teens = {'10': 'Ten', '11': 'Eleven', '12': 'Twelve', '13': 'Thirteen', '14': 'Fourteen', \n",
    "             '15': 'Fiveteen', '16': 'Sixteen', '17': 'Seventeen', '18': 'Eightteen', \n",
    "             '19': 'Nineteen'}\n",
    "\n",
    "    decades = {'2': 'Twenty', '3': 'Thirty', '4': 'Fourty', '5': 'Fifty', '6': 'Sixty',\n",
    "              '7': 'Seventy', '8': 'Eighty', '9': 'Ninety'}\n",
    "\n",
    "    if set(str_num) == {'0'}:\n",
    "        return \"\"\n",
    "    if str_num[0] == '0':\n",
    "        return digits[str_num[1]]\n",
    "    if str_num[0] == '1':\n",
    "        return teens[str_num]\n",
    "    else:\n",
    "        if str_num[1] == '0':\n",
    "            return decades[str_num[0]]\n",
    "        else:\n",
    "            return decades[str_num[0]] + \" \" + digits[str_num[1]]\n",
    "        \n",
    "def numberToWordsUpToThreeDigits(str_num: str) -> str:\n",
    "            \n",
    "    if set(str_num) == {'0'}:\n",
    "        return \"\"\n",
    "    if str_num[0] == '0':\n",
    "        return numberToWordsUpToTwoDigits(str_num[1:])\n",
    "\n",
    "    res = digits[str_num[0]] + \" Hundred \" + numberToWordsUpToTwoDigits(str_num[1:])\n",
    "    return res.strip()\n",
    "\n",
    "def numberToWords(num: int) -> str:\n",
    "    str_num = str(num)\n",
    "    rev_str_num = str_num[::-1]\n",
    "    res = []\n",
    "\n",
    "    scales = {'0': '', '3': 'Thousand', '6': 'Million', '9': 'Billion'}\n",
    "\n",
    "    for i in range(0, len(str_num), 3):\n",
    "        num = rev_str_num[i: i+3][::-1]\n",
    "        \n",
    "        if len(num) == 1:\n",
    "            curr_res = digits[num]\n",
    "                \n",
    "        elif len(num) == 2:\n",
    "            curr_res = numberToWordsUpToTwoDigits(num)\n",
    "\n",
    "        else:\n",
    "            curr_res = numberToWordsUpToThreeDigits(num)\n",
    "            \n",
    "        if i > 0:\n",
    "        \n",
    "            if num != '0' and num != '00' and num != '000':\n",
    "                curr_res = f\" {curr_res} {scales[str(i)]}\"\n",
    "                res.append(curr_res)\n",
    "        else:\n",
    "            if curr_res:\n",
    "                res.append(\" \" + curr_res)\n",
    "\n",
    "    return \"\".join(res[::-1]).strip()"
   ]
  },
  {
   "cell_type": "code",
   "execution_count": 12,
   "metadata": {},
   "outputs": [],
   "source": [
    "assert numberToWords('2000564321') == 'Two Billion Five Hundred Sixty Four Thousand Three Hundred Twenty One'\n",
    "assert numberToWords('100000') == 'One Hundred Thousand'"
   ]
  },
  {
   "cell_type": "markdown",
   "metadata": {},
   "source": [
    "---\n",
    "**[819. Most Common Word](https://leetcode.com/problems/most-common-word/)**\n",
    "\n",
    "Given a string paragraph and a string array of the banned words banned, return the most frequent word that is not banned. It is guaranteed there is at least one word that is not banned, and that the answer is unique.\n",
    "\n",
    "The words in paragraph are case-insensitive and the answer should be returned in lowercase.\n",
    "\n",
    " "
   ]
  },
  {
   "cell_type": "code",
   "execution_count": 13,
   "metadata": {},
   "outputs": [],
   "source": [
    "def mostCommonWord(paragraph: str, banned: List[str]) -> str:\n",
    "    \n",
    "    for i in string.punctuation:\n",
    "        paragraph = paragraph.replace(i, ' ')\n",
    "        \n",
    "    freqs = Counter([el.strip(string.punctuation).lower() for el in paragraph.split()])\n",
    "\n",
    "    for word, freq in sorted(freqs.items(), key=lambda p: -p[1]):\n",
    "        if word not in banned:\n",
    "            return word"
   ]
  },
  {
   "cell_type": "code",
   "execution_count": 14,
   "metadata": {},
   "outputs": [],
   "source": [
    "assert mostCommonWord(paragraph=\"Bob hit a ball, the hit BALL flew far after it was hit.\", banned = [\"hit\"]) == 'ball'\n",
    "assert mostCommonWord(paragraph=\"a, a, a, a, b,b,b,c, c\", banned=[\"a\"]) == 'b'"
   ]
  },
  {
   "cell_type": "markdown",
   "metadata": {},
   "source": [
    "---\n",
    "**[15. 3sum](https://leetcode.com/problems/3sum/)**\n",
    "\n",
    "Given an integer array `nums`, return all the triplets `[nums[i], nums[j], nums[k]]` such that `i != j, i != k`, and `j != k`, and `nums[i] + nums[j] + nums[k] == 0`.\n",
    "\n",
    "Notice that the solution set must not contain duplicate triplets."
   ]
  },
  {
   "cell_type": "code",
   "execution_count": 15,
   "metadata": {},
   "outputs": [],
   "source": [
    "def threeSum(nums: List[int]) -> List[List[int]]:\n",
    "\n",
    "    inv_num_dict = {}\n",
    "\n",
    "    res, dups = set(), set()\n",
    "\n",
    "\n",
    "    for i, el in enumerate(nums):\n",
    "        if el in inv_num_dict:\n",
    "            inv_num_dict[el].append(i)\n",
    "        else:\n",
    "            inv_num_dict[el] = [i]\n",
    "\n",
    "    for i in range(len(nums)):\n",
    "        if nums[i] not in dups:\n",
    "            dups.add(nums[i])\n",
    "\n",
    "            for j in range(i+1, len(nums)):\n",
    "\n",
    "                complement = 0 - nums[i] - nums[j] \n",
    "\n",
    "                if complement in inv_num_dict:\n",
    "\n",
    "                    for id_k in inv_num_dict[complement]:\n",
    "                        if id_k != i and id_k != j:\n",
    "                            triple = [nums[i], nums[j], nums[id_k]]\n",
    "                            res.add(tuple(sorted(triple)))\n",
    "        return res"
   ]
  },
  {
   "cell_type": "code",
   "execution_count": 16,
   "metadata": {},
   "outputs": [],
   "source": [
    "assert threeSum(nums=[-1,0,1,2,-1,-4]) == {(-1, -1, 2), (-1, 0, 1)}\n",
    "assert threeSum(nums=[0,1,1]) == set()"
   ]
  },
  {
   "cell_type": "markdown",
   "metadata": {},
   "source": [
    "---\n",
    "**[347. Top K Frequent Elements](https://leetcode.com/problems/top-k-frequent-elements/)**\n",
    "\n",
    "Given an integer array nums and an integer k, return the k most frequent elements. You may return the answer in any order."
   ]
  },
  {
   "cell_type": "markdown",
   "metadata": {},
   "source": [
    "First solution $O(n \\log n)$"
   ]
  },
  {
   "cell_type": "code",
   "execution_count": 17,
   "metadata": {},
   "outputs": [],
   "source": [
    "def topKFrequent(nums: List[int], k: int) -> List[int]:\n",
    "        \n",
    "    freqs = Counter(nums)\n",
    "\n",
    "    sorted_freqs = sorted(freqs.items(), key=lambda p: -p[1])\n",
    "\n",
    "    return [k for (k, v) in sorted_freqs[:k]]"
   ]
  },
  {
   "cell_type": "code",
   "execution_count": 18,
   "metadata": {},
   "outputs": [],
   "source": [
    "assert topKFrequent(nums=[1,1,1,2,2,3], k=2) == [1, 2]\n",
    "assert topKFrequent(nums=[1], k=1) == [1]"
   ]
  },
  {
   "cell_type": "markdown",
   "metadata": {},
   "source": [
    "Better"
   ]
  },
  {
   "cell_type": "code",
   "execution_count": 19,
   "metadata": {},
   "outputs": [],
   "source": [
    "import heapq"
   ]
  },
  {
   "cell_type": "code",
   "execution_count": 20,
   "metadata": {},
   "outputs": [],
   "source": [
    "def topKFrequent(nums: List[int], k: int) -> List[int]:\n",
    "        \n",
    "    res = []\n",
    "    freqs = Counter(nums)\n",
    "    inv_freqs = [(-v, k) for (k, v) in freqs.items()]\n",
    "    \n",
    "    heapq.heapify(inv_freqs)\n",
    "    \n",
    "    for _ in range(k):\n",
    "        \n",
    "        res.append(heapq.heappop(inv_freqs)[1])\n",
    "        \n",
    "    return res"
   ]
  },
  {
   "cell_type": "code",
   "execution_count": 21,
   "metadata": {},
   "outputs": [],
   "source": [
    "assert topKFrequent(nums=[1,1,1,2,2,3], k=2) == [1, 2]\n",
    "assert topKFrequent(nums=[1], k=1) == [1]"
   ]
  },
  {
   "cell_type": "markdown",
   "metadata": {},
   "source": [
    "---\n",
    "**[167. Two Sum II - Input Array Is Sorted](https://leetcode.com/problems/two-sum-ii-input-array-is-sorted/)** \n",
    "\n",
    "Input array is sorted.\n",
    "\n",
    "Given a 1-indexed array of integers numbers that is already sorted in non-decreasing order, find two numbers such that they add up to a specific target number. Let these two numbers be numbers[index1] and numbers[index2] where 1 <= index1 < index2 <= numbers.length.\n",
    "\n",
    "Return the indices of the two numbers, index1 and index2, added by one as an integer array [index1, index2] of length 2.\n",
    "\n",
    "The tests are generated such that there is exactly one solution. You may not use the same element twice.\n",
    "\n",
    "Your solution must use only constant extra space."
   ]
  },
  {
   "cell_type": "code",
   "execution_count": 22,
   "metadata": {},
   "outputs": [],
   "source": [
    "def twoSum(numbers: List[int], target: int) -> List[int]:\n",
    "\n",
    "    left, right = 0, len(numbers) - 1\n",
    "\n",
    "    while left < right:\n",
    "\n",
    "        if numbers[left] + numbers[right] == target:\n",
    "            return [left + 1, right + 1]\n",
    "        elif numbers[left] + numbers[right] < target:\n",
    "            left += 1\n",
    "        else:\n",
    "            right -=1\n",
    "\n",
    "    return -1"
   ]
  },
  {
   "cell_type": "code",
   "execution_count": 23,
   "metadata": {},
   "outputs": [],
   "source": [
    "assert twoSum(numbers=[2,7,11,15], target=9) == [1, 2]\n",
    "assert twoSum(numbers=[2,3,4], target=6) == [1, 3]\n",
    "assert twoSum(numbers=[-1,0], target=-1) == [1, 2]"
   ]
  },
  {
   "cell_type": "markdown",
   "metadata": {},
   "source": [
    "---\n",
    "**[12. Integer to Roman](https://leetcode.com/problems/integer-to-roman/)**\n",
    "\n",
    "Roman numerals are represented by seven different symbols: I, V, X, L, C, D and M.\n",
    "\n",
    "For example, 2 is written as II in Roman numeral, just two one's added together. 12 is written as XII, which is simply X + II. The number 27 is written as XXVII, which is XX + V + II.\n",
    "\n",
    "Roman numerals are usually written largest to smallest from left to right. However, the numeral for four is not IIII. Instead, the number four is written as IV. Because the one is before the five we subtract it making four. The same principle applies to the number nine, which is written as IX. There are six instances where subtraction is used:\n",
    "\n",
    "I can be placed before V (5) and X (10) to make 4 and 9. \n",
    "X can be placed before L (50) and C (100) to make 40 and 90. \n",
    "C can be placed before D (500) and M (1000) to make 400 and 900.\n",
    "Given an integer, convert it to a roman numeral."
   ]
  },
  {
   "cell_type": "code",
   "execution_count": 109,
   "metadata": {},
   "outputs": [],
   "source": [
    "def intToRoman(num: int) -> str:\n",
    "\n",
    "    symb_dict = {1: 'I', 5: 'V', 10: 'X', 50: 'L', 100: 'C', 500: 'D', 1000: 'M'}\n",
    "    combs_dict = {4: 'IV', 9: 'IX', 40: 'XL', 90: 'XC', 400: 'CD', 900: 'CM'}\n",
    "\n",
    "    res = \"\"\n",
    "\n",
    "    for i, digit in enumerate(str(num)):\n",
    "\n",
    "        digit = int(digit)\n",
    "\n",
    "        scale = len(str(num)) - i - 1\n",
    "\n",
    "        if digit * 10 ** scale in combs_dict:\n",
    "            res += combs_dict[digit * 10 ** scale]\n",
    "        elif digit * 10 ** scale in symb_dict:\n",
    "            res += symb_dict[digit * 10 ** scale]\n",
    "        else:\n",
    "            if digit >= 5:\n",
    "                res += symb_dict[5 * 10 ** scale] \n",
    "                res += symb_dict[10 ** scale] * (digit - 5)\n",
    "            else:\n",
    "                res += symb_dict[10 ** scale] * digit\n",
    "\n",
    "    return res"
   ]
  },
  {
   "cell_type": "code",
   "execution_count": 110,
   "metadata": {},
   "outputs": [],
   "source": [
    "assert intToRoman(3) == 'III'\n",
    "assert intToRoman(58) == \"LVIII\"\n",
    "assert intToRoman(1994) == 'MCMXCIV'"
   ]
  },
  {
   "cell_type": "markdown",
   "metadata": {},
   "source": [
    "---\n",
    "**[937. Reorder Data in Log Files](https://leetcode.com/problems/reorder-data-in-log-files/)**\n",
    "\n",
    "You are given an array of logs. Each log is a space-delimited string of words, where the first word is the identifier.\n",
    "\n",
    "There are two types of logs:\n",
    "\n",
    "- Letter-logs: All words (except the identifier) consist of lowercase English letters.\n",
    "- Digit-logs: All words (except the identifier) consist of digits.\n",
    "\n",
    "Reorder these logs so that:\n",
    "\n",
    "- The letter-logs come before all digit-logs.\n",
    "- The letter-logs are sorted lexicographically by their contents. If their contents are the same, then sort them lexicographically by their identifiers.\n",
    "- The digit-logs maintain their relative ordering.\n",
    "\n",
    "Return the final order of the logs."
   ]
  },
  {
   "cell_type": "code",
   "execution_count": 111,
   "metadata": {},
   "outputs": [],
   "source": [
    "def reorderLogFiles(logs: List[str]) -> List[str]:\n",
    "\n",
    "    def is_digit_log(log: str):\n",
    "        for el in log.split()[1:]:\n",
    "            # ugly but works\n",
    "            try:\n",
    "                int(el)\n",
    "            except ValueError:\n",
    "                return False\n",
    "        return True\n",
    "\n",
    "\n",
    "    digit_logs, letter_logs = [], []\n",
    "\n",
    "    for log in logs:\n",
    "        if is_digit_log(log):\n",
    "            digit_logs.append(log)\n",
    "        else:\n",
    "            letter_logs.append(log)\n",
    "\n",
    "    res = sorted(letter_logs, key=lambda s: (\" \".join(s.split()[1:]), s.split()[0])) + digit_logs\n",
    "\n",
    "    return res\n"
   ]
  },
  {
   "cell_type": "code",
   "execution_count": null,
   "metadata": {},
   "outputs": [],
   "source": [
    "assert reorderLogFiles(logs=[\"dig1 8 1 5 1\",\"let1 art can\",\"dig2 3 6\",\"let2 own kit dig\",\"let3 art zero\"])"
   ]
  },
  {
   "cell_type": "markdown",
   "metadata": {},
   "source": [
    "## Design\n",
    "\n",
    "These are some design questions for you to practice for your Amazon interview. We highly recommend LRU Cache."
   ]
  },
  {
   "cell_type": "markdown",
   "metadata": {},
   "source": [
    "---\n",
    "**[146. LRU Cache](https://leetcode.com/problems/lru-cache/)**\n",
    "\n",
    "Design a data structure that follows the constraints of a Least Recently Used (LRU) cache.\n",
    "\n",
    "Implement the `LRUCache` class:\n",
    "\n",
    "- `LRUCache(int capacity)` Initialize the LRU cache with positive size capacity.\n",
    "- `int get(int key)` Return the value of the key if the key exists, otherwise return -1.\n",
    "- `void put(int key, int value)` Update the value of the key if the key exists. Otherwise, add the key-value pair to the cache. If the number of keys exceeds the capacity from this operation, evict the least recently used key.\n",
    "\n",
    "The functions get and put must each run in $O(1)$ average time complexity."
   ]
  },
  {
   "cell_type": "markdown",
   "metadata": {},
   "source": [
    "_Slow_"
   ]
  },
  {
   "cell_type": "code",
   "execution_count": 2,
   "metadata": {},
   "outputs": [],
   "source": [
    "class LRUCache:\n",
    "\n",
    "    def __init__(self, capacity: int):\n",
    "        self.capacity = capacity\n",
    "        self.data = {}\n",
    "        self.queue = []\n",
    "\n",
    "    def get(self, key: int) -> int:\n",
    "        \n",
    "        if key in self.data:\n",
    "            self.queue.remove(key)\n",
    "            self.queue.append(key)\n",
    "            return self.data[key]\n",
    "        else:\n",
    "            return -1\n",
    "        \n",
    "\n",
    "    def put(self, key: int, value: int) -> None:\n",
    "\n",
    "        if len(self.data) == self.capacity:\n",
    "            if key not in self.data:\n",
    "                old_key = self.queue.pop(0)\n",
    "                del self.data[old_key]\n",
    "        \n",
    "        \n",
    "        self.data[key] = value\n",
    "        if key in self.queue:\n",
    "            self.queue.remove(key)\n",
    "        self.queue.append(key)"
   ]
  },
  {
   "cell_type": "code",
   "execution_count": 3,
   "metadata": {},
   "outputs": [],
   "source": [
    "lRUCache = LRUCache(capacity=2)\n",
    "lRUCache.put(1, 1)\n",
    "#print(lRUCache.data, lRUCache.queue)\n",
    "lRUCache.put(2, 2)\n",
    "#print(lRUCache.data, lRUCache.queue)\n",
    "#print(lRUCache.get(1))\n",
    "lRUCache.put(3, 3)\n",
    "#print(lRUCache.get(2))\n",
    "lRUCache.put(4, 4)\n",
    "#print(lRUCache.get(1)) \n",
    "#print(lRUCache.get(3))\n",
    "assert lRUCache.get(4) == 4"
   ]
  },
  {
   "cell_type": "code",
   "execution_count": 4,
   "metadata": {},
   "outputs": [],
   "source": [
    "lRUCache = LRUCache(capacity=2)\n",
    "#print(lRUCache.get(2)) \n",
    "lRUCache.put(2, 6)\n",
    "#print(lRUCache.data, lRUCache.queue)\n",
    "#print(lRUCache.get(1)) \n",
    "lRUCache.put(1, 5)\n",
    "#print(lRUCache.data, lRUCache.queue)\n",
    "lRUCache.put(1, 2)\n",
    "#print(lRUCache.data, lRUCache.queue)\n",
    "#print(lRUCache.get(1)) \n",
    "assert lRUCache.get(2) == 6"
   ]
  },
  {
   "cell_type": "code",
   "execution_count": 5,
   "metadata": {},
   "outputs": [],
   "source": [
    "lRUCache = LRUCache(capacity=2)\n",
    "lRUCache.put(2, 1)\n",
    "#print(lRUCache.data, lRUCache.queue)\n",
    "lRUCache.put(1, 1)\n",
    "#print(lRUCache.data, lRUCache.queue)\n",
    "lRUCache.put(1, 2)\n",
    "#print(lRUCache.data, lRUCache.queue)\n",
    "lRUCache.put(2,3)\n",
    "#print(lRUCache.data, lRUCache.queue)\n",
    "lRUCache.put(4, 1)\n",
    "#print(lRUCache.data, lRUCache.queue)\n",
    "#print(lRUCache.get(1)) \n",
    "assert lRUCache.get(2) == 3"
   ]
  },
  {
   "cell_type": "markdown",
   "metadata": {},
   "source": [
    "_Faster_"
   ]
  },
  {
   "cell_type": "code",
   "execution_count": 59,
   "metadata": {},
   "outputs": [],
   "source": [
    "from sortedcontainers import SortedDict"
   ]
  },
  {
   "cell_type": "code",
   "execution_count": 82,
   "metadata": {},
   "outputs": [],
   "source": [
    "class LRUCache:\n",
    "\n",
    "    def __init__(self, capacity: int):\n",
    "        self.capacity = capacity\n",
    "        self.data = {}\n",
    "        self.freqs = {}\n",
    "        self.inv_freqs = SortedDict({})\n",
    "\n",
    "    def get(self, key: int) -> int:\n",
    "        \n",
    "        if key in self.data:\n",
    "            \n",
    "            old_freq = self.freqs[key]\n",
    "            if self.inv_freqs:\n",
    "                self.freqs[key] = self.inv_freqs.keys()[-1] + 1\n",
    "            else:\n",
    "                self.freqs[key] = 1\n",
    "            if old_freq in self.inv_freqs:\n",
    "                del self.inv_freqs[old_freq]\n",
    "            self.inv_freqs[self.freqs[key]] = key\n",
    "            return self.data[key]\n",
    "        else:\n",
    "            return -1\n",
    "        \n",
    "\n",
    "    def put(self, key: int, value: int) -> None:\n",
    "\n",
    "        if len(self.data) == self.capacity:\n",
    "            if key not in self.data:\n",
    "                least_freq = self.inv_freqs.keys()[0]\n",
    "                least_freq_elem = self.inv_freqs[least_freq]\n",
    "                del self.data[least_freq_elem]\n",
    "                del self.inv_freqs[least_freq]\n",
    "                del self.freqs[least_freq_elem]\n",
    "                              \n",
    "        \n",
    "        \n",
    "        self.data[key] = value\n",
    "        \n",
    "        old_freq = self.freqs.get(key, -1)\n",
    "        if self.inv_freqs:\n",
    "            self.freqs[key] = self.inv_freqs.keys()[-1] + 1\n",
    "        else:\n",
    "            self.freqs[key] = 1\n",
    "        if old_freq != -1:\n",
    "            del self.inv_freqs[old_freq]\n",
    "        self.inv_freqs[self.freqs[key]] = key"
   ]
  },
  {
   "cell_type": "code",
   "execution_count": 6,
   "metadata": {},
   "outputs": [],
   "source": [
    "lRUCache = LRUCache(capacity=2)\n",
    "lRUCache.put(1, 1)\n",
    "#print(lRUCache.data, lRUCache.freqs, lRUCache.inv_freqs)\n",
    "lRUCache.put(2, 2)\n",
    "#print(lRUCache.data, lRUCache.freqs, lRUCache.inv_freqs)\n",
    "#print(lRUCache.get(1))\n",
    "lRUCache.put(3, 3)\n",
    "#print(lRUCache.get(2))\n",
    "lRUCache.put(4, 4)\n",
    "#print(lRUCache.get(1)) \n",
    "#print(lRUCache.get(3))\n",
    "assert lRUCache.get(4) == 4"
   ]
  },
  {
   "cell_type": "code",
   "execution_count": 7,
   "metadata": {},
   "outputs": [],
   "source": [
    "lRUCache = LRUCache(capacity=2)\n",
    "#print(lRUCache.get(2)) \n",
    "lRUCache.put(2, 6)\n",
    "#print(lRUCache.data, lRUCache.freqs, lRUCache.inv_freqs)\n",
    "#print(lRUCache.get(1)) \n",
    "lRUCache.put(1, 5)\n",
    "#print(lRUCache.data, lRUCache.freqs, lRUCache.inv_freqs)\n",
    "lRUCache.put(1, 2)\n",
    "#print(lRUCache.data, lRUCache.freqs, lRUCache.inv_freqs)\n",
    "#print(lRUCache.get(1)) \n",
    "assert lRUCache.get(2) == 6"
   ]
  },
  {
   "cell_type": "markdown",
   "metadata": {},
   "source": [
    "Much nicer"
   ]
  },
  {
   "cell_type": "code",
   "execution_count": 86,
   "metadata": {},
   "outputs": [],
   "source": [
    "from collections import OrderedDict\n",
    "class LRUCache(OrderedDict):\n",
    "\n",
    "    def __init__(self, capacity):\n",
    "        \"\"\"\n",
    "        :type capacity: int\n",
    "        \"\"\"\n",
    "        self.capacity = capacity\n",
    "\n",
    "    def get(self, key):\n",
    "        \"\"\"\n",
    "        :type key: int\n",
    "        :rtype: int\n",
    "        \"\"\"\n",
    "        if key not in self:\n",
    "            return - 1\n",
    "        \n",
    "        self.move_to_end(key)\n",
    "        return self[key]\n",
    "\n",
    "    def put(self, key, value):\n",
    "        \"\"\"\n",
    "        :type key: int\n",
    "        :type value: int\n",
    "        :rtype: void\n",
    "        \"\"\"\n",
    "        if key in self:\n",
    "            self.move_to_end(key)\n",
    "        self[key] = value\n",
    "        if len(self) > self.capacity:\n",
    "            self.popitem(last = False)"
   ]
  },
  {
   "cell_type": "code",
   "execution_count": 90,
   "metadata": {},
   "outputs": [],
   "source": [
    "class DLinkedNode(): \n",
    "    def __init__(self):\n",
    "        self.key = 0\n",
    "        self.value = 0\n",
    "        self.prev = None\n",
    "        self.next = None\n",
    "            \n",
    "class LRUCache():\n",
    "    def _add_node(self, node):\n",
    "        \"\"\"\n",
    "        Always add the new node right after head.\n",
    "        \"\"\"\n",
    "        node.prev = self.head\n",
    "        node.next = self.head.next\n",
    "\n",
    "        self.head.next.prev = node\n",
    "        self.head.next = node\n",
    "\n",
    "    def _remove_node(self, node):\n",
    "        \"\"\"\n",
    "        Remove an existing node from the linked list.\n",
    "        \"\"\"\n",
    "        prev = node.prev\n",
    "        new = node.next\n",
    "\n",
    "        prev.next = new\n",
    "        new.prev = prev\n",
    "\n",
    "    def _move_to_head(self, node):\n",
    "        \"\"\"\n",
    "        Move certain node in between to the head.\n",
    "        \"\"\"\n",
    "        self._remove_node(node)\n",
    "        self._add_node(node)\n",
    "\n",
    "    def _pop_tail(self):\n",
    "        \"\"\"\n",
    "        Pop the current tail.\n",
    "        \"\"\"\n",
    "        res = self.tail.prev\n",
    "        self._remove_node(res)\n",
    "        return res\n",
    "\n",
    "    def __init__(self, capacity):\n",
    "        \"\"\"\n",
    "        :type capacity: int\n",
    "        \"\"\"\n",
    "        self.cache = {}\n",
    "        self.size = 0\n",
    "        self.capacity = capacity\n",
    "        self.head, self.tail = DLinkedNode(), DLinkedNode()\n",
    "\n",
    "        self.head.next = self.tail\n",
    "        self.tail.prev = self.head\n",
    "        \n",
    "\n",
    "    def get(self, key):\n",
    "        \"\"\"\n",
    "        :type key: int\n",
    "        :rtype: int\n",
    "        \"\"\"\n",
    "        node = self.cache.get(key, None)\n",
    "        if not node:\n",
    "            return -1\n",
    "\n",
    "        # move the accessed node to the head;\n",
    "        self._move_to_head(node)\n",
    "\n",
    "        return node.value\n",
    "\n",
    "    def put(self, key, value):\n",
    "        \"\"\"\n",
    "        :type key: int\n",
    "        :type value: int\n",
    "        :rtype: void\n",
    "        \"\"\"\n",
    "        node = self.cache.get(key)\n",
    "\n",
    "        if not node: \n",
    "            newNode = DLinkedNode()\n",
    "            newNode.key = key\n",
    "            newNode.value = value\n",
    "\n",
    "            self.cache[key] = newNode\n",
    "            self._add_node(newNode)\n",
    "\n",
    "            self.size += 1\n",
    "\n",
    "            if self.size > self.capacity:\n",
    "                # pop the tail\n",
    "                tail = self._pop_tail()\n",
    "                del self.cache[tail.key]\n",
    "                self.size -= 1\n",
    "        else:\n",
    "            # update the value.\n",
    "            node.value = value\n",
    "            self._move_to_head(node)"
   ]
  },
  {
   "cell_type": "code",
   "execution_count": 8,
   "metadata": {},
   "outputs": [],
   "source": [
    "lRUCache = LRUCache(capacity=2)\n",
    "lRUCache.put(1, 1)\n",
    "lRUCache.put(2, 2)\n",
    "#print(lRUCache.get(1))\n",
    "lRUCache.put(3, 3)\n",
    "#print(lRUCache.get(2))\n",
    "lRUCache.put(4, 4)\n",
    "#print(lRUCache.get(1)) \n",
    "#print(lRUCache.get(3))\n",
    "assert lRUCache.get(4) == 4"
   ]
  },
  {
   "cell_type": "code",
   "execution_count": null,
   "metadata": {},
   "outputs": [],
   "source": []
  }
 ],
 "metadata": {
  "kernelspec": {
   "display_name": "Python 3 (ipykernel)",
   "language": "python",
   "name": "python3"
  },
  "language_info": {
   "codemirror_mode": {
    "name": "ipython",
    "version": 3
   },
   "file_extension": ".py",
   "mimetype": "text/x-python",
   "name": "python",
   "nbconvert_exporter": "python",
   "pygments_lexer": "ipython3",
   "version": "3.10.4"
  }
 },
 "nbformat": 4,
 "nbformat_minor": 4
}
