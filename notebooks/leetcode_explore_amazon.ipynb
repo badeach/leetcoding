{
 "cells": [
  {
   "cell_type": "markdown",
   "metadata": {},
   "source": [
    "# [Explore Amazon](https://leetcode.com/explore/interview/card/amazon/)\n",
    "\n",
    "Top interview questions asked by Amazon as voted by the community.\n",
    "\n",
    "We compiled this list thoroughly so you can save time and get well-prepared for an Amazon interview.\n",
    "\n",
    "Completing this card should give you a good idea of the type of questions you would encounter in your Amazon interview."
   ]
  },
  {
   "cell_type": "markdown",
   "metadata": {},
   "source": [
    "## Arrays and strings\n",
    "\n",
    "Amazon likes to ask simple, basic array questions. We highly recommend you to practice First Unique Character in a String, which is a popular question being asked. We also recommend Integer to English Words."
   ]
  },
  {
   "cell_type": "markdown",
   "metadata": {},
   "source": [
    "---\n",
    "**[1. Two Sum](https://leetcode.com/problems/two-sum/)**\n",
    "\n",
    "Given an array of integers nums and an integer target, return indices of the two numbers such that they add up to target.\n",
    "\n",
    "You may assume that each input would have exactly one solution, and you may not use the same element twice.\n",
    "\n",
    "You can return the answer in any order."
   ]
  },
  {
   "cell_type": "code",
   "execution_count": 1,
   "metadata": {},
   "outputs": [],
   "source": [
    "import string\n",
    "from typing import List, Optional\n",
    "from collections import Counter"
   ]
  },
  {
   "cell_type": "code",
   "execution_count": 2,
   "metadata": {},
   "outputs": [],
   "source": [
    "def two_sum(nums: List[int], x: int) -> bool:\n",
    "    \n",
    "    nums.sort()\n",
    "    \n",
    "    if len(nums) <= 1:\n",
    "        return False\n",
    "    \n",
    "    i, j = 0, len(nums) - 1\n",
    "    \n",
    "    while i < j:\n",
    "        curr_sum = nums[i] + nums[j]\n",
    "        if curr_sum == x:\n",
    "            return True\n",
    "        \n",
    "        elif curr_sum < x:\n",
    "            i += 1\n",
    "        else:\n",
    "            j -= 1\n",
    "        \n",
    "    return False"
   ]
  },
  {
   "cell_type": "code",
   "execution_count": 3,
   "metadata": {},
   "outputs": [],
   "source": [
    "assert two_sum(nums=[0, 2, -4, 4, 6, 11, -7], x=7)\n",
    "assert two_sum(nums=[0, -1, 2, 4, 12, -6, 8, 15], x=8)"
   ]
  },
  {
   "cell_type": "markdown",
   "metadata": {},
   "source": [
    "---\n",
    "**[273. Integer to English Words](https://leetcode.com/problems/integer-to-english-words/) (Recommended)**\n",
    "\n",
    "Convert a non-negative integer num to its English words representation."
   ]
  },
  {
   "cell_type": "code",
   "execution_count": 4,
   "metadata": {},
   "outputs": [],
   "source": [
    "digits = {'1': 'One', '2': 'Two', '3': 'Three', '4': 'Four', '5': 'Five',\n",
    "                 '6': 'Six', '7': 'Seven', '8': 'Eight', '9': 'Nine'}\n",
    "\n",
    "def numberToWordsUpToTwoDigits(str_num: str) -> str:\n",
    "            \n",
    "    teens = {'10': 'Ten', '11': 'Eleven', '12': 'Twelve', '13': 'Thirteen', '14': 'Fourteen', \n",
    "             '15': 'Fiveteen', '16': 'Sixteen', '17': 'Seventeen', '18': 'Eightteen', \n",
    "             '19': 'Nineteen'}\n",
    "\n",
    "    decades = {'2': 'Twenty', '3': 'Thirty', '4': 'Fourty', '5': 'Fifty', '6': 'Sixty',\n",
    "              '7': 'Seventy', '8': 'Eighty', '9': 'Ninety'}\n",
    "\n",
    "    if set(str_num) == {'0'}:\n",
    "        return \"\"\n",
    "    if str_num[0] == '0':\n",
    "        return digits[str_num[1]]\n",
    "    if str_num[0] == '1':\n",
    "        return teens[str_num]\n",
    "    else:\n",
    "        if str_num[1] == '0':\n",
    "            return decades[str_num[0]]\n",
    "        else:\n",
    "            return decades[str_num[0]] + \" \" + digits[str_num[1]]\n",
    "        \n",
    "def numberToWordsUpToThreeDigits(str_num: str) -> str:\n",
    "            \n",
    "    if set(str_num) == {'0'}:\n",
    "        return \"\"\n",
    "    if str_num[0] == '0':\n",
    "        return numberToWordsUpToTwoDigits(str_num[1:])\n",
    "\n",
    "    res = digits[str_num[0]] + \" Hundred \" + numberToWordsUpToTwoDigits(str_num[1:])\n",
    "    return res.strip()\n",
    "\n",
    "def numberToWords(num: int) -> str:\n",
    "    str_num = str(num)\n",
    "    rev_str_num = str_num[::-1]\n",
    "    res = []\n",
    "\n",
    "    scales = {'0': '', '3': 'Thousand', '6': 'Million', '9': 'Billion'}\n",
    "\n",
    "    for i in range(0, len(str_num), 3):\n",
    "        num = rev_str_num[i: i+3][::-1]\n",
    "        \n",
    "        if len(num) == 1:\n",
    "            curr_res = digits[num]\n",
    "                \n",
    "        elif len(num) == 2:\n",
    "            curr_res = numberToWordsUpToTwoDigits(num)\n",
    "\n",
    "        else:\n",
    "            curr_res = numberToWordsUpToThreeDigits(num)\n",
    "            \n",
    "        if i > 0:\n",
    "        \n",
    "            if num != '0' and num != '00' and num != '000':\n",
    "                curr_res = f\" {curr_res} {scales[str(i)]}\"\n",
    "                res.append(curr_res)\n",
    "        else:\n",
    "            if curr_res:\n",
    "                res.append(\" \" + curr_res)\n",
    "\n",
    "    return \"\".join(res[::-1]).strip()"
   ]
  },
  {
   "cell_type": "code",
   "execution_count": 5,
   "metadata": {},
   "outputs": [],
   "source": [
    "assert numberToWords('2000564321') == 'Two Billion Five Hundred Sixty Four Thousand Three Hundred Twenty One'\n",
    "assert numberToWords('100000') == 'One Hundred Thousand'"
   ]
  },
  {
   "cell_type": "markdown",
   "metadata": {},
   "source": [
    "---\n",
    "**[819. Most Common Word](https://leetcode.com/problems/most-common-word/)**\n",
    "\n",
    "Given a string paragraph and a string array of the banned words banned, return the most frequent word that is not banned. It is guaranteed there is at least one word that is not banned, and that the answer is unique.\n",
    "\n",
    "The words in paragraph are case-insensitive and the answer should be returned in lowercase.\n",
    "\n",
    " "
   ]
  },
  {
   "cell_type": "code",
   "execution_count": 6,
   "metadata": {},
   "outputs": [],
   "source": [
    "def mostCommonWord(paragraph: str, banned: List[str]) -> str:\n",
    "    \n",
    "    for i in string.punctuation:\n",
    "        paragraph = paragraph.replace(i, ' ')\n",
    "        \n",
    "    freqs = Counter([el.strip(string.punctuation).lower() for el in paragraph.split()])\n",
    "\n",
    "    for word, freq in sorted(freqs.items(), key=lambda p: -p[1]):\n",
    "        if word not in banned:\n",
    "            return word"
   ]
  },
  {
   "cell_type": "code",
   "execution_count": 7,
   "metadata": {},
   "outputs": [],
   "source": [
    "assert mostCommonWord(paragraph=\"Bob hit a ball, the hit BALL flew far after it was hit.\", banned = [\"hit\"]) == 'ball'\n",
    "assert mostCommonWord(paragraph=\"a, a, a, a, b,b,b,c, c\", banned=[\"a\"]) == 'b'"
   ]
  },
  {
   "cell_type": "markdown",
   "metadata": {},
   "source": [
    "---\n",
    "**[15. 3sum](https://leetcode.com/problems/3sum/)**\n",
    "\n",
    "Given an integer array `nums`, return all the triplets `[nums[i], nums[j], nums[k]]` such that `i != j, i != k`, and `j != k`, and `nums[i] + nums[j] + nums[k] == 0`.\n",
    "\n",
    "Notice that the solution set must not contain duplicate triplets."
   ]
  },
  {
   "cell_type": "code",
   "execution_count": 8,
   "metadata": {},
   "outputs": [],
   "source": [
    "def threeSum(nums: List[int]) -> List[List[int]]:\n",
    "\n",
    "    inv_num_dict = {}\n",
    "\n",
    "    res, dups = set(), set()\n",
    "\n",
    "\n",
    "    for i, el in enumerate(nums):\n",
    "        if el in inv_num_dict:\n",
    "            inv_num_dict[el].append(i)\n",
    "        else:\n",
    "            inv_num_dict[el] = [i]\n",
    "\n",
    "    for i in range(len(nums)):\n",
    "        if nums[i] not in dups:\n",
    "            dups.add(nums[i])\n",
    "\n",
    "            for j in range(i+1, len(nums)):\n",
    "\n",
    "                complement = 0 - nums[i] - nums[j] \n",
    "\n",
    "                if complement in inv_num_dict:\n",
    "\n",
    "                    for id_k in inv_num_dict[complement]:\n",
    "                        if id_k != i and id_k != j:\n",
    "                            triple = [nums[i], nums[j], nums[id_k]]\n",
    "                            res.add(tuple(sorted(triple)))\n",
    "        return res"
   ]
  },
  {
   "cell_type": "code",
   "execution_count": 9,
   "metadata": {},
   "outputs": [],
   "source": [
    "assert threeSum(nums=[-1,0,1,2,-1,-4]) == {(-1, -1, 2), (-1, 0, 1)}\n",
    "assert threeSum(nums=[0,1,1]) == set()"
   ]
  },
  {
   "cell_type": "markdown",
   "metadata": {},
   "source": [
    "---\n",
    "**[347. Top K Frequent Elements](https://leetcode.com/problems/top-k-frequent-elements/)**\n",
    "\n",
    "Given an integer array nums and an integer k, return the k most frequent elements. You may return the answer in any order."
   ]
  },
  {
   "cell_type": "markdown",
   "metadata": {},
   "source": [
    "First solution $O(n \\log n)$"
   ]
  },
  {
   "cell_type": "code",
   "execution_count": 10,
   "metadata": {},
   "outputs": [],
   "source": [
    "def topKFrequent(nums: List[int], k: int) -> List[int]:\n",
    "        \n",
    "    freqs = Counter(nums)\n",
    "\n",
    "    sorted_freqs = sorted(freqs.items(), key=lambda p: -p[1])\n",
    "\n",
    "    return [k for (k, v) in sorted_freqs[:k]]"
   ]
  },
  {
   "cell_type": "code",
   "execution_count": 11,
   "metadata": {},
   "outputs": [],
   "source": [
    "assert topKFrequent(nums=[1,1,1,2,2,3], k=2) == [1, 2]\n",
    "assert topKFrequent(nums=[1], k=1) == [1]"
   ]
  },
  {
   "cell_type": "markdown",
   "metadata": {},
   "source": [
    "Better"
   ]
  },
  {
   "cell_type": "code",
   "execution_count": 12,
   "metadata": {},
   "outputs": [],
   "source": [
    "import heapq"
   ]
  },
  {
   "cell_type": "code",
   "execution_count": 13,
   "metadata": {},
   "outputs": [],
   "source": [
    "def topKFrequent(nums: List[int], k: int) -> List[int]:\n",
    "        \n",
    "    res = []\n",
    "    freqs = Counter(nums)\n",
    "    inv_freqs = [(-v, k) for (k, v) in freqs.items()]\n",
    "    \n",
    "    heapq.heapify(inv_freqs)\n",
    "    \n",
    "    for _ in range(k):\n",
    "        \n",
    "        res.append(heapq.heappop(inv_freqs)[1])\n",
    "        \n",
    "    return res"
   ]
  },
  {
   "cell_type": "code",
   "execution_count": 14,
   "metadata": {},
   "outputs": [],
   "source": [
    "assert topKFrequent(nums=[1,1,1,2,2,3], k=2) == [1, 2]\n",
    "assert topKFrequent(nums=[1], k=1) == [1]"
   ]
  },
  {
   "cell_type": "markdown",
   "metadata": {},
   "source": [
    "---\n",
    "**[167. Two Sum II - Input Array Is Sorted](https://leetcode.com/problems/two-sum-ii-input-array-is-sorted/)** \n",
    "\n",
    "Input array is sorted.\n",
    "\n",
    "Given a 1-indexed array of integers numbers that is already sorted in non-decreasing order, find two numbers such that they add up to a specific target number. Let these two numbers be numbers[index1] and numbers[index2] where 1 <= index1 < index2 <= numbers.length.\n",
    "\n",
    "Return the indices of the two numbers, index1 and index2, added by one as an integer array [index1, index2] of length 2.\n",
    "\n",
    "The tests are generated such that there is exactly one solution. You may not use the same element twice.\n",
    "\n",
    "Your solution must use only constant extra space."
   ]
  },
  {
   "cell_type": "code",
   "execution_count": 15,
   "metadata": {},
   "outputs": [],
   "source": [
    "def twoSum(numbers: List[int], target: int) -> List[int]:\n",
    "\n",
    "    left, right = 0, len(numbers) - 1\n",
    "\n",
    "    while left < right:\n",
    "\n",
    "        if numbers[left] + numbers[right] == target:\n",
    "            return [left + 1, right + 1]\n",
    "        elif numbers[left] + numbers[right] < target:\n",
    "            left += 1\n",
    "        else:\n",
    "            right -=1\n",
    "\n",
    "    return -1"
   ]
  },
  {
   "cell_type": "code",
   "execution_count": 16,
   "metadata": {},
   "outputs": [],
   "source": [
    "assert twoSum(numbers=[2,7,11,15], target=9) == [1, 2]\n",
    "assert twoSum(numbers=[2,3,4], target=6) == [1, 3]\n",
    "assert twoSum(numbers=[-1,0], target=-1) == [1, 2]"
   ]
  },
  {
   "cell_type": "markdown",
   "metadata": {},
   "source": [
    "---\n",
    "**[12. Integer to Roman](https://leetcode.com/problems/integer-to-roman/)**\n",
    "\n",
    "Roman numerals are represented by seven different symbols: I, V, X, L, C, D and M.\n",
    "\n",
    "For example, 2 is written as II in Roman numeral, just two one's added together. 12 is written as XII, which is simply X + II. The number 27 is written as XXVII, which is XX + V + II.\n",
    "\n",
    "Roman numerals are usually written largest to smallest from left to right. However, the numeral for four is not IIII. Instead, the number four is written as IV. Because the one is before the five we subtract it making four. The same principle applies to the number nine, which is written as IX. There are six instances where subtraction is used:\n",
    "\n",
    "I can be placed before V (5) and X (10) to make 4 and 9. \n",
    "X can be placed before L (50) and C (100) to make 40 and 90. \n",
    "C can be placed before D (500) and M (1000) to make 400 and 900.\n",
    "Given an integer, convert it to a roman numeral."
   ]
  },
  {
   "cell_type": "code",
   "execution_count": 17,
   "metadata": {},
   "outputs": [],
   "source": [
    "def intToRoman(num: int) -> str:\n",
    "\n",
    "    symb_dict = {1: 'I', 5: 'V', 10: 'X', 50: 'L', 100: 'C', 500: 'D', 1000: 'M'}\n",
    "    combs_dict = {4: 'IV', 9: 'IX', 40: 'XL', 90: 'XC', 400: 'CD', 900: 'CM'}\n",
    "\n",
    "    res = \"\"\n",
    "\n",
    "    for i, digit in enumerate(str(num)):\n",
    "\n",
    "        digit = int(digit)\n",
    "\n",
    "        scale = len(str(num)) - i - 1\n",
    "\n",
    "        if digit * 10 ** scale in combs_dict:\n",
    "            res += combs_dict[digit * 10 ** scale]\n",
    "        elif digit * 10 ** scale in symb_dict:\n",
    "            res += symb_dict[digit * 10 ** scale]\n",
    "        else:\n",
    "            if digit >= 5:\n",
    "                res += symb_dict[5 * 10 ** scale] \n",
    "                res += symb_dict[10 ** scale] * (digit - 5)\n",
    "            else:\n",
    "                res += symb_dict[10 ** scale] * digit\n",
    "\n",
    "    return res"
   ]
  },
  {
   "cell_type": "code",
   "execution_count": 18,
   "metadata": {},
   "outputs": [],
   "source": [
    "assert intToRoman(3) == 'III'\n",
    "assert intToRoman(58) == \"LVIII\"\n",
    "assert intToRoman(1994) == 'MCMXCIV'"
   ]
  },
  {
   "cell_type": "markdown",
   "metadata": {},
   "source": [
    "---\n",
    "**[937. Reorder Data in Log Files](https://leetcode.com/problems/reorder-data-in-log-files/)**\n",
    "\n",
    "You are given an array of logs. Each log is a space-delimited string of words, where the first word is the identifier.\n",
    "\n",
    "There are two types of logs:\n",
    "\n",
    "- Letter-logs: All words (except the identifier) consist of lowercase English letters.\n",
    "- Digit-logs: All words (except the identifier) consist of digits.\n",
    "\n",
    "Reorder these logs so that:\n",
    "\n",
    "- The letter-logs come before all digit-logs.\n",
    "- The letter-logs are sorted lexicographically by their contents. If their contents are the same, then sort them lexicographically by their identifiers.\n",
    "- The digit-logs maintain their relative ordering.\n",
    "\n",
    "Return the final order of the logs."
   ]
  },
  {
   "cell_type": "code",
   "execution_count": 19,
   "metadata": {},
   "outputs": [],
   "source": [
    "def reorderLogFiles(logs: List[str]) -> List[str]:\n",
    "\n",
    "    def is_digit_log(log: str):\n",
    "        for el in log.split()[1:]:\n",
    "            if el.isalpha():\n",
    "                return False\n",
    "        return True\n",
    "\n",
    "\n",
    "    digit_logs, letter_logs = [], []\n",
    "\n",
    "    for log in logs:\n",
    "        if is_digit_log(log):\n",
    "            digit_logs.append(log)\n",
    "        else:\n",
    "            letter_logs.append(log)\n",
    "\n",
    "    res = sorted(letter_logs, key=lambda s: (\" \".join(s.split()[1:]), s.split()[0])) + digit_logs\n",
    "\n",
    "    return res\n"
   ]
  },
  {
   "cell_type": "code",
   "execution_count": 20,
   "metadata": {},
   "outputs": [],
   "source": [
    "assert reorderLogFiles(logs=[\"dig1 8 1 5 1\",\"let1 art can\",\"dig2 3 6\",\"let2 own kit dig\",\"let3 art zero\"])"
   ]
  },
  {
   "cell_type": "markdown",
   "metadata": {},
   "source": [
    "_Nicer_"
   ]
  },
  {
   "cell_type": "code",
   "execution_count": 21,
   "metadata": {},
   "outputs": [],
   "source": [
    "def reorderLogFiles(logs: List[str]) -> List[str]:\n",
    "\n",
    "    def get_key(log):\n",
    "        _id, rest = log.split(\" \", maxsplit=1)\n",
    "        return (0, rest, _id) if rest[0].isalpha() else (1, )\n",
    "\n",
    "    return sorted(logs, key=get_key)"
   ]
  },
  {
   "cell_type": "code",
   "execution_count": 22,
   "metadata": {},
   "outputs": [],
   "source": [
    "assert reorderLogFiles(logs=[\"dig1 8 1 5 1\",\"let1 art can\",\"dig2 3 6\",\"let2 own kit dig\",\"let3 art zero\"])"
   ]
  },
  {
   "cell_type": "markdown",
   "metadata": {},
   "source": [
    "---\n",
    "**[42. Trapping Rain Water](https://leetcode.com/problems/trapping-rain-water/)**\n",
    "\n",
    "Given n non-negative integers representing an elevation map where the width of each bar is 1, compute how much water it can trap after raining."
   ]
  },
  {
   "cell_type": "markdown",
   "metadata": {},
   "source": [
    "Works correctly but doesn't fit into time limits"
   ]
  },
  {
   "cell_type": "code",
   "execution_count": 23,
   "metadata": {},
   "outputs": [],
   "source": [
    "def trap(height: List[int]) -> int:\n",
    "\n",
    "    max_level_left, max_level_right = 0, 0\n",
    "    max_level_right_pos = 0\n",
    "    trapped = 0\n",
    "\n",
    "    for i, h in enumerate(height):\n",
    "        if h > max_level_left:\n",
    "            max_level_left = h\n",
    "\n",
    "        else:\n",
    "            if max_level_right_pos > i:\n",
    "                if max_level_right >= max_level_left:\n",
    "                    #print(i, \"added max_level_left-h\", max_level_left - h, max_level_right, max_level_left)\n",
    "                    trapped += max_level_left - h\n",
    "                else:\n",
    "                    trapped += max(max_level_right - h, 0)\n",
    "            \n",
    "            else:\n",
    "                max_level_right, max_level_right_pos = 0, i + 1\n",
    "                for j in range(i + 1, len(height)):\n",
    "                    if height[j] > max_level_right:\n",
    "                        max_level_right = height[j]\n",
    "                        max_level_right_pos = j\n",
    "\n",
    "                    if max_level_right >= max_level_left:\n",
    "                        #print(i, \"added max_level_left-h\", max_level_left - h, max_level_right, max_level_left)\n",
    "                        trapped += max_level_left - h\n",
    "                        break\n",
    "                    \n",
    "                if max_level_right < max_level_left:\n",
    "                    #print(i, \"added max_level_right-h\", max_level_right - h)\n",
    "                    trapped += max(max_level_right - h, 0)\n",
    "\n",
    "    return trapped"
   ]
  },
  {
   "cell_type": "code",
   "execution_count": 24,
   "metadata": {},
   "outputs": [],
   "source": [
    "assert trap([0,1,0,2,1,0,1,3,2,1,2,1]) == 6\n",
    "assert trap([4,2,0,3,2,5]) == 9"
   ]
  },
  {
   "cell_type": "code",
   "execution_count": 25,
   "metadata": {},
   "outputs": [],
   "source": [
    "def trap(height: List[int]) -> int:\n",
    "    \n",
    "    res = 0\n",
    "    left_maxes, right_maxes = [height[0]] * len(height), [height[-1]] * len(height)\n",
    "    \n",
    "    for i, h in enumerate(height):\n",
    "        left_maxes[i] = max(h, left_maxes[i-1])\n",
    "    for i in range(len(height) - 2, -1, -1):\n",
    "        right_maxes[i] = max(height[i], right_maxes[i+1]) \n",
    "        \n",
    "    for i in range(len(height)):\n",
    "        res += min(left_maxes[i], right_maxes[i]) - height[i]\n",
    "        \n",
    "    return res"
   ]
  },
  {
   "cell_type": "code",
   "execution_count": 26,
   "metadata": {},
   "outputs": [],
   "source": [
    "assert trap([0,1,0,2,1,0,1,3,2,1,2,1]) == 6\n",
    "assert trap([4,2,0,3,2,5]) == 9"
   ]
  },
  {
   "cell_type": "markdown",
   "metadata": {},
   "source": [
    "## Linked List\n",
    "\n",
    "These are some of the must-practice linked list questions asked by Amazon. We recommend you practice all of these questions."
   ]
  },
  {
   "cell_type": "markdown",
   "metadata": {},
   "source": [
    "---\n",
    "**[138. Copy List with Random Pointer](https://leetcode.com/problems/copy-list-with-random-pointer/)**\n",
    "\n",
    "Share\n",
    "A linked list of length n is given such that each node contains an additional random pointer, which could point to any node in the list, or null.\n",
    "\n",
    "Construct a deep copy of the list. The deep copy should consist of exactly n brand new nodes, where each new node has its value set to the value of its corresponding original node. Both the next and random pointer of the new nodes should point to new nodes in the copied list such that the pointers in the original list and copied list represent the same list state. None of the pointers in the new list should point to nodes in the original list.\n",
    "\n",
    "For example, if there are two nodes X and Y in the original list, where X.random --> Y, then for the corresponding two nodes x and y in the copied list, x.random --> y.\n",
    "\n",
    "Return the head of the copied linked list.\n",
    "\n",
    "The linked list is represented in the input/output as a list of n nodes. Each node is represented as a pair of [val, random_index] where:\n",
    "\n",
    "val: an integer representing Node.val\n",
    "random_index: the index of the node (range from 0 to n-1) that the random pointer points to, or null if it does not point to any node.\n",
    "Your code will only be given the head of the original linked list."
   ]
  },
  {
   "cell_type": "code",
   "execution_count": 27,
   "metadata": {},
   "outputs": [],
   "source": [
    "class Node:\n",
    "    def __init__(self, x: int, next: 'Node' = None, random: 'Node' = None):\n",
    "        self.val = int(x)\n",
    "        self.next = next\n",
    "        self.random = random\n",
    "\n",
    "def copyRandomList(head: 'Optional[Node]') -> 'Optional[Node]':\n",
    "\n",
    "    if not head:\n",
    "        return None\n",
    "\n",
    "    curr_node = head\n",
    "\n",
    "    randoms = {}\n",
    "    old_new_node_map, new_old_node_map = {}, {}\n",
    "\n",
    "    new_head = Node(x=curr_node.val, next=None, random=None)\n",
    "    new_head_bkp = new_head\n",
    "\n",
    "    while curr_node:\n",
    "\n",
    "        if curr_node.next:\n",
    "            new_head.next = Node(x=curr_node.next.val, next=None, random=None)\n",
    "        else:\n",
    "            new_head.next = None\n",
    "\n",
    "        old_new_node_map[curr_node] = new_head\n",
    "        new_old_node_map[new_head] = curr_node\n",
    "        randoms[curr_node] = curr_node.random\n",
    "\n",
    "        curr_node = curr_node.next\n",
    "        new_head = new_head.next\n",
    "\n",
    "    curr_node = new_head_bkp\n",
    "\n",
    "    while curr_node:\n",
    "\n",
    "        old_random = randoms[new_old_node_map[curr_node]]\n",
    "\n",
    "        curr_node.random = old_new_node_map[old_random] if old_random else None\n",
    "\n",
    "        curr_node = curr_node.next\n",
    "\n",
    "    return new_head_bkp"
   ]
  },
  {
   "cell_type": "markdown",
   "metadata": {},
   "source": [
    "## Trees and Graphs\n",
    "\n",
    "As you can see, Amazon likes to ask questions related to the Tree data structure. We highly recommend Number of Islands which seems to be Amazon's favorite."
   ]
  },
  {
   "cell_type": "markdown",
   "metadata": {},
   "source": [
    "**[103. Binary Tree Zigzag Level Order Traversal](https://leetcode.com/problems/binary-tree-zigzag-level-order-traversal/)**\n",
    "\n",
    "Given the root of a binary tree, return the zigzag level order traversal of its nodes' values. (i.e., from left to right, then right to left for the next level and alternate between).\n",
    "\n"
   ]
  },
  {
   "cell_type": "code",
   "execution_count": 28,
   "metadata": {},
   "outputs": [],
   "source": [
    "# Definition for a binary tree node.\n",
    "class TreeNode:\n",
    "    def __init__(self, val=0, left=None, right=None):\n",
    "        self.val = val\n",
    "        self.left = left\n",
    "        self.right = right\n",
    "\n",
    "def zigzagLevelOrder(root: Optional[TreeNode]) -> List[List[int]]:\n",
    "        \n",
    "    if not root:\n",
    "        return []\n",
    "\n",
    "    visited = [[root.val]]\n",
    "    queue = [[root]]\n",
    "\n",
    "    level = 0\n",
    "\n",
    "    while 1:\n",
    "\n",
    "        curr_visited = []\n",
    "        curr_queue = []\n",
    "\n",
    "        for node in queue[level]:\n",
    "            if node.left:\n",
    "                curr_queue.append(node.left)\n",
    "                curr_visited.append(node.left.val)\n",
    "            if node.right:\n",
    "                curr_queue.append(node.right)\n",
    "                curr_visited.append(node.right.val)\n",
    "\n",
    "        if curr_queue:\n",
    "            level += 1\n",
    "            if level % 2 == 1:\n",
    "                visited.append(curr_visited[::-1])\n",
    "            else:\n",
    "                visited.append(curr_visited)\n",
    "            queue.append(curr_queue)\n",
    "        else:\n",
    "            break\n",
    "\n",
    "    return visited    "
   ]
  },
  {
   "cell_type": "code",
   "execution_count": 29,
   "metadata": {},
   "outputs": [],
   "source": [
    "tree = TreeNode(val=3, \n",
    "                left=TreeNode(val=9), \n",
    "                right=TreeNode(val=20, \n",
    "                               left=TreeNode(val=15), \n",
    "                               right=TreeNode(val=7)))"
   ]
  },
  {
   "cell_type": "code",
   "execution_count": 30,
   "metadata": {},
   "outputs": [],
   "source": [
    "assert zigzagLevelOrder(tree) == [[3], [20, 9], [15, 7]]"
   ]
  },
  {
   "cell_type": "markdown",
   "metadata": {},
   "source": [
    "## Sorting and Searching\n",
    "\n",
    "We highly recommend Kth Largest Element in an Array, which has been asked many times in an Amazon phone interview."
   ]
  },
  {
   "cell_type": "markdown",
   "metadata": {},
   "source": [
    "---\n",
    "**[973. K Closest Points to Origin](https://leetcode.com/problems/k-closest-points-to-origin/)**\n",
    "\n",
    "Given an array of points where $points[i] = [x_i, y_i]$ represents a point on the X-Y plane and an integer `k`, return the `k` closest points to the origin (0, 0).\n",
    "\n",
    "The distance between two points on the X-Y plane is the Euclidean distance (i.e., $\\sqrt{{(x_1 - x_2)}^2 + {(y_1 - y_2)}^2}$).\n",
    "\n",
    "You may return the answer in any order. The answer is guaranteed to be unique (except for the order that it is in).\n",
    "\n"
   ]
  },
  {
   "cell_type": "code",
   "execution_count": 31,
   "metadata": {},
   "outputs": [],
   "source": [
    "from math import sqrt\n",
    "\n",
    "def kClosest(points: List[List[int]], k: int) -> List[List[int]]:\n",
    "\n",
    "    return sorted(points, key=lambda pair: pair[0] ** 2 + pair[1] ** 2)[:k]"
   ]
  },
  {
   "cell_type": "code",
   "execution_count": 32,
   "metadata": {},
   "outputs": [],
   "source": [
    "assert kClosest(points=[[1,3],[-2,2]], k=1) == [[-2,2]]\n",
    "assert kClosest(points=[[3,3],[5,-1],[-2,4]], k=2) == [[3,3],[-2,4]]"
   ]
  },
  {
   "cell_type": "markdown",
   "metadata": {},
   "source": [
    "- Time complexity; $O(N \\cdot \\log N)$ for the sorting of points.\n",
    "- Space complexity: $O(\\log N)$ to $O(N)$ for the extra space required by the sorting process."
   ]
  },
  {
   "cell_type": "markdown",
   "metadata": {},
   "source": [
    "_Using a heap_"
   ]
  },
  {
   "cell_type": "code",
   "execution_count": 33,
   "metadata": {},
   "outputs": [],
   "source": [
    "import heapq"
   ]
  },
  {
   "cell_type": "code",
   "execution_count": 34,
   "metadata": {},
   "outputs": [],
   "source": [
    "def squared_distance(point: List[int]):\n",
    "    return point[0] ** 2 + point[1] ** 2 "
   ]
  },
  {
   "cell_type": "code",
   "execution_count": 35,
   "metadata": {},
   "outputs": [],
   "source": [
    "def kClosest(points: List[List[int]], k: int) -> List[List[int]]:\n",
    "    \n",
    "    heap = []\n",
    "    heapq.heapify(heap)\n",
    "    \n",
    "    for point in points:\n",
    "        curr_dist = squared_distance(point)\n",
    "        if len(heap) == k:\n",
    "            if curr_dist < -heap[0]:\n",
    "                heapq.heappop(heap)\n",
    "                heapq.heappush(heap, -squared_distance(point))\n",
    "        else:\n",
    "            heapq.heappush(heap, -squared_distance(point))\n",
    "    \n",
    "    k_closest = set([-heapq.heappop(heap) for _ in range(k)])\n",
    "    \n",
    "    result = []\n",
    "    \n",
    "    for point in points:\n",
    "        if squared_distance(point) in k_closest:\n",
    "            result.append(point)\n",
    "    \n",
    "    return result\n",
    "            "
   ]
  },
  {
   "cell_type": "code",
   "execution_count": 36,
   "metadata": {},
   "outputs": [],
   "source": [
    "assert kClosest(points=[[1,3],[-2,2]], k=1) == [[-2,2]]\n",
    "assert kClosest(points=[[3,3],[5,-1],[-2,4]], k=2) == [[3,3],[-2,4]]"
   ]
  },
  {
   "cell_type": "markdown",
   "metadata": {},
   "source": [
    "- Time complexity; $O(N\\cdot \\log k)$. Adding to/removing from the heap (or priority queue) only takes $O(\\log k)$ time when the size of the heap is capped at $k$ elements.\n",
    "- Space complexity: $O(k)$. The heap (or priority queue) will contain at most kk elements."
   ]
  },
  {
   "cell_type": "markdown",
   "metadata": {},
   "source": [
    "---\n",
    "**[215. Kth Largest Element in an Array](https://leetcode.com/problems/kth-largest-element-in-an-array/)**\n",
    "\n",
    "Given an integer array nums and an integer k, return the kth largest element in the array.\n",
    "\n",
    "Note that it is the kth largest element in the sorted order, not the kth distinct element."
   ]
  },
  {
   "cell_type": "code",
   "execution_count": 37,
   "metadata": {},
   "outputs": [],
   "source": [
    "from random import randint\n",
    "\n",
    "def findKthLargest(nums: List[int], k: int) -> int:\n",
    "    \n",
    "    if len(nums) == 0:\n",
    "        return -1\n",
    "    \n",
    "    if len(nums) == 1:\n",
    "        return nums[0]\n",
    "    \n",
    "    pivot = nums[randint(0, len(nums) - 1)]\n",
    "    \n",
    "    left = [el for el in nums if el < pivot]\n",
    "    right = [el for el in nums if el > pivot]\n",
    "    same = [el for el in nums if el == pivot]\n",
    "    \n",
    "    pivot_rank = len(right) + 1\n",
    "    \n",
    "    if pivot_rank > k:\n",
    "        return findKthLargest(right, k)\n",
    "    elif pivot_rank < k:\n",
    "        return findKthLargest(left + same[:-1], k-pivot_rank)\n",
    "    else:\n",
    "        return pivot"
   ]
  },
  {
   "cell_type": "code",
   "execution_count": 38,
   "metadata": {},
   "outputs": [],
   "source": [
    "assert findKthLargest(nums=[3, 2, 1, 5, 6, 4], k=2) == 5\n",
    "assert findKthLargest(nums=[3, 2, 3, 1, 2, 4, 5, 5, 6], k=4) == 4"
   ]
  },
  {
   "cell_type": "code",
   "execution_count": 53,
   "metadata": {},
   "outputs": [],
   "source": [
    "def findKthLargest(nums: List[int], k: int) -> int:\n",
    "        \n",
    "    def partition(start, end):\n",
    "        ran = randint(start, end)\n",
    "        pivot = end\n",
    "        nums[pivot], nums[ran] = nums[ran], nums[pivot]\n",
    "\n",
    "        border = start\n",
    "        for cur in range(start, end):\n",
    "            if nums[cur] >= nums[pivot]:\n",
    "                nums[cur], nums[border] = nums[border], nums[cur]\n",
    "                border += 1\n",
    "\n",
    "        nums[border], nums[pivot] = nums[pivot], nums[border]\n",
    "        return border\n",
    "\n",
    "    def quick_select(start, end, k_largest):\n",
    "        res = None\n",
    "        while start <= end:\n",
    "            p = partition(start, end)\n",
    "            if p == k_largest:\n",
    "                res = nums[k_largest]\n",
    "                break\n",
    "            elif p > k_largest:\n",
    "                end = p - 1\n",
    "            else:\n",
    "                start = p + 1\n",
    "        return res\n",
    "\n",
    "    return quick_select(0, len(nums)-1, k-1)"
   ]
  },
  {
   "cell_type": "code",
   "execution_count": 54,
   "metadata": {},
   "outputs": [],
   "source": [
    "assert findKthLargest(nums=[3, 2, 1, 5, 6, 4], k=2) == 5\n",
    "assert findKthLargest(nums=[3, 2, 3, 1, 2, 4, 5, 5, 6], k=4) == 4"
   ]
  },
  {
   "cell_type": "markdown",
   "metadata": {},
   "source": [
    "## Dynamic Programming\n",
    "\n",
    "Amazon does not ask a whole lot of Dynamic Programming questions. We recommend Best Time to Buy and Sell Stock."
   ]
  },
  {
   "cell_type": "markdown",
   "metadata": {},
   "source": [
    "---\n",
    "**[5. Longest Palindromic Substring](https://leetcode.com/problems/longest-palindromic-substring/)**\n",
    "\n",
    "Given a string s, return the longest palindromic substring in s.\n"
   ]
  },
  {
   "cell_type": "markdown",
   "metadata": {},
   "source": [
    "_Brute-force_"
   ]
  },
  {
   "cell_type": "code",
   "execution_count": 160,
   "metadata": {},
   "outputs": [],
   "source": [
    "def longestPalindrome(s: str) -> str:\n",
    "    \n",
    "    if len(s) == 1:\n",
    "        return s\n",
    "    \n",
    "    curr_longest = s[0]\n",
    "    \n",
    "    for left in range(len(s)): \n",
    "        for right in range(left + len(curr_longest), len(s)):\n",
    "            #print(s[left:right+1])\n",
    "            if s[left:right+1] == s[left:right+1][::-1]:\n",
    "                curr_longest = s[left:right+1]\n",
    "    \n",
    "    return curr_longest\n",
    "            "
   ]
  },
  {
   "cell_type": "code",
   "execution_count": 161,
   "metadata": {},
   "outputs": [],
   "source": [
    "assert longestPalindrome('babad') in ['aba', 'bab']\n",
    "assert longestPalindrome('cbbd') == 'bb'\n",
    "assert longestPalindrome('babab') == 'babab'\n",
    "assert longestPalindrome('bb') == 'bb'\n",
    "assert longestPalindrome('eabcb') == 'bcb'"
   ]
  },
  {
   "cell_type": "markdown",
   "metadata": {},
   "source": [
    "- Time complexity : $O(n^3)$\n",
    "- Space complexity : $O(1)$"
   ]
  },
  {
   "cell_type": "markdown",
   "metadata": {},
   "source": [
    "_Smarter_"
   ]
  },
  {
   "cell_type": "code",
   "execution_count": 177,
   "metadata": {},
   "outputs": [],
   "source": [
    "def longestPalindrome(s: str) -> str:\n",
    "    \n",
    "    if len(s) == 1:\n",
    "        return s\n",
    "\n",
    "    curr_longest = s[0]\n",
    "\n",
    "    for i in range(len(s)):\n",
    "\n",
    "        palindrom1 = expand_around_center(s, center_index=i, inbetween=False)\n",
    "        palindrom2 = expand_around_center(s, center_index=i, inbetween=True)\n",
    "\n",
    "        if len(palindrom1) > len(curr_longest):\n",
    "            curr_longest = palindrom1\n",
    "\n",
    "        if len(palindrom2) > len(curr_longest):\n",
    "            curr_longest = palindrom2\n",
    "\n",
    "    return curr_longest\n",
    "            \n",
    "\n",
    "def expand_around_center(s, center_index, inbetween=False):\n",
    "    if inbetween:\n",
    "        left, right = center_index - 1, center_index\n",
    "    else:\n",
    "        left, right = center_index - 1, center_index + 1\n",
    "\n",
    "    while left >= 0 and right < len(s) and s[left] == s[right]:\n",
    "        left -= 1\n",
    "        right += 1\n",
    "\n",
    "    return s[left+1:right]"
   ]
  },
  {
   "cell_type": "code",
   "execution_count": 178,
   "metadata": {},
   "outputs": [],
   "source": [
    "assert longestPalindrome('babad') in ['aba', 'bab']\n",
    "assert longestPalindrome('cbbd') == 'bb'\n",
    "assert longestPalindrome('babab') == 'babab'\n",
    "assert longestPalindrome('bb') == 'bb'\n",
    "assert longestPalindrome('eabcb') == 'bcb'"
   ]
  },
  {
   "cell_type": "markdown",
   "metadata": {},
   "source": [
    "- Time complexity : $O(n^2)$\n",
    "- Space complexity : $O(1)$"
   ]
  },
  {
   "cell_type": "markdown",
   "metadata": {},
   "source": [
    "## Design\n",
    "\n",
    "These are some design questions for you to practice for your Amazon interview. We highly recommend LRU Cache."
   ]
  },
  {
   "cell_type": "markdown",
   "metadata": {},
   "source": [
    "---\n",
    "**[146. LRU Cache](https://leetcode.com/problems/lru-cache/)**\n",
    "\n",
    "Design a data structure that follows the constraints of a Least Recently Used (LRU) cache.\n",
    "\n",
    "Implement the `LRUCache` class:\n",
    "\n",
    "- `LRUCache(int capacity)` Initialize the LRU cache with positive size capacity.\n",
    "- `int get(int key)` Return the value of the key if the key exists, otherwise return -1.\n",
    "- `void put(int key, int value)` Update the value of the key if the key exists. Otherwise, add the key-value pair to the cache. If the number of keys exceeds the capacity from this operation, evict the least recently used key.\n",
    "\n",
    "The functions get and put must each run in $O(1)$ average time complexity."
   ]
  },
  {
   "cell_type": "markdown",
   "metadata": {},
   "source": [
    "_Slow_"
   ]
  },
  {
   "cell_type": "code",
   "execution_count": 39,
   "metadata": {},
   "outputs": [],
   "source": [
    "class LRUCache:\n",
    "\n",
    "    def __init__(self, capacity: int):\n",
    "        self.capacity = capacity\n",
    "        self.data = {}\n",
    "        self.queue = []\n",
    "\n",
    "    def get(self, key: int) -> int:\n",
    "        \n",
    "        if key in self.data:\n",
    "            self.queue.remove(key)\n",
    "            self.queue.append(key)\n",
    "            return self.data[key]\n",
    "        else:\n",
    "            return -1\n",
    "        \n",
    "\n",
    "    def put(self, key: int, value: int) -> None:\n",
    "\n",
    "        if len(self.data) == self.capacity:\n",
    "            if key not in self.data:\n",
    "                old_key = self.queue.pop(0)\n",
    "                del self.data[old_key]\n",
    "        \n",
    "        \n",
    "        self.data[key] = value\n",
    "        if key in self.queue:\n",
    "            self.queue.remove(key)\n",
    "        self.queue.append(key)"
   ]
  },
  {
   "cell_type": "code",
   "execution_count": 40,
   "metadata": {},
   "outputs": [],
   "source": [
    "lRUCache = LRUCache(capacity=2)\n",
    "lRUCache.put(1, 1)\n",
    "#print(lRUCache.data, lRUCache.queue)\n",
    "lRUCache.put(2, 2)\n",
    "#print(lRUCache.data, lRUCache.queue)\n",
    "#print(lRUCache.get(1))\n",
    "lRUCache.put(3, 3)\n",
    "#print(lRUCache.get(2))\n",
    "lRUCache.put(4, 4)\n",
    "#print(lRUCache.get(1)) \n",
    "#print(lRUCache.get(3))\n",
    "assert lRUCache.get(4) == 4"
   ]
  },
  {
   "cell_type": "code",
   "execution_count": 41,
   "metadata": {},
   "outputs": [],
   "source": [
    "lRUCache = LRUCache(capacity=2)\n",
    "#print(lRUCache.get(2)) \n",
    "lRUCache.put(2, 6)\n",
    "#print(lRUCache.data, lRUCache.queue)\n",
    "#print(lRUCache.get(1)) \n",
    "lRUCache.put(1, 5)\n",
    "#print(lRUCache.data, lRUCache.queue)\n",
    "lRUCache.put(1, 2)\n",
    "#print(lRUCache.data, lRUCache.queue)\n",
    "#print(lRUCache.get(1)) \n",
    "assert lRUCache.get(2) == 6"
   ]
  },
  {
   "cell_type": "code",
   "execution_count": 42,
   "metadata": {},
   "outputs": [],
   "source": [
    "lRUCache = LRUCache(capacity=2)\n",
    "lRUCache.put(2, 1)\n",
    "#print(lRUCache.data, lRUCache.queue)\n",
    "lRUCache.put(1, 1)\n",
    "#print(lRUCache.data, lRUCache.queue)\n",
    "lRUCache.put(1, 2)\n",
    "#print(lRUCache.data, lRUCache.queue)\n",
    "lRUCache.put(2,3)\n",
    "#print(lRUCache.data, lRUCache.queue)\n",
    "lRUCache.put(4, 1)\n",
    "#print(lRUCache.data, lRUCache.queue)\n",
    "#print(lRUCache.get(1)) \n",
    "assert lRUCache.get(2) == 3"
   ]
  },
  {
   "cell_type": "markdown",
   "metadata": {},
   "source": [
    "_Faster_"
   ]
  },
  {
   "cell_type": "code",
   "execution_count": 43,
   "metadata": {},
   "outputs": [],
   "source": [
    "from sortedcontainers import SortedDict"
   ]
  },
  {
   "cell_type": "code",
   "execution_count": 44,
   "metadata": {},
   "outputs": [],
   "source": [
    "class LRUCache:\n",
    "\n",
    "    def __init__(self, capacity: int):\n",
    "        self.capacity = capacity\n",
    "        self.data = {}\n",
    "        self.freqs = {}\n",
    "        self.inv_freqs = SortedDict({})\n",
    "\n",
    "    def get(self, key: int) -> int:\n",
    "        \n",
    "        if key in self.data:\n",
    "            \n",
    "            old_freq = self.freqs[key]\n",
    "            if self.inv_freqs:\n",
    "                self.freqs[key] = self.inv_freqs.keys()[-1] + 1\n",
    "            else:\n",
    "                self.freqs[key] = 1\n",
    "            if old_freq in self.inv_freqs:\n",
    "                del self.inv_freqs[old_freq]\n",
    "            self.inv_freqs[self.freqs[key]] = key\n",
    "            return self.data[key]\n",
    "        else:\n",
    "            return -1\n",
    "        \n",
    "\n",
    "    def put(self, key: int, value: int) -> None:\n",
    "\n",
    "        if len(self.data) == self.capacity:\n",
    "            if key not in self.data:\n",
    "                least_freq = self.inv_freqs.keys()[0]\n",
    "                least_freq_elem = self.inv_freqs[least_freq]\n",
    "                del self.data[least_freq_elem]\n",
    "                del self.inv_freqs[least_freq]\n",
    "                del self.freqs[least_freq_elem]\n",
    "                              \n",
    "        \n",
    "        \n",
    "        self.data[key] = value\n",
    "        \n",
    "        old_freq = self.freqs.get(key, -1)\n",
    "        if self.inv_freqs:\n",
    "            self.freqs[key] = self.inv_freqs.keys()[-1] + 1\n",
    "        else:\n",
    "            self.freqs[key] = 1\n",
    "        if old_freq != -1:\n",
    "            del self.inv_freqs[old_freq]\n",
    "        self.inv_freqs[self.freqs[key]] = key"
   ]
  },
  {
   "cell_type": "code",
   "execution_count": 45,
   "metadata": {},
   "outputs": [],
   "source": [
    "lRUCache = LRUCache(capacity=2)\n",
    "lRUCache.put(1, 1)\n",
    "#print(lRUCache.data, lRUCache.freqs, lRUCache.inv_freqs)\n",
    "lRUCache.put(2, 2)\n",
    "#print(lRUCache.data, lRUCache.freqs, lRUCache.inv_freqs)\n",
    "#print(lRUCache.get(1))\n",
    "lRUCache.put(3, 3)\n",
    "#print(lRUCache.get(2))\n",
    "lRUCache.put(4, 4)\n",
    "#print(lRUCache.get(1)) \n",
    "#print(lRUCache.get(3))\n",
    "assert lRUCache.get(4) == 4"
   ]
  },
  {
   "cell_type": "code",
   "execution_count": 46,
   "metadata": {},
   "outputs": [],
   "source": [
    "lRUCache = LRUCache(capacity=2)\n",
    "#print(lRUCache.get(2)) \n",
    "lRUCache.put(2, 6)\n",
    "#print(lRUCache.data, lRUCache.freqs, lRUCache.inv_freqs)\n",
    "#print(lRUCache.get(1)) \n",
    "lRUCache.put(1, 5)\n",
    "#print(lRUCache.data, lRUCache.freqs, lRUCache.inv_freqs)\n",
    "lRUCache.put(1, 2)\n",
    "#print(lRUCache.data, lRUCache.freqs, lRUCache.inv_freqs)\n",
    "#print(lRUCache.get(1)) \n",
    "assert lRUCache.get(2) == 6"
   ]
  },
  {
   "cell_type": "markdown",
   "metadata": {},
   "source": [
    "Much nicer"
   ]
  },
  {
   "cell_type": "code",
   "execution_count": 47,
   "metadata": {},
   "outputs": [],
   "source": [
    "from collections import OrderedDict\n",
    "class LRUCache(OrderedDict):\n",
    "\n",
    "    def __init__(self, capacity):\n",
    "        \"\"\"\n",
    "        :type capacity: int\n",
    "        \"\"\"\n",
    "        self.capacity = capacity\n",
    "\n",
    "    def get(self, key):\n",
    "        \"\"\"\n",
    "        :type key: int\n",
    "        :rtype: int\n",
    "        \"\"\"\n",
    "        if key not in self:\n",
    "            return - 1\n",
    "        \n",
    "        self.move_to_end(key)\n",
    "        return self[key]\n",
    "\n",
    "    def put(self, key, value):\n",
    "        \"\"\"\n",
    "        :type key: int\n",
    "        :type value: int\n",
    "        :rtype: void\n",
    "        \"\"\"\n",
    "        if key in self:\n",
    "            self.move_to_end(key)\n",
    "        self[key] = value\n",
    "        if len(self) > self.capacity:\n",
    "            self.popitem(last = False)"
   ]
  },
  {
   "cell_type": "code",
   "execution_count": 48,
   "metadata": {},
   "outputs": [],
   "source": [
    "class DLinkedNode(): \n",
    "    def __init__(self):\n",
    "        self.key = 0\n",
    "        self.value = 0\n",
    "        self.prev = None\n",
    "        self.next = None\n",
    "            \n",
    "class LRUCache():\n",
    "    def _add_node(self, node):\n",
    "        \"\"\"\n",
    "        Always add the new node right after head.\n",
    "        \"\"\"\n",
    "        node.prev = self.head\n",
    "        node.next = self.head.next\n",
    "\n",
    "        self.head.next.prev = node\n",
    "        self.head.next = node\n",
    "\n",
    "    def _remove_node(self, node):\n",
    "        \"\"\"\n",
    "        Remove an existing node from the linked list.\n",
    "        \"\"\"\n",
    "        prev = node.prev\n",
    "        new = node.next\n",
    "\n",
    "        prev.next = new\n",
    "        new.prev = prev\n",
    "\n",
    "    def _move_to_head(self, node):\n",
    "        \"\"\"\n",
    "        Move certain node in between to the head.\n",
    "        \"\"\"\n",
    "        self._remove_node(node)\n",
    "        self._add_node(node)\n",
    "\n",
    "    def _pop_tail(self):\n",
    "        \"\"\"\n",
    "        Pop the current tail.\n",
    "        \"\"\"\n",
    "        res = self.tail.prev\n",
    "        self._remove_node(res)\n",
    "        return res\n",
    "\n",
    "    def __init__(self, capacity):\n",
    "        \"\"\"\n",
    "        :type capacity: int\n",
    "        \"\"\"\n",
    "        self.cache = {}\n",
    "        self.size = 0\n",
    "        self.capacity = capacity\n",
    "        self.head, self.tail = DLinkedNode(), DLinkedNode()\n",
    "\n",
    "        self.head.next = self.tail\n",
    "        self.tail.prev = self.head\n",
    "        \n",
    "\n",
    "    def get(self, key):\n",
    "        \"\"\"\n",
    "        :type key: int\n",
    "        :rtype: int\n",
    "        \"\"\"\n",
    "        node = self.cache.get(key, None)\n",
    "        if not node:\n",
    "            return -1\n",
    "\n",
    "        # move the accessed node to the head;\n",
    "        self._move_to_head(node)\n",
    "\n",
    "        return node.value\n",
    "\n",
    "    def put(self, key, value):\n",
    "        \"\"\"\n",
    "        :type key: int\n",
    "        :type value: int\n",
    "        :rtype: void\n",
    "        \"\"\"\n",
    "        node = self.cache.get(key)\n",
    "\n",
    "        if not node: \n",
    "            newNode = DLinkedNode()\n",
    "            newNode.key = key\n",
    "            newNode.value = value\n",
    "\n",
    "            self.cache[key] = newNode\n",
    "            self._add_node(newNode)\n",
    "\n",
    "            self.size += 1\n",
    "\n",
    "            if self.size > self.capacity:\n",
    "                # pop the tail\n",
    "                tail = self._pop_tail()\n",
    "                del self.cache[tail.key]\n",
    "                self.size -= 1\n",
    "        else:\n",
    "            # update the value.\n",
    "            node.value = value\n",
    "            self._move_to_head(node)"
   ]
  },
  {
   "cell_type": "code",
   "execution_count": 49,
   "metadata": {},
   "outputs": [],
   "source": [
    "lRUCache = LRUCache(capacity=2)\n",
    "lRUCache.put(1, 1)\n",
    "lRUCache.put(2, 2)\n",
    "#print(lRUCache.get(1))\n",
    "lRUCache.put(3, 3)\n",
    "#print(lRUCache.get(2))\n",
    "lRUCache.put(4, 4)\n",
    "#print(lRUCache.get(1)) \n",
    "#print(lRUCache.get(3))\n",
    "assert lRUCache.get(4) == 4"
   ]
  },
  {
   "cell_type": "code",
   "execution_count": null,
   "metadata": {},
   "outputs": [],
   "source": []
  }
 ],
 "metadata": {
  "kernelspec": {
   "display_name": "Python 3 (ipykernel)",
   "language": "python",
   "name": "python3"
  },
  "language_info": {
   "codemirror_mode": {
    "name": "ipython",
    "version": 3
   },
   "file_extension": ".py",
   "mimetype": "text/x-python",
   "name": "python",
   "nbconvert_exporter": "python",
   "pygments_lexer": "ipython3",
   "version": "3.10.4"
  }
 },
 "nbformat": 4,
 "nbformat_minor": 4
}
