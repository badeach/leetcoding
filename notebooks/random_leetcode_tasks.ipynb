{
 "cells": [
  {
   "cell_type": "markdown",
   "id": "bb4d5d2a",
   "metadata": {},
   "source": [
    "---\n",
    "**[199. Binary Tree Right Side View](https://leetcode.com/problems/binary-tree-right-side-view/)**\n",
    "\n",
    "Given the root of a binary tree, imagine yourself standing on the right side of it, return the values of the nodes you can see ordered from top to bottom."
   ]
  },
  {
   "cell_type": "markdown",
   "id": "12bb24a9",
   "metadata": {},
   "source": [
    "_Idea: level-order traversal (see [here](https://leetcode.com/problems/binary-tree-level-order-traversal/)), take last element from each level_"
   ]
  },
  {
   "cell_type": "code",
   "execution_count": 101,
   "id": "0744ded4",
   "metadata": {},
   "outputs": [],
   "source": [
    "from typing import List, Optional"
   ]
  },
  {
   "cell_type": "code",
   "execution_count": 102,
   "id": "574831a6",
   "metadata": {},
   "outputs": [],
   "source": [
    "class TreeNode:\n",
    "    def __init__(self, val=0, left=None, right=None):\n",
    "        self.val = val\n",
    "        self.left = left\n",
    "        self.right = right"
   ]
  },
  {
   "cell_type": "code",
   "execution_count": 4,
   "id": "6d3fde39",
   "metadata": {},
   "outputs": [],
   "source": [
    "def rightSideView(root: Optional[TreeNode]) -> List[int]:\n",
    "        \n",
    "    if not root:\n",
    "        return []\n",
    "\n",
    "    visited = [root.val]\n",
    "    queue = [[root]]\n",
    "\n",
    "    level = 0\n",
    "\n",
    "    while 1:\n",
    "\n",
    "        curr_visited = []\n",
    "        curr_queue = []\n",
    "\n",
    "        for node in queue[level]:\n",
    "            if node.left:\n",
    "                curr_queue.append(node.left)\n",
    "                curr_visited.append(node.left.val)\n",
    "            if node.right:\n",
    "                curr_queue.append(node.right)\n",
    "                curr_visited.append(node.right.val)\n",
    "\n",
    "        if curr_queue:\n",
    "            visited.append(curr_visited[-1])\n",
    "            queue.append(curr_queue)\n",
    "            level += 1\n",
    "        else:\n",
    "            break\n",
    "\n",
    "    return visited"
   ]
  },
  {
   "cell_type": "markdown",
   "id": "47566af2",
   "metadata": {},
   "source": [
    "---\n",
    "**[473. Matchsticks to Square](https://leetcode.com/problems/matchsticks-to-square/)**\n",
    "\n",
    "You are given an integer array matchsticks where matchsticks[i] is the length of the ith matchstick. You want to use all the matchsticks to make one square. You should not break any stick, but you can link them up, and each matchstick must be used exactly one time.\n",
    "\n",
    "Return true if you can make this square and false otherwise."
   ]
  },
  {
   "cell_type": "code",
   "execution_count": 63,
   "id": "a04d62e0",
   "metadata": {},
   "outputs": [],
   "source": [
    "def two_equal_sums(arr: List[int], depth=2) -> bool:\n",
    "\n",
    "        if depth == 0:\n",
    "            return True\n",
    "        \n",
    "        for i in range(2 ** (len(arr) - 1)):\n",
    "\n",
    "            bitmask = f'{i:b}'.zfill(len(arr))\n",
    "            sum1, sum2 = 0, 0 \n",
    "\n",
    "            for j, mask in enumerate(bitmask):\n",
    "                if mask == '0':\n",
    "                    sum1 += arr[j]\n",
    "                else:\n",
    "                    sum2 += arr[j]\n",
    "\n",
    "            if sum1 == sum2:\n",
    "                subset1, subset2 = [], []\n",
    "            \n",
    "\n",
    "                for j, mask in enumerate(bitmask):\n",
    "                    if mask == '0':\n",
    "                        subset1.append(arr[j])\n",
    "                    else:\n",
    "                        subset2.append(arr[j])\n",
    "                \n",
    "                if two_equal_sums(subset1, depth=depth-1) and two_equal_sums(subset2, depth=depth-1):\n",
    "                    return True\n",
    "\n",
    "        return False"
   ]
  },
  {
   "cell_type": "code",
   "execution_count": 66,
   "id": "98f5bdb6",
   "metadata": {},
   "outputs": [],
   "source": [
    "assert two_equal_sums(arr=[1,1,2,2,2])\n",
    "assert two_equal_sums(arr=[3,3,3,3,4]) == False\n",
    "assert two_equal_sums(arr=[5,5,5,5,4,4,4,4,3,3,3,3])\n",
    "assert two_equal_sums([9,2,4,10,1,7,3,7,2,6,7,1,9,1,1]) == False"
   ]
  },
  {
   "cell_type": "markdown",
   "id": "8fb7302a",
   "metadata": {},
   "source": [
    "---\n",
    "\n",
    "**[695. Max Area of Island](https://leetcode.com/problems/max-area-of-island/)**\n",
    "You are given an m x n binary matrix grid. An island is a group of 1's (representing land) connected 4-directionally (horizontal or vertical.) You may assume all four edges of the grid are surrounded by water.\n",
    "\n",
    "The area of an island is the number of cells with a value 1 in the island.\n",
    "\n",
    "Return the maximum area of an island in grid. If there is no island, return 0.\n",
    "\n",
    "<img src=\"https://habrastorage.org/webt/xg/yr/io/xgyrio54adpc5rc4di6hge2eqzs.png\" width=60%/>"
   ]
  },
  {
   "cell_type": "code",
   "execution_count": 34,
   "id": "e0e3c1fb",
   "metadata": {},
   "outputs": [],
   "source": [
    "class Cell:\n",
    "    def __init__(self, row, col):\n",
    "        self.row = row\n",
    "        self.col = col\n",
    "    def __repr__(self):\n",
    "        return f\"({self.row}, {self.col})\"\n",
    "        \n",
    "def maxAreaOfIsland(grid: List[List[str]]) -> int:\n",
    "\n",
    "    visited = [[0] * len(grid[0]) for _ in range(len(grid))]\n",
    "\n",
    "    max_area_of_island = 0\n",
    "\n",
    "    for i in range(len(grid)):\n",
    "        for j in range(len(grid[0])):\n",
    "\n",
    "            if grid[i][j] == 1 and not visited[i][j]:\n",
    "                area_of_island = areaOfIsland(i, j, grid, visited)\n",
    "                max_area_of_island = max(max_area_of_island, area_of_island)\n",
    "\n",
    "    return max_area_of_island \n",
    "\n",
    "\n",
    "def areaOfIsland(i: int, j: int, grid: List[List[str]],\n",
    "                  visited: List[List[int]]) -> int:\n",
    "    \n",
    "    area = 0\n",
    "\n",
    "    queue = [Cell(i, j)]\n",
    "\n",
    "    neighbour_dirs = [Cell(elem[0], elem[1]) for elem in \n",
    "                     ((-1, 0), (0, 1), (1, 0), (0, -1))]\n",
    "\n",
    "    while queue:\n",
    "\n",
    "        current = queue.pop()\n",
    "        \n",
    "        \n",
    "        if current.row >= 0 and current.row < len(grid) \\\n",
    "                    and current.col >= 0 and current.col < len(grid[0]):\n",
    "            \n",
    "            if visited[current.row][current.col] == 0:\n",
    "                area += 1\n",
    "        \n",
    "            visited[current.row][current.col] = 1\n",
    "            \n",
    "        \n",
    "        for direction in neighbour_dirs:\n",
    "                neighbour = Cell(current.row + direction.row,\n",
    "                                 current.col + direction.col)\n",
    "                \n",
    "                \n",
    "                if neighbour.row < 0 or neighbour.row == len(grid) \\\n",
    "                    or neighbour.col < 0 or neighbour.col == len(grid[0]):\n",
    "                    continue\n",
    "\n",
    "\n",
    "                if grid[neighbour.row][neighbour.col] == 0:\n",
    "                    continue\n",
    "\n",
    "                elif not visited[neighbour.row][neighbour.col]:\n",
    "                    \n",
    "                    queue.append(neighbour)    \n",
    "    return area"
   ]
  },
  {
   "cell_type": "code",
   "execution_count": 35,
   "id": "39cde73e",
   "metadata": {},
   "outputs": [],
   "source": [
    "assert maxAreaOfIsland(grid=[[0,0,1,0,0,0,0,1,0,0,0,0,0],\n",
    "                             [0,0,0,0,0,0,0,1,1,1,0,0,0],\n",
    "                             [0,1,1,0,1,0,0,0,0,0,0,0,0],\n",
    "                             [0,1,0,0,1,1,0,0,1,0,1,0,0],\n",
    "                             [0,1,0,0,1,1,0,0,1,1,1,0,0],\n",
    "                             [0,0,0,0,0,0,0,0,0,0,1,0,0],\n",
    "                             [0,0,0,0,0,0,0,1,1,1,0,0,0],\n",
    "                             [0,0,0,0,0,0,0,1,1,0,0,0,0]]) == 6\n",
    "assert maxAreaOfIsland(grid = [[0,0,0,0,0,0,0,0]]) == 0\n",
    "assert maxAreaOfIsland(grid=[[1,1,0,0,0],[1,1,0,0,0],[0,0,0,1,1],[0,0,0,1,1]]) == 4"
   ]
  },
  {
   "cell_type": "markdown",
   "id": "f0590dca",
   "metadata": {},
   "source": [
    "---\n",
    "**[27. Remove Element](https://leetcode.com/problems/remove-element/) (Easy)**\n",
    "\n",
    "Given an integer array nums and an integer val, remove all occurrences of val in nums in-place. The relative order of the elements may be changed.\n",
    "\n",
    "Since it is impossible to change the length of the array in some languages, you must instead have the result be placed in the first part of the array nums. More formally, if there are k elements after removing the duplicates, then the first k elements of nums should hold the final result. It does not matter what you leave beyond the first k elements.\n",
    "\n",
    "Return k after placing the final result in the first k slots of nums.\n",
    "\n",
    "Do not allocate extra space for another array. You must do this by modifying the input array in-place with O(1) extra memory."
   ]
  },
  {
   "cell_type": "code",
   "execution_count": 50,
   "id": "4b03866c",
   "metadata": {},
   "outputs": [],
   "source": [
    "def removeElement(nums: List[int], val: int) -> int:\n",
    "\n",
    "    right = None\n",
    "    num_vals = 0\n",
    "    \n",
    "    for i in range(len(nums)):\n",
    "\n",
    "        if nums[i] == val:\n",
    "            nums[i] = '_'\n",
    "            num_vals += 1\n",
    "        else:\n",
    "            right = i\n",
    "\n",
    "    if right is None:  # all values in `nums` were equal to `val`\n",
    "        return 0\n",
    "    \n",
    "    left = 0 \n",
    "    while left < right:\n",
    "\n",
    "        if nums[right] == '_':\n",
    "            right -= 1\n",
    "            continue\n",
    "\n",
    "        if nums[left] == '_':\n",
    "            nums[left], nums[right] = nums[right], nums[left]\n",
    "\n",
    "            left += 1\n",
    "            right -= 1\n",
    "        else:\n",
    "            left += 1\n",
    "            continue\n",
    "\n",
    "    return len(nums) - num_vals"
   ]
  },
  {
   "cell_type": "code",
   "execution_count": 49,
   "id": "352e71d4",
   "metadata": {},
   "outputs": [],
   "source": [
    "assert removeElement(nums=[3,2,2,3], val=3) == 2 # [2, 2, '_', '_']\n",
    "assert removeElement(nums=[3,3,3,3], val=3) == 0 # ['_', '_', '_', '_']\n",
    "assert removeElement(nums=[0,1,2,2,3,0,4,2], val=2) == 5 # [0,1,4,0,3,'_','_','_']\n",
    "assert removeElement(nums=[], val=2) == 0"
   ]
  },
  {
   "cell_type": "markdown",
   "id": "0f457dcf",
   "metadata": {},
   "source": [
    "_Smarter_"
   ]
  },
  {
   "cell_type": "code",
   "execution_count": 51,
   "id": "b8522f5d",
   "metadata": {},
   "outputs": [],
   "source": [
    "def removeElement(nums: List[int], val: int) -> int:\n",
    "    \n",
    "    i = 0;\n",
    "    for j in range(len(nums)):\n",
    "        if nums[j] != val:\n",
    "            nums[i] = nums[j]\n",
    "            i += 1\n",
    "    return i"
   ]
  },
  {
   "cell_type": "code",
   "execution_count": 52,
   "id": "1fffb9a3",
   "metadata": {},
   "outputs": [],
   "source": [
    "assert removeElement(nums=[3,2,2,3], val=3) == 2 # [2, 2, '_', '_']\n",
    "assert removeElement(nums=[3,3,3,3], val=3) == 0 # ['_', '_', '_', '_']\n",
    "assert removeElement(nums=[0,1,2,2,3,0,4,2], val=2) == 5 # [0,1,4,0,3,'_','_','_']\n",
    "assert removeElement(nums=[], val=2) == 0"
   ]
  },
  {
   "cell_type": "markdown",
   "id": "a4ac998b",
   "metadata": {},
   "source": [
    "---\n",
    "**[67. Add Binary](https://leetcode.com/problems/add-binary/) (Easy)**\n",
    "\n",
    "Given two binary strings a and b, return their sum as a binary string."
   ]
  },
  {
   "cell_type": "code",
   "execution_count": 67,
   "id": "9a132b29",
   "metadata": {},
   "outputs": [],
   "source": [
    "def addBinary(a: str, b: str) -> str:\n",
    "        \n",
    "    res = bin_to_int(a) + bin_to_int(b)\n",
    "        \n",
    "    return f'{res:b}'\n",
    "    \n",
    "def bin_to_int(s: str) -> int:\n",
    "    res = 0\n",
    "    for i, char in enumerate(s[::-1]):\n",
    "        if char == '1':\n",
    "            res += 2 ** i\n",
    "    return res"
   ]
  },
  {
   "cell_type": "code",
   "execution_count": 68,
   "id": "53983464",
   "metadata": {},
   "outputs": [],
   "source": [
    "assert addBinary(a='1111', b='1101') == '11100'\n",
    "assert addBinary(a='0', b='0') == '0'"
   ]
  },
  {
   "cell_type": "code",
   "execution_count": null,
   "id": "d4384c70",
   "metadata": {},
   "outputs": [],
   "source": []
  },
  {
   "cell_type": "code",
   "execution_count": 79,
   "id": "145ce582",
   "metadata": {},
   "outputs": [],
   "source": [
    "def lengthOfLastWord(s: str) -> int:\n",
    "\n",
    "    if len(s) == 1:\n",
    "        return int(s != ' ')\n",
    "\n",
    "    j = len(s) - 1\n",
    "\n",
    "    # skip right-most whitespaces if any\n",
    "    while s[j] == ' ' and j >= 0:\n",
    "        j -= 1\n",
    "\n",
    "    # only whitespaces in `s`\n",
    "    if j == -1:\n",
    "        return 0\n",
    "\n",
    "    len_last_word = 0\n",
    "\n",
    "    while s[j] != ' ' and j >= 0:\n",
    "        j -= 1\n",
    "        len_last_word += 1\n",
    "\n",
    "    return len_last_word"
   ]
  },
  {
   "cell_type": "code",
   "execution_count": 80,
   "id": "62e02793",
   "metadata": {},
   "outputs": [],
   "source": [
    "assert lengthOfLastWord(s=\"Hello World\") == 5\n",
    "assert lengthOfLastWord(s=\"   fly me   to   the moon  \") == 4\n",
    "assert lengthOfLastWord(s=\"luffy is still joyboy\") == 6\n",
    "assert lengthOfLastWord(s=\"         \") == 0\n",
    "assert lengthOfLastWord(s=\"a         \") == 1\n",
    "assert lengthOfLastWord(s=\"day\") == 3"
   ]
  },
  {
   "cell_type": "markdown",
   "id": "6f5c3940",
   "metadata": {},
   "source": [
    "---\n",
    "**[35. Search Insert Position](https://leetcode.com/problems/search-insert-position/) (Easy)**\n",
    "\n",
    "Given a sorted array of distinct integers and a target value, return the index if the target is found. If not, return the index where it would be if it were inserted in order.\n",
    "\n",
    "You must write an algorithm with O(log n) runtime complexity."
   ]
  },
  {
   "cell_type": "code",
   "execution_count": 97,
   "id": "d6d47375",
   "metadata": {},
   "outputs": [],
   "source": [
    "def searchInsert(nums: List[int], target: int) -> int:\n",
    "\n",
    "    if len(nums) == 1:\n",
    "        if nums[0] >= target:\n",
    "            return 0\n",
    "        else:\n",
    "            return 1\n",
    "\n",
    "    left, right = 0, len(nums) - 1\n",
    "\n",
    "    while left < right:\n",
    "\n",
    "        med = left + (right - left) // 2\n",
    "\n",
    "        if nums[med] > target:\n",
    "            right = med - 1\n",
    "        elif nums[med] < target:\n",
    "            left = med + 1\n",
    "        else:\n",
    "            return med\n",
    "\n",
    "    if nums[left] < target:\n",
    "        return left + 1\n",
    "    else:\n",
    "        return left\n"
   ]
  },
  {
   "cell_type": "code",
   "execution_count": 96,
   "id": "fdf119e0",
   "metadata": {},
   "outputs": [],
   "source": [
    "assert searchInsert(nums=[1,3,5,6], target=5) == 2\n",
    "assert searchInsert(nums=[1,3,5,6], target=2) == 1\n",
    "assert searchInsert(nums=[1,3,5,6], target=7) == 4"
   ]
  },
  {
   "cell_type": "markdown",
   "id": "a5fe018f",
   "metadata": {},
   "source": [
    "_Nicer_"
   ]
  },
  {
   "cell_type": "code",
   "execution_count": 98,
   "id": "aa55f57c",
   "metadata": {},
   "outputs": [],
   "source": [
    "def searchInsert(nums: List[int], target: int) -> int:\n",
    "\n",
    "    if len(nums) == 1:\n",
    "        if nums[0] >= target:\n",
    "            return 0\n",
    "        else:\n",
    "            return 1\n",
    "\n",
    "    left, right = 0, len(nums) - 1\n",
    "\n",
    "    while left <= right:\n",
    "\n",
    "        med = left + (right - left) // 2\n",
    "\n",
    "        if nums[med] > target:\n",
    "            right = med - 1\n",
    "        elif nums[med] < target:\n",
    "            left = med + 1\n",
    "        else:\n",
    "            return med\n",
    "        \n",
    "    return left"
   ]
  },
  {
   "cell_type": "code",
   "execution_count": 99,
   "id": "420a3ba1",
   "metadata": {},
   "outputs": [],
   "source": [
    "assert searchInsert(nums=[1,3,5,6], target=5) == 2\n",
    "assert searchInsert(nums=[1,3,5,6], target=2) == 1\n",
    "assert searchInsert(nums=[1,3,5,6], target=7) == 4"
   ]
  },
  {
   "cell_type": "markdown",
   "id": "4f650214",
   "metadata": {},
   "source": [
    "---\n",
    "**[100. Same Tree](https://leetcode.com/problems/same-tree/) (Easy)**\n",
    "\n",
    "Given the roots of two binary trees p and q, write a function to check if they are the same or not.\n",
    "\n",
    "Two binary trees are considered the same if they are structurally identical, and the nodes have the same value."
   ]
  },
  {
   "cell_type": "code",
   "execution_count": 103,
   "id": "2f640a2a",
   "metadata": {},
   "outputs": [],
   "source": [
    "def isSameTree(p: Optional[TreeNode], q: Optional[TreeNode]) -> bool:\n",
    "\n",
    "    if not p and not q:\n",
    "        return True\n",
    "    elif (p and not q) or (not p and q):\n",
    "        return False\n",
    "    else:\n",
    "        return p.val == q.val and isSameTree(p.left, q.left) and isSameTree(p.right, q.right)"
   ]
  },
  {
   "cell_type": "markdown",
   "id": "6813a2f0",
   "metadata": {},
   "source": [
    "**[119. Pascal's Triangle II](https://leetcode.com/problems/pascals-triangle-ii/) (Easy)**\n",
    "\n",
    "Given an integer `rowIndex`, return the `rowIndexth` (0-indexed) row of the Pascal's triangle.\n",
    "\n",
    "In Pascal's triangle, each number is the sum of the two numbers directly above it as shown:\n",
    "\n",
    "<img src=\"https://habrastorage.org/webt/8e/6m/zh/8e6mzhh3y8bamt_vhxvw1mcg-pm.gif\" width=30%/>"
   ]
  },
  {
   "cell_type": "code",
   "execution_count": 137,
   "id": "33f4f38d",
   "metadata": {},
   "outputs": [],
   "source": [
    "from math import factorial"
   ]
  },
  {
   "cell_type": "code",
   "execution_count": 164,
   "id": "c337edd0",
   "metadata": {},
   "outputs": [],
   "source": [
    "def getRow(rowIndex: int) -> List[int]:\n",
    "\n",
    "    return [choose_multiplicative(rowIndex, k) for k in range(rowIndex + 1)]\n",
    "    \n",
    "# float overflow here\n",
    "def n_choose_k(n: int, k: int) -> int:\n",
    "    res = factorial(n) / factorial(k) / factorial(n-k)\n",
    "    return round(res)\n",
    "\n",
    "# this is slow\n",
    "def choose(n: int, k: int) -> int:\n",
    "    if k == 0: return 1\n",
    "    res = (n * choose(n - 1, k - 1)) / k\n",
    "    return round(res)\n",
    "\n",
    "# better\n",
    "def choose_multiplicative(n: int, k: int) -> int:\n",
    "    res = 1\n",
    "    for i in range(1, k + 1):\n",
    "        res *= (n - k + i) / i\n",
    "    return round(res)"
   ]
  },
  {
   "cell_type": "code",
   "execution_count": 165,
   "id": "b80edbdc",
   "metadata": {},
   "outputs": [
    {
     "name": "stdout",
     "output_type": "stream",
     "text": [
      "[1]\n",
      "[1, 1]\n",
      "[1, 2, 1]\n",
      "[1, 3, 3, 1]\n",
      "[1, 4, 6, 4, 1]\n",
      "[1, 5, 10, 10, 5, 1]\n",
      "[1, 6, 15, 20, 15, 6, 1]\n",
      "[1, 7, 21, 35, 35, 21, 7, 1]\n",
      "[1, 8, 28, 56, 70, 56, 28, 8, 1]\n",
      "[1, 9, 36, 84, 126, 126, 84, 36, 9, 1]\n"
     ]
    }
   ],
   "source": [
    "for i in range(10):\n",
    "    print(getRow(i))"
   ]
  },
  {
   "cell_type": "code",
   "execution_count": 166,
   "id": "4b10d66f",
   "metadata": {},
   "outputs": [
    {
     "name": "stdout",
     "output_type": "stream",
     "text": [
      "44.4 ms ± 5.63 ms per loop (mean ± std. dev. of 7 runs, 10 loops each)\n"
     ]
    }
   ],
   "source": [
    "%%timeit\n",
    "getRow(1000)"
   ]
  },
  {
   "cell_type": "markdown",
   "id": "776ced68",
   "metadata": {},
   "source": [
    "_Better_\n",
    "\n",
    "Uses the rule $$\\frac{n\\choose k}{n\\choose k-1} = \\frac{n!(n-(k-1)!(k-1)!)}{(n-k)!k!n!} = \\frac{n-k+1}{k}$$"
   ]
  },
  {
   "cell_type": "code",
   "execution_count": 158,
   "id": "e4f4b27f",
   "metadata": {},
   "outputs": [],
   "source": [
    "def getRow(n: int) -> List[int]:\n",
    "    res = [1]\n",
    "    \n",
    "    for k in range(1, n + 1):\n",
    "        next_elem = res[-1] * (n - k + 1) / k\n",
    "        res.append(round(next_elem))\n",
    "    return res"
   ]
  },
  {
   "cell_type": "code",
   "execution_count": 159,
   "id": "f0381e0b",
   "metadata": {},
   "outputs": [
    {
     "name": "stdout",
     "output_type": "stream",
     "text": [
      "[1]\n",
      "[1, 1]\n",
      "[1, 2, 1]\n",
      "[1, 3, 3, 1]\n",
      "[1, 4, 6, 4, 1]\n",
      "[1, 5, 10, 10, 5, 1]\n",
      "[1, 6, 15, 20, 15, 6, 1]\n",
      "[1, 7, 21, 35, 35, 21, 7, 1]\n",
      "[1, 8, 28, 56, 70, 56, 28, 8, 1]\n",
      "[1, 9, 36, 84, 126, 126, 84, 36, 9, 1]\n"
     ]
    }
   ],
   "source": [
    "for i in range(10):\n",
    "    print(getRow(i))"
   ]
  },
  {
   "cell_type": "code",
   "execution_count": 162,
   "id": "59eab589",
   "metadata": {},
   "outputs": [
    {
     "name": "stdout",
     "output_type": "stream",
     "text": [
      "457 µs ± 4.83 µs per loop (mean ± std. dev. of 7 runs, 1,000 loops each)\n"
     ]
    }
   ],
   "source": [
    "%%timeit\n",
    "getRow(1000)"
   ]
  },
  {
   "cell_type": "markdown",
   "id": "c1507c96",
   "metadata": {},
   "source": [
    "**[111. Minimum Depth of Binary Tree](https://leetcode.com/problems/minimum-depth-of-binary-tree/) (Easy)**\n",
    "\n",
    "Given a binary tree, find its minimum depth.\n",
    "\n",
    "The minimum depth is the number of nodes along the shortest path from the root node down to the nearest leaf node.\n",
    "\n",
    "Note: A leaf is a node with no children."
   ]
  },
  {
   "cell_type": "code",
   "execution_count": 167,
   "id": "45728987",
   "metadata": {},
   "outputs": [],
   "source": [
    "def minDepth(root: Optional[TreeNode]) -> int:\n",
    "\n",
    "    if not root:\n",
    "        return 0\n",
    "\n",
    "    depth = 1\n",
    "\n",
    "    if not root.left and not root.right:\n",
    "        return depth \n",
    "    elif not root.left and root.right:\n",
    "        depth += self.minDepth(root.right)\n",
    "    elif not root.right and root.left:\n",
    "        depth += self.minDepth(root.left)      \n",
    "    else:\n",
    "        depth += min(minDepth(root.left), minDepth(root.right))\n",
    "\n",
    "    return depth"
   ]
  },
  {
   "cell_type": "markdown",
   "id": "c7a79b10",
   "metadata": {},
   "source": [
    "_More concise_"
   ]
  },
  {
   "cell_type": "code",
   "execution_count": 168,
   "id": "84785f8f",
   "metadata": {},
   "outputs": [],
   "source": [
    "def minDepth(root: Optional[TreeNode]) -> int:\n",
    "\n",
    "    if not root: return 0\n",
    "    if not root.left: return minDepth(root.right) + 1\n",
    "    if not root.right: return minDepth(root.left) + 1\n",
    "    return min(minDepth(root.left), minDepth(root.right)) + 1"
   ]
  },
  {
   "cell_type": "markdown",
   "id": "e1417b36",
   "metadata": {},
   "source": [
    "---\n",
    "**[112. Path Sum]() (Easy)**\n",
    "\n",
    "Given the root of a binary tree and an integer `targetSum`, return true if the tree has a root-to-leaf path such that adding up all the values along the path equals `targetSum`.\n",
    "\n",
    "A leaf is a node with no children."
   ]
  },
  {
   "cell_type": "code",
   "execution_count": 196,
   "id": "74cbfa85",
   "metadata": {},
   "outputs": [],
   "source": [
    "# Definition for a binary tree node.\n",
    "class TreeNode:\n",
    "    def __init__(self, val=0, left=None, right=None):\n",
    "        self.val = val\n",
    "        self.left = left\n",
    "        self.right = right\n",
    "\n",
    "def hasPathSum(root: Optional[TreeNode], targetSum: int) -> bool:\n",
    "\n",
    "    if not root:\n",
    "        return False\n",
    "\n",
    "    lens = pathLengths(root)\n",
    "\n",
    "    return targetSum in lens\n",
    "\n",
    "\n",
    "def pathLengths(root: Optional[TreeNode], curr_len: int = 0):\n",
    "\n",
    "    lengths = set()\n",
    "\n",
    "    if not root.left and not root.right:\n",
    "        lengths.add(curr_len + root.val)\n",
    "        return lengths\n",
    "    \n",
    "    if root.left:\n",
    "        lengths.update(pathLengths(root.left, curr_len=curr_len + root.val))\n",
    "    if root.right:\n",
    "        lengths.update(pathLengths(root.right, curr_len=curr_len + root.val))\n",
    "\n",
    "    return lengths"
   ]
  },
  {
   "cell_type": "code",
   "execution_count": 199,
   "id": "e1f1e27f",
   "metadata": {},
   "outputs": [],
   "source": [
    "tree = TreeNode(val=1, \n",
    "                left=TreeNode(val=2, left=TreeNode(val=4), right=TreeNode(val=5)), \n",
    "                right=TreeNode(val=3))\n",
    "assert hasPathSum(tree, targetSum=7)"
   ]
  },
  {
   "cell_type": "code",
   "execution_count": 200,
   "id": "770d2ad6",
   "metadata": {},
   "outputs": [],
   "source": [
    "tree = TreeNode(val=5, \n",
    "                left=TreeNode(val=4, left=TreeNode(val=11, left=TreeNode(val=7), right=TreeNode(val=2))), \n",
    "                right=TreeNode(val=8, left=TreeNode(val=13), right=TreeNode(val=4, right=TreeNode(val=1)))\n",
    "               )\n",
    "assert hasPathSum(tree, targetSum=22)"
   ]
  },
  {
   "cell_type": "markdown",
   "id": "7d3d3c7f",
   "metadata": {},
   "source": [
    "**[665. Non-decreasing Array](https://leetcode.com/problems/non-decreasing-array/)**\n",
    "\n",
    "Given an array `nums` with `n` integers, your task is to check if it could become non-decreasing by modifying at most one element.\n",
    "\n",
    "We define an array is non-decreasing if `nums[i] <= nums[i + 1]` holds for every i (0-based) such that (0 <= i <= n - 2).\n",
    "\n"
   ]
  },
  {
   "cell_type": "code",
   "execution_count": 211,
   "id": "9d657a65",
   "metadata": {},
   "outputs": [],
   "source": [
    "def checkPossibility(nums: List[int]) -> bool:\n",
    "\n",
    "    if len(nums) == 1:\n",
    "        return True\n",
    "\n",
    "    num_violations = 0\n",
    "    for i in range(1, len(nums)):\n",
    "        if nums[i-1] > nums[i]:  # violation\n",
    "            num_violations += 1\n",
    "            \n",
    "            # check if it can be fixed \n",
    "            \n",
    "            current_can_be_fixed, prev_can_be_fixed = True, True\n",
    "            \n",
    "            if i >= 2 and nums[i-2] > nums[i]:\n",
    "                prev_can_be_fixed = False\n",
    "            \n",
    "            if i < len(nums) - 1 and nums[i-1] > nums[i + 1]:\n",
    "                current_can_be_fixed = False\n",
    "                \n",
    "            if not current_can_be_fixed and not prev_can_be_fixed:\n",
    "                return False\n",
    "\n",
    "        if num_violations > 1:\n",
    "            return False\n",
    "\n",
    "    return True\n",
    "                "
   ]
  },
  {
   "cell_type": "code",
   "execution_count": 212,
   "id": "3641f540",
   "metadata": {},
   "outputs": [],
   "source": [
    "assert checkPossibility(nums=[4,2,3])\n",
    "assert checkPossibility(nums=[4,2,1]) == False\n",
    "assert checkPossibility(nums=[5,7,1,8])\n",
    "assert checkPossibility(nums=[3,4,2,3]) == False"
   ]
  },
  {
   "cell_type": "code",
   "execution_count": null,
   "id": "0d87e231",
   "metadata": {},
   "outputs": [],
   "source": []
  }
 ],
 "metadata": {
  "kernelspec": {
   "display_name": "Python 3 (ipykernel)",
   "language": "python",
   "name": "python3"
  },
  "language_info": {
   "codemirror_mode": {
    "name": "ipython",
    "version": 3
   },
   "file_extension": ".py",
   "mimetype": "text/x-python",
   "name": "python",
   "nbconvert_exporter": "python",
   "pygments_lexer": "ipython3",
   "version": "3.10.4"
  }
 },
 "nbformat": 4,
 "nbformat_minor": 5
}
