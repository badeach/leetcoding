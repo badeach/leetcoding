{
 "cells": [
  {
   "cell_type": "markdown",
   "id": "bb4d5d2a",
   "metadata": {},
   "source": [
    "---\n",
    "**[199. Binary Tree Right Side View](https://leetcode.com/problems/binary-tree-right-side-view/)**\n",
    "\n",
    "Given the root of a binary tree, imagine yourself standing on the right side of it, return the values of the nodes you can see ordered from top to bottom."
   ]
  },
  {
   "cell_type": "markdown",
   "id": "12bb24a9",
   "metadata": {},
   "source": [
    "_Idea: level-order traversal (see [here](https://leetcode.com/problems/binary-tree-level-order-traversal/)), take last element from each level_"
   ]
  },
  {
   "cell_type": "code",
   "execution_count": 2,
   "id": "0744ded4",
   "metadata": {},
   "outputs": [],
   "source": [
    "from typing import List, Optional"
   ]
  },
  {
   "cell_type": "code",
   "execution_count": 3,
   "id": "574831a6",
   "metadata": {},
   "outputs": [],
   "source": [
    "class TreeNode:\n",
    "    def __init__(self, val=0, left=None, right=None):\n",
    "        self.val = val\n",
    "        self.left = left\n",
    "        self.right = right"
   ]
  },
  {
   "cell_type": "code",
   "execution_count": 4,
   "id": "6d3fde39",
   "metadata": {},
   "outputs": [],
   "source": [
    "def rightSideView(root: Optional[TreeNode]) -> List[int]:\n",
    "        \n",
    "    if not root:\n",
    "        return []\n",
    "\n",
    "    visited = [root.val]\n",
    "    queue = [[root]]\n",
    "\n",
    "    level = 0\n",
    "\n",
    "    while 1:\n",
    "\n",
    "        curr_visited = []\n",
    "        curr_queue = []\n",
    "\n",
    "        for node in queue[level]:\n",
    "            if node.left:\n",
    "                curr_queue.append(node.left)\n",
    "                curr_visited.append(node.left.val)\n",
    "            if node.right:\n",
    "                curr_queue.append(node.right)\n",
    "                curr_visited.append(node.right.val)\n",
    "\n",
    "        if curr_queue:\n",
    "            visited.append(curr_visited[-1])\n",
    "            queue.append(curr_queue)\n",
    "            level += 1\n",
    "        else:\n",
    "            break\n",
    "\n",
    "    return visited"
   ]
  },
  {
   "cell_type": "markdown",
   "id": "47566af2",
   "metadata": {},
   "source": [
    "---\n",
    "**[473. Matchsticks to Square](https://leetcode.com/problems/matchsticks-to-square/)**\n",
    "\n",
    "You are given an integer array matchsticks where matchsticks[i] is the length of the ith matchstick. You want to use all the matchsticks to make one square. You should not break any stick, but you can link them up, and each matchstick must be used exactly one time.\n",
    "\n",
    "Return true if you can make this square and false otherwise."
   ]
  },
  {
   "cell_type": "code",
   "execution_count": 63,
   "id": "a04d62e0",
   "metadata": {},
   "outputs": [],
   "source": [
    "def two_equal_sums(arr: List[int], depth=2) -> bool:\n",
    "\n",
    "        if depth == 0:\n",
    "            return True\n",
    "        \n",
    "        for i in range(2 ** (len(arr) - 1)):\n",
    "\n",
    "            bitmask = f'{i:b}'.zfill(len(arr))\n",
    "            sum1, sum2 = 0, 0 \n",
    "\n",
    "            for j, mask in enumerate(bitmask):\n",
    "                if mask == '0':\n",
    "                    sum1 += arr[j]\n",
    "                else:\n",
    "                    sum2 += arr[j]\n",
    "\n",
    "            if sum1 == sum2:\n",
    "                subset1, subset2 = [], []\n",
    "            \n",
    "\n",
    "                for j, mask in enumerate(bitmask):\n",
    "                    if mask == '0':\n",
    "                        subset1.append(arr[j])\n",
    "                    else:\n",
    "                        subset2.append(arr[j])\n",
    "                \n",
    "                if two_equal_sums(subset1, depth=depth-1) and two_equal_sums(subset2, depth=depth-1):\n",
    "                    return True\n",
    "\n",
    "        return False"
   ]
  },
  {
   "cell_type": "code",
   "execution_count": 66,
   "id": "98f5bdb6",
   "metadata": {},
   "outputs": [],
   "source": [
    "assert two_equal_sums(arr=[1,1,2,2,2])\n",
    "assert two_equal_sums(arr=[3,3,3,3,4]) == False\n",
    "assert two_equal_sums(arr=[5,5,5,5,4,4,4,4,3,3,3,3])\n",
    "assert two_equal_sums([9,2,4,10,1,7,3,7,2,6,7,1,9,1,1]) == False"
   ]
  },
  {
   "cell_type": "markdown",
   "id": "8fb7302a",
   "metadata": {},
   "source": [
    "---\n",
    "\n",
    "**[695. Max Area of Island](https://leetcode.com/problems/max-area-of-island/)**\n",
    "You are given an m x n binary matrix grid. An island is a group of 1's (representing land) connected 4-directionally (horizontal or vertical.) You may assume all four edges of the grid are surrounded by water.\n",
    "\n",
    "The area of an island is the number of cells with a value 1 in the island.\n",
    "\n",
    "Return the maximum area of an island in grid. If there is no island, return 0.\n",
    "\n",
    "<img src=\"https://habrastorage.org/webt/xg/yr/io/xgyrio54adpc5rc4di6hge2eqzs.png\" width=60%/>"
   ]
  },
  {
   "cell_type": "code",
   "execution_count": 34,
   "id": "e0e3c1fb",
   "metadata": {},
   "outputs": [],
   "source": [
    "class Cell:\n",
    "    def __init__(self, row, col):\n",
    "        self.row = row\n",
    "        self.col = col\n",
    "    def __repr__(self):\n",
    "        return f\"({self.row}, {self.col})\"\n",
    "        \n",
    "def maxAreaOfIsland(grid: List[List[str]]) -> int:\n",
    "\n",
    "    visited = [[0] * len(grid[0]) for _ in range(len(grid))]\n",
    "\n",
    "    max_area_of_island = 0\n",
    "\n",
    "    for i in range(len(grid)):\n",
    "        for j in range(len(grid[0])):\n",
    "\n",
    "            if grid[i][j] == 1 and not visited[i][j]:\n",
    "                area_of_island = areaOfIsland(i, j, grid, visited)\n",
    "                max_area_of_island = max(max_area_of_island, area_of_island)\n",
    "\n",
    "    return max_area_of_island \n",
    "\n",
    "\n",
    "def areaOfIsland(i: int, j: int, grid: List[List[str]],\n",
    "                  visited: List[List[int]]) -> int:\n",
    "    \n",
    "    area = 0\n",
    "\n",
    "    queue = [Cell(i, j)]\n",
    "\n",
    "    neighbour_dirs = [Cell(elem[0], elem[1]) for elem in \n",
    "                     ((-1, 0), (0, 1), (1, 0), (0, -1))]\n",
    "\n",
    "    while queue:\n",
    "\n",
    "        current = queue.pop()\n",
    "        \n",
    "        \n",
    "        if current.row >= 0 and current.row < len(grid) \\\n",
    "                    and current.col >= 0 and current.col < len(grid[0]):\n",
    "            \n",
    "            if visited[current.row][current.col] == 0:\n",
    "                area += 1\n",
    "        \n",
    "            visited[current.row][current.col] = 1\n",
    "            \n",
    "        \n",
    "        for direction in neighbour_dirs:\n",
    "                neighbour = Cell(current.row + direction.row,\n",
    "                                 current.col + direction.col)\n",
    "                \n",
    "                \n",
    "                if neighbour.row < 0 or neighbour.row == len(grid) \\\n",
    "                    or neighbour.col < 0 or neighbour.col == len(grid[0]):\n",
    "                    continue\n",
    "\n",
    "\n",
    "                if grid[neighbour.row][neighbour.col] == 0:\n",
    "                    continue\n",
    "\n",
    "                elif not visited[neighbour.row][neighbour.col]:\n",
    "                    \n",
    "                    queue.append(neighbour)    \n",
    "    return area"
   ]
  },
  {
   "cell_type": "code",
   "execution_count": 35,
   "id": "39cde73e",
   "metadata": {},
   "outputs": [],
   "source": [
    "assert maxAreaOfIsland(grid=[[0,0,1,0,0,0,0,1,0,0,0,0,0],\n",
    "                             [0,0,0,0,0,0,0,1,1,1,0,0,0],\n",
    "                             [0,1,1,0,1,0,0,0,0,0,0,0,0],\n",
    "                             [0,1,0,0,1,1,0,0,1,0,1,0,0],\n",
    "                             [0,1,0,0,1,1,0,0,1,1,1,0,0],\n",
    "                             [0,0,0,0,0,0,0,0,0,0,1,0,0],\n",
    "                             [0,0,0,0,0,0,0,1,1,1,0,0,0],\n",
    "                             [0,0,0,0,0,0,0,1,1,0,0,0,0]]) == 6\n",
    "assert maxAreaOfIsland(grid = [[0,0,0,0,0,0,0,0]]) == 0\n",
    "assert maxAreaOfIsland(grid=[[1,1,0,0,0],[1,1,0,0,0],[0,0,0,1,1],[0,0,0,1,1]]) == 4"
   ]
  }
 ],
 "metadata": {
  "kernelspec": {
   "display_name": "Python 3 (ipykernel)",
   "language": "python",
   "name": "python3"
  },
  "language_info": {
   "codemirror_mode": {
    "name": "ipython",
    "version": 3
   },
   "file_extension": ".py",
   "mimetype": "text/x-python",
   "name": "python",
   "nbconvert_exporter": "python",
   "pygments_lexer": "ipython3",
   "version": "3.10.4"
  }
 },
 "nbformat": 4,
 "nbformat_minor": 5
}
