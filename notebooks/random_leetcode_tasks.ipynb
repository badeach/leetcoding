{
 "cells": [
  {
   "cell_type": "markdown",
   "id": "bb4d5d2a",
   "metadata": {},
   "source": [
    "---\n",
    "**[199. Binary Tree Right Side View](https://leetcode.com/problems/binary-tree-right-side-view/)**\n",
    "\n",
    "Given the root of a binary tree, imagine yourself standing on the right side of it, return the values of the nodes you can see ordered from top to bottom."
   ]
  },
  {
   "cell_type": "markdown",
   "id": "12bb24a9",
   "metadata": {},
   "source": [
    "_Idea: level-order traversal (see [here](https://leetcode.com/problems/binary-tree-level-order-traversal/)), take last element from each level_"
   ]
  },
  {
   "cell_type": "code",
   "execution_count": 1,
   "id": "0744ded4",
   "metadata": {},
   "outputs": [],
   "source": [
    "from typing import List, Optional"
   ]
  },
  {
   "cell_type": "code",
   "execution_count": 2,
   "id": "574831a6",
   "metadata": {},
   "outputs": [],
   "source": [
    "class TreeNode:\n",
    "    def __init__(self, val=0, left=None, right=None):\n",
    "        self.val = val\n",
    "        self.left = left\n",
    "        self.right = right"
   ]
  },
  {
   "cell_type": "code",
   "execution_count": 3,
   "id": "6d3fde39",
   "metadata": {},
   "outputs": [],
   "source": [
    "def rightSideView(root: Optional[TreeNode]) -> List[int]:\n",
    "        \n",
    "    if not root:\n",
    "        return []\n",
    "\n",
    "    visited = [root.val]\n",
    "    queue = [[root]]\n",
    "\n",
    "    level = 0\n",
    "\n",
    "    while 1:\n",
    "\n",
    "        curr_visited = []\n",
    "        curr_queue = []\n",
    "\n",
    "        for node in queue[level]:\n",
    "            if node.left:\n",
    "                curr_queue.append(node.left)\n",
    "                curr_visited.append(node.left.val)\n",
    "            if node.right:\n",
    "                curr_queue.append(node.right)\n",
    "                curr_visited.append(node.right.val)\n",
    "\n",
    "        if curr_queue:\n",
    "            visited.append(curr_visited[-1])\n",
    "            queue.append(curr_queue)\n",
    "            level += 1\n",
    "        else:\n",
    "            break\n",
    "\n",
    "    return visited"
   ]
  },
  {
   "cell_type": "code",
   "execution_count": null,
   "id": "a04d62e0",
   "metadata": {},
   "outputs": [],
   "source": []
  }
 ],
 "metadata": {
  "kernelspec": {
   "display_name": "Python 3 (ipykernel)",
   "language": "python",
   "name": "python3"
  },
  "language_info": {
   "codemirror_mode": {
    "name": "ipython",
    "version": 3
   },
   "file_extension": ".py",
   "mimetype": "text/x-python",
   "name": "python",
   "nbconvert_exporter": "python",
   "pygments_lexer": "ipython3",
   "version": "3.10.4"
  }
 },
 "nbformat": 4,
 "nbformat_minor": 5
}
