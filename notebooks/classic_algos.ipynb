{
 "cells": [
  {
   "cell_type": "markdown",
   "id": "07ff7701",
   "metadata": {},
   "source": [
    "## QuickSort"
   ]
  },
  {
   "cell_type": "code",
   "execution_count": 27,
   "id": "12bed81c",
   "metadata": {},
   "outputs": [],
   "source": [
    "from random import randint"
   ]
  },
  {
   "cell_type": "code",
   "execution_count": 28,
   "id": "ebeaac76",
   "metadata": {},
   "outputs": [],
   "source": [
    "def quicksort(nums):\n",
    "    if len(nums) <= 1:\n",
    "        return nums\n",
    "    pivot = nums[randint(0, len(nums) - 1)]\n",
    "    left = [el for el in nums if el < pivot]\n",
    "    equal = [el for el in nums if el == pivot]\n",
    "    right = [el for el in nums if el > pivot]\n",
    "    return quicksort(left) + equal + quicksort(right)"
   ]
  },
  {
   "cell_type": "code",
   "execution_count": 29,
   "id": "60e77508",
   "metadata": {},
   "outputs": [
    {
     "data": {
      "text/plain": [
       "[0, 1, 2, 3, 4, 4, 7, 10]"
      ]
     },
     "execution_count": 29,
     "metadata": {},
     "output_type": "execute_result"
    }
   ],
   "source": [
    "quicksort([3, 1, 7, 4, 4, 2, 0, 10])"
   ]
  },
  {
   "cell_type": "code",
   "execution_count": 30,
   "id": "5693c2a6",
   "metadata": {},
   "outputs": [
    {
     "data": {
      "text/plain": [
       "[1, 3, 7]"
      ]
     },
     "execution_count": 30,
     "metadata": {},
     "output_type": "execute_result"
    }
   ],
   "source": [
    "quicksort([3, 1, 7])"
   ]
  },
  {
   "cell_type": "markdown",
   "id": "65f660f7",
   "metadata": {},
   "source": [
    "## Run-length encoding"
   ]
  },
  {
   "cell_type": "code",
   "execution_count": 3,
   "id": "397f5dfe",
   "metadata": {},
   "outputs": [],
   "source": [
    "def rle(a_string):\n",
    "    result = []\n",
    "    if len(a_string) == 0:\n",
    "        return result\n",
    "    elif len(a_string) == 1:\n",
    "        result.append((a_string[0], 1))\n",
    "        return result\n",
    "    else:\n",
    "        freq_counter = 1\n",
    "        previous_char = a_string[0]\n",
    "        \n",
    "        for char in a_string[1:]:\n",
    "            if char != previous_char:\n",
    "                result.append((previous_char, freq_counter))\n",
    "                freq_counter = 1\n",
    "            else:\n",
    "                freq_counter += 1\n",
    "\n",
    "            previous_char = char\n",
    "\n",
    "        result.append((char, freq_counter))\n",
    "        return result"
   ]
  },
  {
   "cell_type": "code",
   "execution_count": 4,
   "id": "5096e080",
   "metadata": {},
   "outputs": [
    {
     "data": {
      "text/plain": [
       "[('a', 4), ('b', 3), ('c', 2), ('a', 1)]"
      ]
     },
     "execution_count": 4,
     "metadata": {},
     "output_type": "execute_result"
    }
   ],
   "source": [
    "rle(\"aaaabbbcca\")"
   ]
  }
 ],
 "metadata": {
  "kernelspec": {
   "display_name": "Python 3 (ipykernel)",
   "language": "python",
   "name": "python3"
  },
  "language_info": {
   "codemirror_mode": {
    "name": "ipython",
    "version": 3
   },
   "file_extension": ".py",
   "mimetype": "text/x-python",
   "name": "python",
   "nbconvert_exporter": "python",
   "pygments_lexer": "ipython3",
   "version": "3.10.4"
  }
 },
 "nbformat": 4,
 "nbformat_minor": 5
}
