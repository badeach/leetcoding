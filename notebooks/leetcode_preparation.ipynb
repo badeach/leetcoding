{
 "cells": [
  {
   "cell_type": "markdown",
   "id": "cf65edf0",
   "metadata": {},
   "source": [
    "# Leetcode whiteboarding preparation\n",
    "\n",
    "The plan is to cover the following topics:\n",
    " - Arrays\n",
    " - Strings\n",
    " - Linked Lists\n",
    " - Trees & Graphs\n",
    " - Recursion\n",
    " - Sorting & searching\n",
    " - Dynamic programming\n",
    " \n",
    "30 problems per topic per difficulty level (Easy, Medium, Hard). With 3 problems/day it's ~2 months per difficulty level, 6 months in total.\n",
    "\n",
    "The progress is tracked in [this Google Sheet](https://docs.google.com/spreadsheets/d/1tPDrjMuTAbnFf83c9K4smXM1uoYOHthPhGk4KvrM7SE/edit#gid=0)"
   ]
  },
  {
   "cell_type": "markdown",
   "id": "cf80004b",
   "metadata": {},
   "source": [
    "# Arrays. Easy"
   ]
  },
  {
   "cell_type": "markdown",
   "id": "f766de7e",
   "metadata": {},
   "source": [
    "---\n",
    "[1. Two Sum](https://leetcode.com/problems/two-sum/)\n",
    "\n",
    "Given an array of integers `nums` and an integer `target`, return indices of the two numbers such that they add up to target.\n",
    "\n",
    "You may assume that each input would have exactly one solution, and you may not use the same element twice.\n",
    "\n",
    "You can return the answer in any order.\n",
    "\n"
   ]
  },
  {
   "cell_type": "code",
   "execution_count": 12,
   "id": "41b9c15a",
   "metadata": {},
   "outputs": [],
   "source": [
    "from typing import List, Optional"
   ]
  },
  {
   "cell_type": "code",
   "execution_count": 13,
   "id": "77564619",
   "metadata": {},
   "outputs": [],
   "source": [
    "def twoSum(nums: List[int], target: int) -> List[int]:\n",
    "    \n",
    "    visited = {}\n",
    "    for i in range(len(nums)):\n",
    "        complement = target - nums[i]\n",
    "        if complement in visited:\n",
    "            return  sorted([i, visited[complement]])\n",
    "        visited[nums[i]] = i\n"
   ]
  },
  {
   "cell_type": "code",
   "execution_count": 14,
   "id": "e7966c60",
   "metadata": {},
   "outputs": [],
   "source": [
    "assert twoSum(nums=[2,7,11,15], target=9) == [0, 1]\n",
    "assert twoSum(nums=[3,2,4], target=6) == [1, 2]\n",
    "assert twoSum(nums=[3,3], target=6) == [0, 1]"
   ]
  },
  {
   "cell_type": "markdown",
   "id": "cb6aa807",
   "metadata": {},
   "source": [
    "---\n",
    "**[26. Remove Duplicates from Sorted Array](https://leetcode.com/problems/remove-duplicates-from-sorted-array/)**\n",
    "\n",
    "Given an integer array `nums` sorted in non-decreasing order, remove the duplicates in-place such that each unique element appears only once. The relative order of the elements should be kept the same.\n",
    "\n",
    "Since it is impossible to change the length of the array in some languages, you must instead have the result be placed in the first part of the array `nums`. More formally, if there are `k` elements after removing the duplicates, then the first `k` elements of `nums` should hold the final result. It does not matter what you leave beyond the first `k` elements.\n",
    "\n",
    "Return `k` after placing the final result in the first `k` slots of `nums`.\n",
    "\n",
    "Do not allocate extra space for another array. You must do this by modifying the input array in-place with $O(1)$ extra memory."
   ]
  },
  {
   "cell_type": "code",
   "execution_count": 16,
   "id": "d2d7c4ce",
   "metadata": {},
   "outputs": [],
   "source": [
    "def removeDuplicates(nums: List[int]) -> int:\n",
    "\n",
    "    visited = set()\n",
    "\n",
    "    j = 0\n",
    "\n",
    "    for i in range(len(nums)):\n",
    "\n",
    "        if nums[i] not in visited:\n",
    "\n",
    "            nums[j] = nums[i]\n",
    "            visited.add(nums[i])   \n",
    "            j += 1\n",
    "\n",
    "    return j"
   ]
  },
  {
   "cell_type": "code",
   "execution_count": 17,
   "id": "4ba576cc",
   "metadata": {},
   "outputs": [],
   "source": [
    "assert removeDuplicates(nums=[1,1,2]) == 2\n",
    "assert removeDuplicates(nums=[0,0,1,1,1,2,2,3,3,4]) == 5"
   ]
  },
  {
   "cell_type": "markdown",
   "id": "b2d7f952",
   "metadata": {},
   "source": [
    "- Time complexity : $O(n)$\n",
    "- Space complexity : $O(n)$"
   ]
  },
  {
   "cell_type": "markdown",
   "id": "19d07b17",
   "metadata": {},
   "source": [
    "We can do better with two pointers"
   ]
  },
  {
   "cell_type": "code",
   "execution_count": 38,
   "id": "7c0cd27c",
   "metadata": {},
   "outputs": [],
   "source": [
    "def removeDuplicates(nums: List[int]) -> int:\n",
    "    if len(nums) == 0:\n",
    "        return 0\n",
    "    \n",
    "    i = 0\n",
    "    for j in range(1, len(nums)):\n",
    "        if nums[j] != nums[i]:\n",
    "            i += 1\n",
    "            nums[i] = nums[j];\n",
    "    return i + 1;"
   ]
  },
  {
   "cell_type": "code",
   "execution_count": 39,
   "id": "e26d5c96",
   "metadata": {},
   "outputs": [],
   "source": [
    "assert removeDuplicates(nums=[1,1,2]) == 2\n",
    "assert removeDuplicates(nums=[0,0,1,1,1,2,2,3,3,4]) == 5"
   ]
  },
  {
   "cell_type": "markdown",
   "id": "a5667c22",
   "metadata": {},
   "source": [
    "- Time complexity : $O(n)$\n",
    "- Space complexity : $O(1)$"
   ]
  },
  {
   "cell_type": "markdown",
   "id": "09086d10",
   "metadata": {},
   "source": [
    "---\n",
    "\n",
    "**[27. Remove Element](https://leetcode.com/problems/remove-element/)**\n",
    "\n",
    "Given an integer array `nums` and an integer val, remove all occurrences of val in `nums` in-place. The relative order of the elements may be changed.\n",
    "\n",
    "Since it is impossible to change the length of the array in some languages, you must instead have the result be placed in the first part of the array `nums`. More formally, if there are `k` elements after removing the duplicates, then the first `k` elements of `nums` should hold the final result. It does not matter what you leave beyond the first `k` elements.\n",
    "\n",
    "Return `k` after placing the final result in the first `k` slots of `nums`.\n",
    "\n",
    "Do not allocate extra space for another array. You must do this by modifying the input array in-place with $O(1)$ extra memory."
   ]
  },
  {
   "cell_type": "code",
   "execution_count": 18,
   "id": "23a460a2",
   "metadata": {},
   "outputs": [],
   "source": [
    "def removeElement(nums: List[int], val: int) -> int:\n",
    "\n",
    "    j = 0\n",
    "\n",
    "    for i in range(len(nums)):\n",
    "        if nums[i] != val:\n",
    "            nums[j] = nums[i]\n",
    "            j += 1\n",
    "\n",
    "    return j"
   ]
  },
  {
   "cell_type": "code",
   "execution_count": 19,
   "id": "7bcbe64a",
   "metadata": {},
   "outputs": [],
   "source": [
    "assert removeElement(nums=[3,2,2,3], val=3) == 2\n",
    "assert removeElement(nums=[0,1,2,2,3,0,4,2], val=2) == 5"
   ]
  },
  {
   "cell_type": "markdown",
   "id": "28ddb815",
   "metadata": {},
   "source": [
    "- Time complexity : $O(n)$\n",
    "- Space complexity : $O(1)$"
   ]
  },
  {
   "cell_type": "markdown",
   "id": "1891205c",
   "metadata": {},
   "source": [
    "_A better solution for rare duplicates_"
   ]
  },
  {
   "cell_type": "code",
   "execution_count": 35,
   "id": "03c137b3",
   "metadata": {},
   "outputs": [],
   "source": [
    "def removeElement(nums: List[int], val: int) -> int:\n",
    "    i, n = 0, len(nums)\n",
    "\n",
    "    while i < n:\n",
    "        if nums[i] == val:\n",
    "            nums[i] = nums[n - 1]\n",
    "            # reduce array size by one\n",
    "            n -= 1\n",
    "        else:\n",
    "            i += 1\n",
    "\n",
    "    return n"
   ]
  },
  {
   "cell_type": "code",
   "execution_count": 36,
   "id": "b47b01a5",
   "metadata": {},
   "outputs": [],
   "source": [
    "assert removeElement(nums=[3,2,2,3], val=3) == 2\n",
    "assert removeElement(nums=[0,1,2,2,3,0,4,2], val=2) == 5"
   ]
  },
  {
   "cell_type": "markdown",
   "id": "e7d6e5b4",
   "metadata": {},
   "source": [
    "---\n",
    "**[219. Contains Duplicate II](https://leetcode.com/problems/contains-duplicate-ii/)**\n",
    "\n",
    "Given an integer array `nums` and an integer `k`, return true if there are two distinct indices `i` and `j` in the array such that `nums[i] == nums[j]` and `abs(i - j) <= k`.\n",
    "\n"
   ]
  },
  {
   "cell_type": "code",
   "execution_count": 20,
   "id": "cb7bd88d",
   "metadata": {},
   "outputs": [],
   "source": [
    "def containsNearbyDuplicate(nums: List[int], k: int) -> bool:\n",
    "\n",
    "\n",
    "    visited = set()\n",
    "\n",
    "    for i in range(min(k, len(nums))):\n",
    "\n",
    "        if nums[i] in visited:\n",
    "            return True\n",
    "\n",
    "        visited.add(nums[i])\n",
    "\n",
    "    i = 0\n",
    "\n",
    "    for j in range(min(k, len(nums)), len(nums)):\n",
    "\n",
    "        if j - i > k:\n",
    "            visited.remove(nums[i])\n",
    "            i += 1\n",
    "\n",
    "        if nums[j] in visited:\n",
    "            return True\n",
    "\n",
    "        visited.add(nums[j])\n",
    "\n",
    "    return False"
   ]
  },
  {
   "cell_type": "code",
   "execution_count": 21,
   "id": "4f1ee617",
   "metadata": {},
   "outputs": [],
   "source": [
    "assert containsNearbyDuplicate(nums=[1,2,3,1], k=3)\n",
    "assert containsNearbyDuplicate(nums=[1,0,1,1], k = 1) \n",
    "assert containsNearbyDuplicate(nums=[1,2,3,1,2,3], k=2) == False"
   ]
  },
  {
   "cell_type": "markdown",
   "id": "6f3461ad",
   "metadata": {},
   "source": [
    "_Nicer_"
   ]
  },
  {
   "cell_type": "code",
   "execution_count": 33,
   "id": "fee134e3",
   "metadata": {},
   "outputs": [],
   "source": [
    "def containsNearbyDuplicate(nums: List[int], k: int) -> bool:\n",
    "    \n",
    "    visited = set()\n",
    "    for i in range(len(nums)):\n",
    "        if nums[i] in visited:\n",
    "            return True\n",
    "        \n",
    "        visited.add(nums[i])\n",
    "        \n",
    "        if (len(visited) > k):\n",
    "            visited.remove(nums[i - k])\n",
    "    return False"
   ]
  },
  {
   "cell_type": "code",
   "execution_count": 34,
   "id": "f6415f58",
   "metadata": {},
   "outputs": [],
   "source": [
    "assert containsNearbyDuplicate(nums=[1,2,3,1], k=3)\n",
    "assert containsNearbyDuplicate(nums=[1,0,1,1], k = 1) \n",
    "assert containsNearbyDuplicate(nums=[1,2,3,1,2,3], k=2) == False"
   ]
  },
  {
   "cell_type": "markdown",
   "id": "3d306249",
   "metadata": {},
   "source": [
    "- Time complexity : $O(n)$\n",
    "- Space complexity : $O(\\min(n,k))$. The extra space required depends on the number of items stored in the hash table, which is the size of the sliding window, $\\min(n,k)$."
   ]
  },
  {
   "cell_type": "markdown",
   "id": "1e30c258",
   "metadata": {},
   "source": [
    "---\n",
    "**[170. Two Sum III - Data structure design](https://leetcode.com/problems/two-sum-iii-data-structure-design/)**\n",
    "\n",
    "Design a data structure that accepts a stream of integers and checks if it has a pair of integers that sum up to a particular value.\n",
    "\n",
    "Implement the `TwoSum` class:\n",
    "\n",
    "- `TwoSum()` Initializes the TwoSum object, with an empty array initially.\n",
    "- `void add(int number)` Adds number to the data structure.\n",
    "- `boolean find(int value)` Returns true if there exists any pair of numbers whose sum is equal to value, otherwise, it returns false."
   ]
  },
  {
   "cell_type": "code",
   "execution_count": 22,
   "id": "e769b8c1",
   "metadata": {},
   "outputs": [],
   "source": [
    "class TwoSum:\n",
    "\n",
    "    def __init__(self):\n",
    "        self.cache = []\n",
    "        \n",
    "    def add(self, number: int) -> None:\n",
    "        self.cache.append(number)\n",
    "        \n",
    "    def find(self, value: int) -> bool:\n",
    "        \n",
    "        visited = set()\n",
    "        \n",
    "        for i in range(len(self.cache)):\n",
    "            complement = value - self.cache[i]\n",
    "            \n",
    "            if complement in visited:\n",
    "                return True\n",
    "            visited.add(self.cache[i])\n",
    "            \n",
    "        return False"
   ]
  },
  {
   "cell_type": "code",
   "execution_count": 23,
   "id": "0b2ca4de",
   "metadata": {},
   "outputs": [],
   "source": [
    "twoSum = TwoSum();\n",
    "twoSum.add(1)                     # [] --> [1]\n",
    "twoSum.add(3)                     # [1] --> [1,3]\n",
    "twoSum.add(5)                     # [1,3] --> [1,3,5]\n",
    "assert twoSum.find(4)             # 1 + 3 = 4, return true\n",
    "assert twoSum.find(7) == False    # No two integers sum up to 7, return false"
   ]
  },
  {
   "cell_type": "markdown",
   "id": "26e9c8a2",
   "metadata": {},
   "source": [
    "Time complexity:\n",
    " - `add`: $O(1)$\n",
    " - `find`: $O(N)$\n",
    " \n",
    "Space complexity:\n",
    " - `add`: $O(1)$\n",
    " - `find`: $O(N)$\n",
    " - `total`: $O(N \\cdot m)$, where $m$ is the number of calls to `find`"
   ]
  },
  {
   "cell_type": "markdown",
   "id": "2a683ba5",
   "metadata": {},
   "source": [
    "We can do better with a frequency dictionary"
   ]
  },
  {
   "cell_type": "code",
   "execution_count": 24,
   "id": "602b0285",
   "metadata": {},
   "outputs": [],
   "source": [
    "class TwoSum(object):\n",
    "\n",
    "    def __init__(self):\n",
    "        \"\"\"\n",
    "        Initialize your data structure here.\n",
    "        \"\"\"\n",
    "        self.num_counts = {}\n",
    "\n",
    "\n",
    "    def add(self, number):\n",
    "        \"\"\"\n",
    "        Add the number to an internal data structure..\n",
    "        :type number: int\n",
    "        :rtype: None\n",
    "        \"\"\"\n",
    "        if number in self.num_counts:\n",
    "            self.num_counts[number] += 1\n",
    "        else:\n",
    "            self.num_counts[number] = 1\n",
    "\n",
    "    def find(self, value):\n",
    "        \"\"\"\n",
    "        Find if there exists any pair of numbers which sum is equal to the value.\n",
    "        :type value: int\n",
    "        :rtype: bool\n",
    "        \"\"\"\n",
    "        for num in self.num_counts.keys():\n",
    "            comple = value - num\n",
    "            if num != comple:\n",
    "                if comple in self.num_counts:\n",
    "                    return True\n",
    "            elif self.num_counts[num] > 1:\n",
    "                return True\n",
    "        \n",
    "        return False"
   ]
  },
  {
   "cell_type": "code",
   "execution_count": 25,
   "id": "e6958d80",
   "metadata": {},
   "outputs": [],
   "source": [
    "twoSum = TwoSum();\n",
    "twoSum.add(1)                     # [] --> [1]\n",
    "twoSum.add(3)                     # [1] --> [1,3]\n",
    "twoSum.add(5)                     # [1,3] --> [1,3,5]\n",
    "assert twoSum.find(4)             # 1 + 3 = 4, return true\n",
    "assert twoSum.find(7) == False    # No two integers sum up to 7, return false"
   ]
  },
  {
   "cell_type": "markdown",
   "id": "9f783731",
   "metadata": {},
   "source": [
    "Time complexity:\n",
    " - `add`: $O(1)$\n",
    " - `find`: $O(N)$, where $N$ is the total number of unique numbers\n",
    " \n",
    "Space complexity:\n",
    " - `add`: $O(1)$\n",
    " - `find`: $O(1)$\n",
    " - `total`: $O(N)$, where $N$ is the total number of unique numbers, regardless of the number of calls to `find`"
   ]
  }
 ],
 "metadata": {
  "kernelspec": {
   "display_name": "Python 3 (ipykernel)",
   "language": "python",
   "name": "python3"
  },
  "language_info": {
   "codemirror_mode": {
    "name": "ipython",
    "version": 3
   },
   "file_extension": ".py",
   "mimetype": "text/x-python",
   "name": "python",
   "nbconvert_exporter": "python",
   "pygments_lexer": "ipython3",
   "version": "3.10.4"
  }
 },
 "nbformat": 4,
 "nbformat_minor": 5
}
