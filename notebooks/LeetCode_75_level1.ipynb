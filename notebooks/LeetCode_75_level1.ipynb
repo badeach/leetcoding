{
 "cells": [
  {
   "cell_type": "markdown",
   "id": "52f5a71a",
   "metadata": {},
   "source": [
    "# [Study Plan](https://leetcode.com/study-plan/leetcode-75/?progress=st3ev9e)"
   ]
  },
  {
   "cell_type": "code",
   "execution_count": 5,
   "id": "f417a439",
   "metadata": {},
   "outputs": [],
   "source": [
    "from typing import List, Dict, Tuple, Any, Callable, Optional"
   ]
  },
  {
   "cell_type": "code",
   "execution_count": 3,
   "id": "55079b81",
   "metadata": {},
   "outputs": [],
   "source": [
    "def run_test_cases(func: Callable, test_cases: List[Tuple[Any, Any]]):\n",
    "    for inp, out in test_cases:\n",
    "        assert func(inp) == out"
   ]
  },
  {
   "cell_type": "markdown",
   "id": "bea92be4",
   "metadata": {},
   "source": [
    "## Day 1\n",
    "\n",
    "**[Running Sum of 1d array](https://leetcode.com/problems/running-sum-of-1d-array/solution/)**\n",
    "\n",
    "Given an array `nums`. We define a running sum of an array as `runningSum[i] = sum(nums[0]…nums[i])`.\n",
    "\n",
    "Return the running sum of `nums`."
   ]
  },
  {
   "cell_type": "code",
   "execution_count": 3,
   "id": "b3650466",
   "metadata": {},
   "outputs": [],
   "source": [
    "def runningSum(nums: List[int]) -> List[int]:\n",
    "        \n",
    "    run_sum = 0\n",
    "    for i in range(len(nums)):\n",
    "        run_sum += nums[i]\n",
    "        nums[i] = run_sum\n",
    "    return nums"
   ]
  },
  {
   "cell_type": "code",
   "execution_count": 4,
   "id": "c78664a5",
   "metadata": {},
   "outputs": [],
   "source": [
    "test_cases1 = [\n",
    "    ([1,2,3,4], [1,3,6,10]),\n",
    "    ([1,1,1,1,1], [1,2,3,4,5])\n",
    "    ]\n",
    "run_test_cases(func=runningSum, test_cases=test_cases1)"
   ]
  },
  {
   "cell_type": "markdown",
   "id": "24dfa1c2",
   "metadata": {},
   "source": [
    "Complexity:\n",
    "\n",
    " - time: $O(n)$\n",
    " - space: $O(1)$"
   ]
  },
  {
   "cell_type": "markdown",
   "id": "d3f39425",
   "metadata": {},
   "source": [
    "------------\n",
    "**[Find Pivot Index](https://leetcode.com/problems/find-pivot-index/solution/)**\n",
    "\n",
    "Given an array of integers `nums`, calculate the pivot index of this array.\n",
    "\n",
    "The pivot index is the index where the sum of all the numbers strictly to the left of the index is equal to the sum of all the numbers strictly to the index's right.\n",
    "\n",
    "If the index is on the left edge of the array, then the left sum is 0 because there are no elements to the left. This also applies to the right edge of the array.\n",
    "\n",
    "Return the leftmost pivot index. If no such index exists, return -1."
   ]
  },
  {
   "cell_type": "markdown",
   "id": "583ca708",
   "metadata": {},
   "source": [
    "**Key observation:**\n",
    "left_sum + current_value + right_sum = invariant = sum(nums)"
   ]
  },
  {
   "cell_type": "code",
   "execution_count": 5,
   "id": "634281f8",
   "metadata": {},
   "outputs": [],
   "source": [
    "def pivotIndex(nums: List[int]):\n",
    "    S = sum(nums)\n",
    "    leftsum = 0\n",
    "    for i, x in enumerate(nums):\n",
    "        if leftsum == (S - leftsum - x):\n",
    "            return i\n",
    "        leftsum += x\n",
    "    return -1"
   ]
  },
  {
   "cell_type": "code",
   "execution_count": 6,
   "id": "a9281278",
   "metadata": {},
   "outputs": [],
   "source": [
    "test_cases2 = [\n",
    "    ([1,7,3,6,5,6], 3),\n",
    "    ([1,2,3], -1),\n",
    "    ([2, 1, -1], 0)\n",
    "    ]\n",
    "run_test_cases(func=pivotIndex, test_cases=test_cases2)"
   ]
  },
  {
   "cell_type": "markdown",
   "id": "09b76a0a",
   "metadata": {},
   "source": [
    "Complexity:\n",
    "\n",
    " - time: $O(n)$\n",
    " - space: $O(1)$"
   ]
  },
  {
   "cell_type": "markdown",
   "id": "f675115c",
   "metadata": {},
   "source": [
    "---------------\n",
    "\n",
    "## Day 2\n",
    "\n",
    "**[Isomorphic strings](https://leetcode.com/problems/isomorphic-strings/)**\n",
    "\n",
    "Given two strings `s` and `t`, determine if they are _isomorphic_.\n",
    "\n",
    "Two strings `s` and `t` are isomorphic if the characters in `s` can be replaced to get `t`.\n",
    "\n",
    "All occurrences of a character must be replaced with another character while preserving the order of characters. No two characters may map to the same character, but a character may map to itself."
   ]
  },
  {
   "cell_type": "markdown",
   "id": "0559df16",
   "metadata": {},
   "source": [
    "_My original solution_"
   ]
  },
  {
   "cell_type": "code",
   "execution_count": 7,
   "id": "aacc3101",
   "metadata": {},
   "outputs": [],
   "source": [
    "def isIsomorphic(s: str, t: str) -> bool:\n",
    "\n",
    "    if len(s) != len(t):\n",
    "        return False\n",
    "    else:\n",
    "        char_map = {}\n",
    "        inv_char_map = {}\n",
    "        for i in range(len(s)):\n",
    "            char_left, char_right = s[i], t[i]\n",
    "            if char_left not in char_map:\n",
    "                if char_right not in inv_char_map:\n",
    "                    char_map[char_left] = char_right\n",
    "                    inv_char_map[char_right] = char_left\n",
    "                else:\n",
    "                    return False\n",
    "\n",
    "            else:\n",
    "                if char_right != char_map[char_left]:\n",
    "                    return False\n",
    "    return True   "
   ]
  },
  {
   "cell_type": "code",
   "execution_count": 8,
   "id": "c6e70a55",
   "metadata": {},
   "outputs": [],
   "source": [
    "assert isIsomorphic(\"egg\", \"add\")\n",
    "assert isIsomorphic(\"foo\", \"bar\") == False\n",
    "assert isIsomorphic(\"paper\", \"title\")"
   ]
  },
  {
   "cell_type": "markdown",
   "id": "7e231344",
   "metadata": {},
   "source": [
    "_A bit cleaner solution_"
   ]
  },
  {
   "cell_type": "code",
   "execution_count": 9,
   "id": "4efd0f81",
   "metadata": {},
   "outputs": [],
   "source": [
    "def isIsomorphic(s: str, t: str) -> bool:\n",
    "        \n",
    "    mapping_s_t = {}\n",
    "    mapping_t_s = {}\n",
    "\n",
    "    for c1, c2 in zip(s, t):\n",
    "\n",
    "        # Case 1: No mapping exists in either of the dictionaries\n",
    "        if (c1 not in mapping_s_t) and (c2 not in mapping_t_s):\n",
    "            mapping_s_t[c1] = c2\n",
    "            mapping_t_s[c2] = c1\n",
    "\n",
    "        # Case 2: Ether mapping doesn't exist in one of the dictionaries or Mapping exists and\n",
    "        # it doesn't match in either of the dictionaries or both            \n",
    "        elif mapping_s_t.get(c1) != c2 or mapping_t_s.get(c2) != c1:\n",
    "            return False\n",
    "\n",
    "    return True"
   ]
  },
  {
   "cell_type": "code",
   "execution_count": 10,
   "id": "f2665345",
   "metadata": {},
   "outputs": [],
   "source": [
    "assert isIsomorphic(\"egg\", \"add\")\n",
    "assert isIsomorphic(\"foo\", \"bar\") == False\n",
    "assert isIsomorphic(\"paper\", \"title\")"
   ]
  },
  {
   "cell_type": "markdown",
   "id": "1873b663",
   "metadata": {},
   "source": [
    "Alternative approach. Create a signature:for each character in the given string, we replace it with the index of that character's first occurrence in the string. E.g. \"paper\" -> \"0 1 0 3 4\""
   ]
  },
  {
   "cell_type": "code",
   "execution_count": 11,
   "id": "a5989631",
   "metadata": {},
   "outputs": [],
   "source": [
    "def transformString(s: str) -> str:\n",
    "        index_mapping = {}\n",
    "        new_str = []\n",
    "        \n",
    "        for i, c in enumerate(s):\n",
    "            if c not in index_mapping:\n",
    "                index_mapping[c] = i\n",
    "            new_str.append(str(index_mapping[c]))\n",
    "        \n",
    "        return \" \".join(new_str)\n",
    "    \n",
    "def isIsomorphic(s: str, t: str) -> bool:\n",
    "    return transformString(s) == transformString(t)"
   ]
  },
  {
   "cell_type": "code",
   "execution_count": 12,
   "id": "a401f24b",
   "metadata": {},
   "outputs": [],
   "source": [
    "assert isIsomorphic(\"egg\", \"add\")\n",
    "assert isIsomorphic(\"foo\", \"bar\") == False\n",
    "assert isIsomorphic(\"paper\", \"title\")"
   ]
  },
  {
   "cell_type": "markdown",
   "id": "f2033248",
   "metadata": {},
   "source": [
    "One-liner"
   ]
  },
  {
   "cell_type": "code",
   "execution_count": 13,
   "id": "3ab9e493",
   "metadata": {},
   "outputs": [],
   "source": [
    "def isIsomorphic(s: str, t: str) -> bool:\n",
    "    return len(set(s)) == len(set(t)) == len(set(zip(s, t)))"
   ]
  },
  {
   "cell_type": "markdown",
   "id": "67d0c2cd",
   "metadata": {},
   "source": [
    "Complexity:\n",
    "\n",
    " - time: $O(n)$\n",
    " - space: $O(1)$ as char maps are of fixed size $\\leq 26$"
   ]
  },
  {
   "cell_type": "markdown",
   "id": "b8a6fcdd",
   "metadata": {},
   "source": [
    "**[Is Subsequence](https://leetcode.com/problems/is-subsequence/)**\n",
    "\n",
    "Given two strings s and t, return true if s is a subsequence of t, or false otherwise.\n",
    "\n",
    "A subsequence of a string is a new string that is formed from the original string by deleting some (can be none) of the characters without disturbing the relative positions of the remaining characters. (i.e., \"ace\" is a subsequence of \"abcde\" while \"aec\" is not).\n"
   ]
  },
  {
   "cell_type": "code",
   "execution_count": 14,
   "id": "21032cd9",
   "metadata": {},
   "outputs": [],
   "source": [
    "def isSubsequence(s: str, t: str) -> bool:\n",
    "\n",
    "    i, j = 0, 0\n",
    "\n",
    "    while i < len(s) and j < len(t):\n",
    "\n",
    "        if s[i] == t[j]:\n",
    "            i += 1\n",
    "        j += 1\n",
    "\n",
    "    return i == len(s)"
   ]
  },
  {
   "cell_type": "code",
   "execution_count": 15,
   "id": "160e89eb",
   "metadata": {},
   "outputs": [],
   "source": [
    "assert isSubsequence(s = \"abc\", t = \"ahbgdc\")\n",
    "assert isSubsequence(s = \"axc\", t = \"ahbgdc\") == False"
   ]
  },
  {
   "cell_type": "markdown",
   "id": "32580eeb",
   "metadata": {},
   "source": [
    "Complexity:\n",
    "\n",
    " - time: $O(m)$, where m = len(t)\n",
    " - space: $O(1)$"
   ]
  },
  {
   "cell_type": "markdown",
   "id": "fb6cfebf",
   "metadata": {},
   "source": [
    "---------------\n",
    "\n",
    "## Day 3\n",
    "\n",
    "**[Merge 2 sorted lists](https://leetcode.com/problems/merge-two-sorted-lists/)**\n",
    "\n",
    "You are given the heads of two sorted linked lists list1 and list2.\n",
    "\n",
    "Merge the two lists in a one sorted list. The list should be made by splicing together the nodes of the first two lists.\n",
    "\n",
    "Return the head of the merged linked list."
   ]
  },
  {
   "cell_type": "markdown",
   "id": "56bfc9f6",
   "metadata": {},
   "source": [
    "_My original code_"
   ]
  },
  {
   "cell_type": "code",
   "execution_count": 11,
   "id": "57a9393d",
   "metadata": {},
   "outputs": [],
   "source": [
    "class ListNode:\n",
    "    def __init__(self, val=0, next=None):\n",
    "        self.val = val\n",
    "        self.next = next"
   ]
  },
  {
   "cell_type": "code",
   "execution_count": 12,
   "id": "c2cc969d",
   "metadata": {},
   "outputs": [],
   "source": [
    "def mergeTwoLists(list1: Optional[ListNode], list2: Optional[ListNode]) -> Optional[ListNode]:\n",
    "        \n",
    "    res_list = ListNode(val=None)\n",
    "    orig_res_list = res_list\n",
    "\n",
    "    while list1 and list2:\n",
    "\n",
    "        if list1.val <= list2.val:\n",
    "            curr_min_val = list1.val \n",
    "            list1 = list1.next\n",
    "        else:\n",
    "            curr_min_val = list2.val \n",
    "            list2 = list2.next\n",
    "\n",
    "        res_list.next = ListNode(val=curr_min_val)\n",
    "        res_list = res_list.next\n",
    "\n",
    "    if list1:\n",
    "        res_list.next = list1\n",
    "        res_list = res_list.next\n",
    "    if list2:\n",
    "        res_list.next = list2\n",
    "        res_list = res_list.next\n",
    "\n",
    "    return orig_res_list.next "
   ]
  },
  {
   "cell_type": "markdown",
   "id": "3f2a33fd",
   "metadata": {},
   "source": [
    "Cleaner solution"
   ]
  },
  {
   "cell_type": "code",
   "execution_count": 37,
   "id": "9122bd7f",
   "metadata": {},
   "outputs": [],
   "source": [
    "def mergeTwoLists(l1, l2):\n",
    "    # maintain an unchanging reference to node ahead of the return node.\n",
    "    prehead = ListNode(-1)\n",
    "\n",
    "    prev = prehead\n",
    "    while l1 and l2:\n",
    "        if l1.val <= l2.val:\n",
    "            prev.next = l1\n",
    "            l1 = l1.next\n",
    "        else:\n",
    "            prev.next = l2\n",
    "            l2 = l2.next            \n",
    "        prev = prev.next\n",
    "\n",
    "    # At least one of l1 and l2 can still have nodes at this point, so connect\n",
    "    # the non-null list to the end of the merged list.\n",
    "    prev.next = l1 if l1 is not None else l2\n",
    "\n",
    "    return prehead.next"
   ]
  },
  {
   "cell_type": "markdown",
   "id": "cbb63932",
   "metadata": {},
   "source": [
    "**[Reverse Linked List](https://leetcode.com/problems/reverse-linked-list/)**\n",
    "\n",
    "Given the head of a singly linked list, reverse the list, and return the reversed list."
   ]
  },
  {
   "cell_type": "code",
   "execution_count": 28,
   "id": "4cc578fa",
   "metadata": {},
   "outputs": [],
   "source": [
    "class ListNode:\n",
    "    def __init__(self, val=0, next=None):\n",
    "        self.val = val\n",
    "        self.next = next"
   ]
  },
  {
   "cell_type": "code",
   "execution_count": 27,
   "id": "1c44bc17",
   "metadata": {},
   "outputs": [],
   "source": [
    "def reverseList(head: Optional[ListNode]) -> Optional[ListNode]:\n",
    "\n",
    "    if not head: \n",
    "        return head\n",
    "\n",
    "    head_rev = ListNode(val=head.val)\n",
    "\n",
    "    while head.next:\n",
    "        prev_head_rev = head_rev\n",
    "        head_rev = ListNode(val=head.next.val)\n",
    "        head_rev.next = prev_head_rev\n",
    "        head = head.next\n",
    "\n",
    "    return head_rev"
   ]
  },
  {
   "cell_type": "markdown",
   "id": "483faa0a",
   "metadata": {},
   "source": [
    "Complexity:\n",
    "\n",
    " - time: $O(n)$\n",
    " - space: $O(1)$"
   ]
  },
  {
   "cell_type": "markdown",
   "id": "a1a6ccc7",
   "metadata": {},
   "source": [
    "Cleaner solution"
   ]
  },
  {
   "cell_type": "code",
   "execution_count": null,
   "id": "2f816a06",
   "metadata": {},
   "outputs": [],
   "source": [
    "def reverseList(head: ListNode) -> ListNode:\n",
    "    prev = None\n",
    "    curr = head\n",
    "    while curr:\n",
    "        next_temp = curr.next\n",
    "        curr.next = prev\n",
    "        prev = curr\n",
    "        curr = next_temp\n",
    "\n",
    "    return prev"
   ]
  },
  {
   "cell_type": "markdown",
   "id": "708a9a90",
   "metadata": {},
   "source": [
    "Recursive solution"
   ]
  },
  {
   "cell_type": "code",
   "execution_count": 36,
   "id": "b53fe3e7",
   "metadata": {},
   "outputs": [],
   "source": [
    "def reverseList(head: Optional[ListNode]) -> Optional[ListNode]:\n",
    "        \n",
    "    if not head or not head.next: \n",
    "        return head\n",
    "\n",
    "    rev_head = self.reverseList(head.next)\n",
    "    head.next.next = head\n",
    "    head.next = None\n",
    "\n",
    "    return rev_head"
   ]
  },
  {
   "cell_type": "markdown",
   "id": "14abd403",
   "metadata": {},
   "source": [
    "---------------\n",
    "\n",
    "## Day 4\n",
    "\n",
    "**[Middle of the linked list](https://leetcode.com/problems/middle-of-the-linked-list/solution/)**\n",
    "\n",
    "Given the head of a singly linked list, return the middle node of the linked list.\n",
    "\n",
    "If there are two middle nodes, return the second middle node."
   ]
  },
  {
   "cell_type": "code",
   "execution_count": 38,
   "id": "c4b72c4e",
   "metadata": {},
   "outputs": [],
   "source": [
    "import math\n",
    "\n",
    "def middleNode(head: Optional[ListNode]) -> Optional[ListNode]:\n",
    "          \n",
    "    num_nodes = 1\n",
    "    orig_head  = head\n",
    "\n",
    "    while head.next:\n",
    "        head = head.next \n",
    "        num_nodes += 1\n",
    "\n",
    "    head = orig_head\n",
    "    mid_point = math.floor(num_nodes / 2)\n",
    "\n",
    "    for _ in range(mid_point):\n",
    "        head = head.next\n",
    "\n",
    "    return head"
   ]
  },
  {
   "cell_type": "markdown",
   "id": "6bdc077f",
   "metadata": {},
   "source": [
    "Elegant solution\n",
    "\n",
    "When traversing the list with a pointer `slow`, make another pointer `fast` that traverses twice as fast. When `fast` reaches the end of the list, `slow` must be in the middle."
   ]
  },
  {
   "cell_type": "code",
   "execution_count": 39,
   "id": "a54121cd",
   "metadata": {},
   "outputs": [],
   "source": [
    "def middleNode(head):\n",
    "    slow = fast = head\n",
    "    while fast and fast.next:\n",
    "        slow = slow.next\n",
    "        fast = fast.next.next\n",
    "    return slow"
   ]
  },
  {
   "cell_type": "markdown",
   "id": "cd1a6a3d",
   "metadata": {},
   "source": [
    "**[Linked List Cycle II](https://leetcode.com/problems/linked-list-cycle-ii/)**\n",
    "\n",
    "Given the head of a linked list, return the node where the cycle begins. If there is no cycle, return null.\n",
    "\n",
    "There is a cycle in a linked list if there is some node in the list that can be reached again by continuously following the next pointer. Internally, pos is used to denote the index of the node that tail's next pointer is connected to (0-indexed). It is -1 if there is no cycle. Note that pos is not passed as a parameter.\n",
    "\n",
    "Do not modify the linked list"
   ]
  },
  {
   "cell_type": "markdown",
   "id": "90647408",
   "metadata": {},
   "source": [
    "_Straightforward solution_ (very inefficient, actually, quadratic complexity)"
   ]
  },
  {
   "cell_type": "code",
   "execution_count": 40,
   "id": "f24aed80",
   "metadata": {},
   "outputs": [],
   "source": [
    "def detectCycle(head: Optional[ListNode]) -> Optional[ListNode]:\n",
    "        \n",
    "    unique_list_nodes = set([])\n",
    "\n",
    "    if not head or not head.next:\n",
    "        return None\n",
    "\n",
    "    while head.next not in unique_list_nodes:\n",
    "        unique_list_nodes.add(head)\n",
    "        head = head.next\n",
    "\n",
    "        if not head.next:\n",
    "            return None\n",
    "\n",
    "    return head.next"
   ]
  },
  {
   "cell_type": "code",
   "execution_count": null,
   "id": "cf69d1b5",
   "metadata": {},
   "outputs": [],
   "source": []
  }
 ],
 "metadata": {
  "kernelspec": {
   "display_name": "Python 3 (ipykernel)",
   "language": "python",
   "name": "python3"
  },
  "language_info": {
   "codemirror_mode": {
    "name": "ipython",
    "version": 3
   },
   "file_extension": ".py",
   "mimetype": "text/x-python",
   "name": "python",
   "nbconvert_exporter": "python",
   "pygments_lexer": "ipython3",
   "version": "3.10.4"
  }
 },
 "nbformat": 4,
 "nbformat_minor": 5
}
