{
 "cells": [
  {
   "cell_type": "markdown",
   "id": "52f5a71a",
   "metadata": {},
   "source": [
    "# [Study Plan](https://leetcode.com/study-plan/leetcode-75/?progress=st3ev9e)"
   ]
  },
  {
   "cell_type": "code",
   "execution_count": 2,
   "id": "f417a439",
   "metadata": {},
   "outputs": [],
   "source": [
    "from collections import Counter\n",
    "from typing import List, Dict, Tuple, Any, Callable, Optional"
   ]
  },
  {
   "cell_type": "markdown",
   "id": "bea92be4",
   "metadata": {},
   "source": [
    "## Day 1\n",
    "\n",
    "**[Running Sum of 1d array](https://leetcode.com/problems/running-sum-of-1d-array/solution/)**\n",
    "\n",
    "Given an array `nums`. We define a running sum of an array as `runningSum[i] = sum(nums[0]…nums[i])`.\n",
    "\n",
    "Return the running sum of `nums`."
   ]
  },
  {
   "cell_type": "code",
   "execution_count": 3,
   "id": "b3650466",
   "metadata": {},
   "outputs": [],
   "source": [
    "def runningSum(nums: List[int]) -> List[int]:\n",
    "        \n",
    "    run_sum = 0\n",
    "    for i in range(len(nums)):\n",
    "        run_sum += nums[i]\n",
    "        nums[i] = run_sum\n",
    "    return nums"
   ]
  },
  {
   "cell_type": "code",
   "execution_count": 4,
   "id": "ffd2ef79",
   "metadata": {},
   "outputs": [],
   "source": [
    "assert runningSum(nums=[1,2,3,4]) == [1,3,6,10]\n",
    "assert runningSum(nums=[1,1,1,1,1]) == [1,2,3,4,5]"
   ]
  },
  {
   "cell_type": "markdown",
   "id": "24dfa1c2",
   "metadata": {},
   "source": [
    "Complexity:\n",
    "\n",
    " - time: $O(n)$\n",
    " - space: $O(1)$"
   ]
  },
  {
   "cell_type": "markdown",
   "id": "d3f39425",
   "metadata": {},
   "source": [
    "------------\n",
    "**[Find Pivot Index](https://leetcode.com/problems/find-pivot-index/solution/)**\n",
    "\n",
    "Given an array of integers `nums`, calculate the pivot index of this array.\n",
    "\n",
    "The pivot index is the index where the sum of all the numbers strictly to the left of the index is equal to the sum of all the numbers strictly to the index's right.\n",
    "\n",
    "If the index is on the left edge of the array, then the left sum is 0 because there are no elements to the left. This also applies to the right edge of the array.\n",
    "\n",
    "Return the leftmost pivot index. If no such index exists, return -1."
   ]
  },
  {
   "cell_type": "markdown",
   "id": "583ca708",
   "metadata": {},
   "source": [
    "**Key observation:**\n",
    "left_sum + current_value + right_sum = invariant = sum(nums)"
   ]
  },
  {
   "cell_type": "code",
   "execution_count": 5,
   "id": "634281f8",
   "metadata": {},
   "outputs": [],
   "source": [
    "def pivotIndex(nums: List[int]):\n",
    "    S = sum(nums)\n",
    "    leftsum = 0\n",
    "    for i, x in enumerate(nums):\n",
    "        if leftsum == (S - leftsum - x):\n",
    "            return i\n",
    "        leftsum += x\n",
    "    return -1"
   ]
  },
  {
   "cell_type": "markdown",
   "id": "09b76a0a",
   "metadata": {},
   "source": [
    "Complexity:\n",
    "\n",
    " - time: $O(n)$\n",
    " - space: $O(1)$"
   ]
  },
  {
   "cell_type": "markdown",
   "id": "f675115c",
   "metadata": {},
   "source": [
    "---------------\n",
    "\n",
    "## Day 2\n",
    "\n",
    "**[Isomorphic strings](https://leetcode.com/problems/isomorphic-strings/)**\n",
    "\n",
    "Given two strings `s` and `t`, determine if they are _isomorphic_.\n",
    "\n",
    "Two strings `s` and `t` are isomorphic if the characters in `s` can be replaced to get `t`.\n",
    "\n",
    "All occurrences of a character must be replaced with another character while preserving the order of characters. No two characters may map to the same character, but a character may map to itself."
   ]
  },
  {
   "cell_type": "markdown",
   "id": "0559df16",
   "metadata": {},
   "source": [
    "_My original solution_"
   ]
  },
  {
   "cell_type": "code",
   "execution_count": 6,
   "id": "aacc3101",
   "metadata": {},
   "outputs": [],
   "source": [
    "def isIsomorphic(s: str, t: str) -> bool:\n",
    "\n",
    "    if len(s) != len(t):\n",
    "        return False\n",
    "    else:\n",
    "        char_map = {}\n",
    "        inv_char_map = {}\n",
    "        for i in range(len(s)):\n",
    "            char_left, char_right = s[i], t[i]\n",
    "            if char_left not in char_map:\n",
    "                if char_right not in inv_char_map:\n",
    "                    char_map[char_left] = char_right\n",
    "                    inv_char_map[char_right] = char_left\n",
    "                else:\n",
    "                    return False\n",
    "\n",
    "            else:\n",
    "                if char_right != char_map[char_left]:\n",
    "                    return False\n",
    "    return True   "
   ]
  },
  {
   "cell_type": "code",
   "execution_count": 7,
   "id": "c6e70a55",
   "metadata": {},
   "outputs": [],
   "source": [
    "assert isIsomorphic(\"egg\", \"add\")\n",
    "assert isIsomorphic(\"foo\", \"bar\") == False\n",
    "assert isIsomorphic(\"paper\", \"title\")"
   ]
  },
  {
   "cell_type": "markdown",
   "id": "7e231344",
   "metadata": {},
   "source": [
    "_A bit cleaner solution_"
   ]
  },
  {
   "cell_type": "code",
   "execution_count": 8,
   "id": "4efd0f81",
   "metadata": {},
   "outputs": [],
   "source": [
    "def isIsomorphic(s: str, t: str) -> bool:\n",
    "        \n",
    "    mapping_s_t = {}\n",
    "    mapping_t_s = {}\n",
    "\n",
    "    for c1, c2 in zip(s, t):\n",
    "\n",
    "        # Case 1: No mapping exists in either of the dictionaries\n",
    "        if (c1 not in mapping_s_t) and (c2 not in mapping_t_s):\n",
    "            mapping_s_t[c1] = c2\n",
    "            mapping_t_s[c2] = c1\n",
    "\n",
    "        # Case 2: Ether mapping doesn't exist in one of the dictionaries or Mapping exists and\n",
    "        # it doesn't match in either of the dictionaries or both            \n",
    "        elif mapping_s_t.get(c1) != c2 or mapping_t_s.get(c2) != c1:\n",
    "            return False\n",
    "\n",
    "    return True"
   ]
  },
  {
   "cell_type": "code",
   "execution_count": 9,
   "id": "f2665345",
   "metadata": {},
   "outputs": [],
   "source": [
    "assert isIsomorphic(\"egg\", \"add\")\n",
    "assert isIsomorphic(\"foo\", \"bar\") == False\n",
    "assert isIsomorphic(\"paper\", \"title\")"
   ]
  },
  {
   "cell_type": "markdown",
   "id": "1873b663",
   "metadata": {},
   "source": [
    "Alternative approach. Create a signature:for each character in the given string, we replace it with the index of that character's first occurrence in the string. E.g. \"paper\" -> \"0 1 0 3 4\""
   ]
  },
  {
   "cell_type": "code",
   "execution_count": 10,
   "id": "a5989631",
   "metadata": {},
   "outputs": [],
   "source": [
    "def transformString(s: str) -> str:\n",
    "        index_mapping = {}\n",
    "        new_str = []\n",
    "        \n",
    "        for i, c in enumerate(s):\n",
    "            if c not in index_mapping:\n",
    "                index_mapping[c] = i\n",
    "            new_str.append(str(index_mapping[c]))\n",
    "        \n",
    "        return \" \".join(new_str)\n",
    "    \n",
    "def isIsomorphic(s: str, t: str) -> bool:\n",
    "    return transformString(s) == transformString(t)"
   ]
  },
  {
   "cell_type": "code",
   "execution_count": 11,
   "id": "a401f24b",
   "metadata": {},
   "outputs": [],
   "source": [
    "assert isIsomorphic(\"egg\", \"add\")\n",
    "assert isIsomorphic(\"foo\", \"bar\") == False\n",
    "assert isIsomorphic(\"paper\", \"title\")"
   ]
  },
  {
   "cell_type": "markdown",
   "id": "f2033248",
   "metadata": {},
   "source": [
    "One-liner"
   ]
  },
  {
   "cell_type": "code",
   "execution_count": 12,
   "id": "3ab9e493",
   "metadata": {},
   "outputs": [],
   "source": [
    "def isIsomorphic(s: str, t: str) -> bool:\n",
    "    return len(set(s)) == len(set(t)) == len(set(zip(s, t)))"
   ]
  },
  {
   "cell_type": "markdown",
   "id": "67d0c2cd",
   "metadata": {},
   "source": [
    "Complexity:\n",
    "\n",
    " - time: $O(n)$\n",
    " - space: $O(1)$ as char maps are of fixed size $\\leq 26$"
   ]
  },
  {
   "cell_type": "markdown",
   "id": "b8a6fcdd",
   "metadata": {},
   "source": [
    "**[Is Subsequence](https://leetcode.com/problems/is-subsequence/)**\n",
    "\n",
    "Given two strings s and t, return true if s is a subsequence of t, or false otherwise.\n",
    "\n",
    "A subsequence of a string is a new string that is formed from the original string by deleting some (can be none) of the characters without disturbing the relative positions of the remaining characters. (i.e., \"ace\" is a subsequence of \"abcde\" while \"aec\" is not).\n"
   ]
  },
  {
   "cell_type": "code",
   "execution_count": 13,
   "id": "21032cd9",
   "metadata": {},
   "outputs": [],
   "source": [
    "def isSubsequence(s: str, t: str) -> bool:\n",
    "\n",
    "    i, j = 0, 0\n",
    "\n",
    "    while i < len(s) and j < len(t):\n",
    "\n",
    "        if s[i] == t[j]:\n",
    "            i += 1\n",
    "        j += 1\n",
    "\n",
    "    return i == len(s)"
   ]
  },
  {
   "cell_type": "code",
   "execution_count": 14,
   "id": "160e89eb",
   "metadata": {},
   "outputs": [],
   "source": [
    "assert isSubsequence(s = \"abc\", t = \"ahbgdc\")\n",
    "assert isSubsequence(s = \"axc\", t = \"ahbgdc\") == False"
   ]
  },
  {
   "cell_type": "markdown",
   "id": "32580eeb",
   "metadata": {},
   "source": [
    "Complexity:\n",
    "\n",
    " - time: $O(m)$, where m = len(t)\n",
    " - space: $O(1)$"
   ]
  },
  {
   "cell_type": "markdown",
   "id": "fb6cfebf",
   "metadata": {},
   "source": [
    "---------------\n",
    "\n",
    "## Day 3\n",
    "\n",
    "**[Merge 2 sorted lists](https://leetcode.com/problems/merge-two-sorted-lists/)**\n",
    "\n",
    "You are given the heads of two sorted linked lists list1 and list2.\n",
    "\n",
    "Merge the two lists in a one sorted list. The list should be made by splicing together the nodes of the first two lists.\n",
    "\n",
    "Return the head of the merged linked list."
   ]
  },
  {
   "cell_type": "markdown",
   "id": "56bfc9f6",
   "metadata": {},
   "source": [
    "_My original code_"
   ]
  },
  {
   "cell_type": "code",
   "execution_count": 15,
   "id": "57a9393d",
   "metadata": {},
   "outputs": [],
   "source": [
    "class ListNode:\n",
    "    def __init__(self, val=0, next=None):\n",
    "        self.val = val\n",
    "        self.next = next"
   ]
  },
  {
   "cell_type": "code",
   "execution_count": 16,
   "id": "c2cc969d",
   "metadata": {},
   "outputs": [],
   "source": [
    "def mergeTwoLists(list1: Optional[ListNode], list2: Optional[ListNode]) -> Optional[ListNode]:\n",
    "        \n",
    "    res_list = ListNode(val=None)\n",
    "    orig_res_list = res_list\n",
    "\n",
    "    while list1 and list2:\n",
    "\n",
    "        if list1.val <= list2.val:\n",
    "            curr_min_val = list1.val \n",
    "            list1 = list1.next\n",
    "        else:\n",
    "            curr_min_val = list2.val \n",
    "            list2 = list2.next\n",
    "\n",
    "        res_list.next = ListNode(val=curr_min_val)\n",
    "        res_list = res_list.next\n",
    "\n",
    "    if list1:\n",
    "        res_list.next = list1\n",
    "        res_list = res_list.next\n",
    "    if list2:\n",
    "        res_list.next = list2\n",
    "        res_list = res_list.next\n",
    "\n",
    "    return orig_res_list.next "
   ]
  },
  {
   "cell_type": "markdown",
   "id": "3f2a33fd",
   "metadata": {},
   "source": [
    "Cleaner solution"
   ]
  },
  {
   "cell_type": "code",
   "execution_count": 17,
   "id": "9122bd7f",
   "metadata": {},
   "outputs": [],
   "source": [
    "def mergeTwoLists(l1, l2):\n",
    "    # maintain an unchanging reference to node ahead of the return node.\n",
    "    prehead = ListNode(-1)\n",
    "\n",
    "    prev = prehead\n",
    "    while l1 and l2:\n",
    "        if l1.val <= l2.val:\n",
    "            prev.next = l1\n",
    "            l1 = l1.next\n",
    "        else:\n",
    "            prev.next = l2\n",
    "            l2 = l2.next            \n",
    "        prev = prev.next\n",
    "\n",
    "    # At least one of l1 and l2 can still have nodes at this point, so connect\n",
    "    # the non-null list to the end of the merged list.\n",
    "    prev.next = l1 if l1 is not None else l2\n",
    "\n",
    "    return prehead.next"
   ]
  },
  {
   "cell_type": "markdown",
   "id": "cbb63932",
   "metadata": {},
   "source": [
    "**[Reverse Linked List](https://leetcode.com/problems/reverse-linked-list/)**\n",
    "\n",
    "Given the head of a singly linked list, reverse the list, and return the reversed list."
   ]
  },
  {
   "cell_type": "code",
   "execution_count": 18,
   "id": "4cc578fa",
   "metadata": {},
   "outputs": [],
   "source": [
    "class ListNode:\n",
    "    def __init__(self, val=0, next=None):\n",
    "        self.val = val\n",
    "        self.next = next"
   ]
  },
  {
   "cell_type": "code",
   "execution_count": 19,
   "id": "1c44bc17",
   "metadata": {},
   "outputs": [],
   "source": [
    "def reverseList(head: Optional[ListNode]) -> Optional[ListNode]:\n",
    "\n",
    "    if not head: \n",
    "        return head\n",
    "\n",
    "    head_rev = ListNode(val=head.val)\n",
    "\n",
    "    while head.next:\n",
    "        prev_head_rev = head_rev\n",
    "        head_rev = ListNode(val=head.next.val)\n",
    "        head_rev.next = prev_head_rev\n",
    "        head = head.next\n",
    "\n",
    "    return head_rev"
   ]
  },
  {
   "cell_type": "markdown",
   "id": "483faa0a",
   "metadata": {},
   "source": [
    "Complexity:\n",
    "\n",
    " - time: $O(n)$\n",
    " - space: $O(1)$"
   ]
  },
  {
   "cell_type": "markdown",
   "id": "a1a6ccc7",
   "metadata": {},
   "source": [
    "Cleaner solution"
   ]
  },
  {
   "cell_type": "code",
   "execution_count": 20,
   "id": "2f816a06",
   "metadata": {},
   "outputs": [],
   "source": [
    "def reverseList(head: ListNode) -> ListNode:\n",
    "    prev = None\n",
    "    curr = head\n",
    "    while curr:\n",
    "        next_temp = curr.next\n",
    "        curr.next = prev\n",
    "        prev = curr\n",
    "        curr = next_temp\n",
    "\n",
    "    return prev"
   ]
  },
  {
   "cell_type": "markdown",
   "id": "708a9a90",
   "metadata": {},
   "source": [
    "Recursive solution"
   ]
  },
  {
   "cell_type": "code",
   "execution_count": 21,
   "id": "b53fe3e7",
   "metadata": {},
   "outputs": [],
   "source": [
    "def reverseList(head: Optional[ListNode]) -> Optional[ListNode]:\n",
    "        \n",
    "    if not head or not head.next: \n",
    "        return head\n",
    "\n",
    "    rev_head = self.reverseList(head.next)\n",
    "    head.next.next = head\n",
    "    head.next = None\n",
    "\n",
    "    return rev_head"
   ]
  },
  {
   "cell_type": "markdown",
   "id": "14abd403",
   "metadata": {},
   "source": [
    "---------------\n",
    "\n",
    "## Day 4\n",
    "\n",
    "**[Middle of the linked list](https://leetcode.com/problems/middle-of-the-linked-list/solution/)**\n",
    "\n",
    "Given the head of a singly linked list, return the middle node of the linked list.\n",
    "\n",
    "If there are two middle nodes, return the second middle node."
   ]
  },
  {
   "cell_type": "code",
   "execution_count": 22,
   "id": "c4b72c4e",
   "metadata": {},
   "outputs": [],
   "source": [
    "import math\n",
    "\n",
    "def middleNode(head: Optional[ListNode]) -> Optional[ListNode]:\n",
    "          \n",
    "    num_nodes = 1\n",
    "    orig_head  = head\n",
    "\n",
    "    while head.next:\n",
    "        head = head.next \n",
    "        num_nodes += 1\n",
    "\n",
    "    head = orig_head\n",
    "    mid_point = math.floor(num_nodes / 2)\n",
    "\n",
    "    for _ in range(mid_point):\n",
    "        head = head.next\n",
    "\n",
    "    return head"
   ]
  },
  {
   "cell_type": "markdown",
   "id": "6bdc077f",
   "metadata": {},
   "source": [
    "Elegant solution\n",
    "\n",
    "When traversing the list with a pointer `slow`, make another pointer `fast` that traverses twice as fast. When `fast` reaches the end of the list, `slow` must be in the middle."
   ]
  },
  {
   "cell_type": "code",
   "execution_count": 23,
   "id": "a54121cd",
   "metadata": {},
   "outputs": [],
   "source": [
    "def middleNode(head):\n",
    "    slow = fast = head\n",
    "    while fast and fast.next:\n",
    "        slow = slow.next\n",
    "        fast = fast.next.next\n",
    "    return slow"
   ]
  },
  {
   "cell_type": "markdown",
   "id": "cd1a6a3d",
   "metadata": {},
   "source": [
    "**[Linked List Cycle II](https://leetcode.com/problems/linked-list-cycle-ii/)**\n",
    "\n",
    "Given the head of a linked list, return the node where the cycle begins. If there is no cycle, return null.\n",
    "\n",
    "There is a cycle in a linked list if there is some node in the list that can be reached again by continuously following the next pointer. Internally, pos is used to denote the index of the node that tail's next pointer is connected to (0-indexed). It is -1 if there is no cycle. Note that pos is not passed as a parameter.\n",
    "\n",
    "Do not modify the linked list"
   ]
  },
  {
   "cell_type": "markdown",
   "id": "90647408",
   "metadata": {},
   "source": [
    "_Straightforward solution_ "
   ]
  },
  {
   "cell_type": "code",
   "execution_count": 24,
   "id": "f24aed80",
   "metadata": {},
   "outputs": [],
   "source": [
    "def detectCycle(head: Optional[ListNode]) -> Optional[ListNode]:\n",
    "        \n",
    "    unique_list_nodes = set([])\n",
    "\n",
    "    if not head or not head.next:\n",
    "        return None\n",
    "\n",
    "    while head.next not in unique_list_nodes:\n",
    "        unique_list_nodes.add(head)\n",
    "        head = head.next\n",
    "\n",
    "        if not head.next:\n",
    "            return None\n",
    "\n",
    "    return head.next"
   ]
  },
  {
   "cell_type": "markdown",
   "id": "0418c3c6",
   "metadata": {},
   "source": [
    "---------------\n",
    "\n",
    "## Day 5\n",
    "\n",
    "**[121. Best Time to Buy and Sell Stock](https://leetcode.com/problems/best-time-to-buy-and-sell-stock/solution/)**\n",
    "\n",
    "\n",
    "You are given an array prices where prices[i] is the price of a given stock on the ith day.\n",
    "\n",
    "You want to maximize your profit by choosing a single day to buy one stock and choosing a different day in the future to sell that stock.\n",
    "\n",
    "Return the maximum profit you can achieve from this transaction. If you cannot achieve any profit, return 0."
   ]
  },
  {
   "cell_type": "code",
   "execution_count": 25,
   "id": "60b9a8cf",
   "metadata": {},
   "outputs": [],
   "source": [
    "def maxProfit(prices: List[int]) -> int:\n",
    "\n",
    "    curr_min_price = prices[0]\n",
    "    max_profit = 0\n",
    "\n",
    "    for i, price in enumerate(prices):\n",
    "\n",
    "        if price < curr_min_price:\n",
    "            curr_min_price = price\n",
    "\n",
    "        max_profit = max(max_profit, price - curr_min_price)\n",
    "\n",
    "    return max_profit"
   ]
  },
  {
   "cell_type": "code",
   "execution_count": 26,
   "id": "40c98303",
   "metadata": {},
   "outputs": [],
   "source": [
    "assert maxProfit(prices=[7,1,5,3,6,4]) == 5\n",
    "assert maxProfit(prices=[7,6,4,3,1]) == 0"
   ]
  },
  {
   "cell_type": "markdown",
   "id": "63276607",
   "metadata": {},
   "source": [
    "Complexity:\n",
    "\n",
    " - time: $O(n)$\n",
    " - space: $O(1)$"
   ]
  },
  {
   "cell_type": "markdown",
   "id": "6fa5b83f",
   "metadata": {},
   "source": [
    "**[409. Longest Palindrome](https://leetcode.com/problems/longest-palindrome/)**\n",
    "\n",
    "Given a string `s` which consists of lowercase or uppercase letters, return the length of the longest palindrome that can be built with those letters.\n",
    "\n",
    "Letters are case sensitive, for example, \"Aa\" is not considered a palindrome here."
   ]
  },
  {
   "cell_type": "code",
   "execution_count": 27,
   "id": "f3acefbc",
   "metadata": {},
   "outputs": [],
   "source": [
    "def longestPalindrome(s: str) -> int:\n",
    "\n",
    "    num_letters_in_palindrom = 0\n",
    "    letter_in_the_middle = 0\n",
    "\n",
    "    counts = Counter(s)\n",
    "\n",
    "    for freq in counts.values():\n",
    "\n",
    "        if freq % 2 == 1:\n",
    "            letter_in_the_middle = 1\n",
    "\n",
    "        num_letters_in_palindrom += 2 * (freq // 2)\n",
    "\n",
    "    num_letters_in_palindrom += letter_in_the_middle\n",
    "\n",
    "    return num_letters_in_palindrom"
   ]
  },
  {
   "cell_type": "code",
   "execution_count": 28,
   "id": "826e982f",
   "metadata": {},
   "outputs": [],
   "source": [
    "assert longestPalindrome(s=\"abccccdd\") == 7\n",
    "assert longestPalindrome(s=\"a\") == 1\n",
    "assert longestPalindrome(s=\"ccc\") == 3"
   ]
  },
  {
   "cell_type": "markdown",
   "id": "cc7706df",
   "metadata": {},
   "source": [
    "---\n",
    "\n",
    "## Day 6\n",
    "\n",
    "**[589. N-ary Tree Preorder Traversal](https://leetcode.com/problems/n-ary-tree-preorder-traversal/)**\n",
    "\n",
    "Given the root of an n-ary tree, return the preorder traversal of its nodes' values.\n",
    "\n",
    "Nary-Tree input serialization is represented in their level order traversal. Each group of children is separated by the null value (See examples)\n",
    "\n"
   ]
  },
  {
   "cell_type": "code",
   "execution_count": 29,
   "id": "e19b039d",
   "metadata": {},
   "outputs": [],
   "source": [
    "def preorder(root: 'Node') -> List[int]:\n",
    "\n",
    "\n",
    "    if not root:\n",
    "        return []\n",
    "\n",
    "    res = [root.val]\n",
    "    for child in root.children:\n",
    "        res += preorder(child)\n",
    "\n",
    "    return res"
   ]
  },
  {
   "cell_type": "markdown",
   "id": "150e2f3b",
   "metadata": {},
   "source": [
    "---\n",
    "**[102. Binary Tree Level Order Traversal](https://leetcode.com/problems/binary-tree-level-order-traversal/)**\n",
    "\n",
    "Given the root of a binary tree, return the level order traversal of its nodes' values. (i.e., from left to right, level by level)."
   ]
  },
  {
   "cell_type": "code",
   "execution_count": 30,
   "id": "3a8a7267",
   "metadata": {},
   "outputs": [],
   "source": [
    "class TreeNode:\n",
    "    def __init__(self, val=0, left=None, right=None):\n",
    "        self.val = val\n",
    "        self.left = left\n",
    "        self.right = right"
   ]
  },
  {
   "cell_type": "code",
   "execution_count": 31,
   "id": "f5b4b941",
   "metadata": {},
   "outputs": [],
   "source": [
    "def levelOrder(root: Optional[TreeNode]) -> List[List[int]]:\n",
    "\n",
    "    if not root:\n",
    "        return []\n",
    "\n",
    "    visited = [[root.val]]\n",
    "    queue = [[root]]\n",
    "\n",
    "    level = 0\n",
    "\n",
    "    while 1:\n",
    "\n",
    "        curr_visited = []\n",
    "        curr_queue = []\n",
    "\n",
    "        for node in queue[level]:\n",
    "            if node.left:\n",
    "                curr_queue.append(node.left)\n",
    "                curr_visited.append(node.left.val)\n",
    "            if node.right:\n",
    "                curr_queue.append(node.right)\n",
    "                curr_visited.append(node.right.val)\n",
    "\n",
    "        if curr_queue:\n",
    "            visited.append(curr_visited)\n",
    "            queue.append(curr_queue)\n",
    "            level += 1\n",
    "        else:\n",
    "            break\n",
    "\n",
    "    return visited"
   ]
  },
  {
   "cell_type": "markdown",
   "id": "46bd7f52",
   "metadata": {},
   "source": [
    "---\n",
    "\n",
    "## Day 7\n",
    "\n",
    "**[704. Binary Search](https://leetcode.com/problems/binary-search/)**\n",
    "\n",
    "Given an array of integers nums which is sorted in ascending order, and an integer target, write a function to search target in nums. If target exists, then return its index. Otherwise, return -1.\n",
    "\n",
    "You must write an algorithm with O(log n) runtime complexity.\n",
    "\n",
    "\n"
   ]
  },
  {
   "cell_type": "code",
   "execution_count": 32,
   "id": "cdc5e3df",
   "metadata": {},
   "outputs": [],
   "source": [
    "def search(nums: List[int], target: int) -> int:\n",
    "\n",
    "    if len(nums) == 1:\n",
    "        return 0 if nums[0] == target else -1\n",
    "\n",
    "    elif len(nums) == 2:\n",
    "        if nums[0] == target:\n",
    "            return 0\n",
    "        elif nums[1] == target:\n",
    "            return 1\n",
    "\n",
    "    i, j = 0, len(nums) - 1\n",
    "\n",
    "    while i < j - 1:\n",
    "\n",
    "        if nums[i] == target:\n",
    "            return i\n",
    "        elif nums[j] == target:\n",
    "            return j\n",
    "\n",
    "        middle = (i + j) // 2\n",
    "\n",
    "        if nums[middle] < target:\n",
    "            i = middle\n",
    "        elif nums[middle] > target:\n",
    "            j = middle\n",
    "        else:\n",
    "            return middle\n",
    "\n",
    "    return -1  "
   ]
  },
  {
   "cell_type": "code",
   "execution_count": 33,
   "id": "dde7b4cc",
   "metadata": {},
   "outputs": [],
   "source": [
    "assert search(nums=[-1,0,3,5,9,12], target=9) == 4\n",
    "assert search(nums=[-1,0,3,5,9,12], target=2) == -1"
   ]
  },
  {
   "cell_type": "markdown",
   "id": "cc6fb1b7",
   "metadata": {},
   "source": [
    "_Better solution_"
   ]
  },
  {
   "cell_type": "code",
   "execution_count": 34,
   "id": "83f2091b",
   "metadata": {},
   "outputs": [],
   "source": [
    "def search(nums: List[int], target: int) -> int:\n",
    "    left, right = 0, len(nums) - 1\n",
    "    while left <= right:\n",
    "        pivot = left + (right - left) // 2\n",
    "        if nums[pivot] == target:\n",
    "            return pivot\n",
    "        if target < nums[pivot]:\n",
    "            right = pivot - 1\n",
    "        else:\n",
    "            left = pivot + 1\n",
    "    return -1"
   ]
  },
  {
   "cell_type": "code",
   "execution_count": 35,
   "id": "0ec5ffa3",
   "metadata": {},
   "outputs": [],
   "source": [
    "assert search(nums=[-1,0,3,5,9,12], target=9) == 4\n",
    "assert search(nums=[-1,0,3,5,9,12], target=2) == -1"
   ]
  },
  {
   "cell_type": "markdown",
   "id": "4689df62",
   "metadata": {},
   "source": [
    "---\n",
    "**[278. First Bad Version](https://leetcode.com/problems/first-bad-version/)**\n",
    "\n",
    "You are a product manager and currently leading a team to develop a new product. Unfortunately, the latest version of your product fails the quality check. Since each version is developed based on the previous version, all the versions after a bad version are also bad.\n",
    "\n",
    "Suppose you have n versions [1, 2, ..., n] and you want to find out the first bad one, which causes all the following ones to be bad.\n",
    "\n",
    "You are given an API bool isBadVersion(version) which returns whether version is bad. Implement a function to find the first bad version. You should minimize the number of calls to the API.\n",
    "\n"
   ]
  },
  {
   "cell_type": "markdown",
   "id": "cfb59606",
   "metadata": {},
   "source": [
    "My code"
   ]
  },
  {
   "cell_type": "code",
   "execution_count": 36,
   "id": "b57b9d75",
   "metadata": {},
   "outputs": [],
   "source": [
    "def firstBadVersion(n: int) -> int:\n",
    "        \n",
    "    if n == 1:\n",
    "        return 1\n",
    "    if n == 2:\n",
    "        return 1 if isBadVersion(1) else 2\n",
    "\n",
    "    left, right = 1, n\n",
    "    while left <= right:\n",
    "        pivot = left + (right - left) // 2\n",
    "\n",
    "        if isBadVersion(pivot):\n",
    "\n",
    "            if not isBadVersion(pivot - 1):\n",
    "                return pivot\n",
    "            right = pivot\n",
    "\n",
    "        else:\n",
    "            left = pivot + 1\n",
    "    return -1"
   ]
  },
  {
   "cell_type": "markdown",
   "id": "f6db8d16",
   "metadata": {},
   "source": [
    "Nicer"
   ]
  },
  {
   "cell_type": "code",
   "execution_count": 37,
   "id": "88dc34fe",
   "metadata": {},
   "outputs": [],
   "source": [
    "def firstBadVersion(n: int) -> int:\n",
    "\n",
    "    left, right = 1, n\n",
    "    \n",
    "    while left < right:\n",
    "        mid = left + (right - left) // 2\n",
    "\n",
    "        if isBadVersion(mid):\n",
    "            right = mid\n",
    "        else:\n",
    "            left = mid + 1\n",
    "    return left"
   ]
  },
  {
   "cell_type": "markdown",
   "id": "24ac3f23",
   "metadata": {},
   "source": [
    "---\n",
    "\n",
    "## Day 8\n",
    "\n",
    "**[98. Validate Binary Search Tree](https://leetcode.com/problems/validate-binary-search-tree/)**\n",
    "\n",
    "Given the root of a binary tree, determine if it is a valid binary search tree (BST).\n",
    "\n",
    "A valid BST is defined as follows:\n",
    "\n",
    "The left subtree of a node contains only nodes with keys less than the node's key.\n",
    "The right subtree of a node contains only nodes with keys greater than the node's key.\n",
    "Both the left and right subtrees must also be binary search trees."
   ]
  },
  {
   "cell_type": "markdown",
   "id": "f6dfc6b6",
   "metadata": {},
   "source": [
    "My code"
   ]
  },
  {
   "cell_type": "code",
   "execution_count": 38,
   "id": "6d6cc46d",
   "metadata": {},
   "outputs": [],
   "source": [
    "def isValidBST(root: Optional[TreeNode]) -> bool:\n",
    "        \n",
    "        if root.left:\n",
    "            if root.left.val >= root.val:\n",
    "                return False\n",
    "            for val in inorderTraversal(root.left):\n",
    "                if val >= root.val:\n",
    "                    return False\n",
    "            if not isValidBST(root.left):\n",
    "                return False\n",
    "        \n",
    "        if root.right:\n",
    "            if root.right.val <= root.val:\n",
    "                return False\n",
    "            for val in inorderTraversal(root.right):\n",
    "                if val <= root.val:\n",
    "                    return False\n",
    "            if not isValidBST(root.right):\n",
    "                return False\n",
    "            \n",
    "        return True\n",
    "\n",
    "def inorderTraversal(root: Optional[TreeNode]) -> List[int]:\n",
    "\n",
    "    if not root:\n",
    "        return []\n",
    "\n",
    "    return inorderTraversal(root.left) + [root.val] + \\\n",
    "           inorderTraversal(root.right)"
   ]
  },
  {
   "cell_type": "markdown",
   "id": "f7940d0a",
   "metadata": {},
   "source": [
    "_Better code_"
   ]
  },
  {
   "cell_type": "code",
   "execution_count": 39,
   "id": "77135acc",
   "metadata": {},
   "outputs": [],
   "source": [
    "def isValidBST(root: Optional[TreeNode]) -> bool:\n",
    "\n",
    "    return validate(root)\n",
    "\n",
    "def validate(node: Optional[TreeNode], low: int = -math.inf, high: int = math.inf):\n",
    "\n",
    "    if not node:\n",
    "        return True\n",
    "    if node.val <= low or node.val >= high:\n",
    "        return False\n",
    "    return validate(node.left, low=low, high=node.val) and validate(node.right, low=node.val, high=high)\n"
   ]
  },
  {
   "cell_type": "markdown",
   "id": "70ad22cc",
   "metadata": {},
   "source": [
    "_Alternative_"
   ]
  },
  {
   "cell_type": "code",
   "execution_count": 40,
   "id": "3b0599b4",
   "metadata": {},
   "outputs": [],
   "source": [
    "prev = -math.inf\n",
    "        \n",
    "def isValidBST(root: Optional[TreeNode]) -> bool:\n",
    "\n",
    "    return check_node(root)\n",
    "\n",
    "def check_node(root: Optional[TreeNode]) -> bool:\n",
    "\n",
    "    if not root:\n",
    "        return True\n",
    "\n",
    "    if root.left:\n",
    "        if not check_node(root.left):\n",
    "            return False\n",
    "\n",
    "    if root.val <= prev:\n",
    "        return False\n",
    "\n",
    "    prev = root.val\n",
    "\n",
    "    if root.right:\n",
    "        if not check_node(root.right):\n",
    "            return False\n",
    "\n",
    "    return True"
   ]
  },
  {
   "cell_type": "markdown",
   "id": "8cbbd99b",
   "metadata": {},
   "source": [
    "---\n",
    "**[235. Lowest Common Ancestor of a Binary Search Tree](https://leetcode.com/problems/lowest-common-ancestor-of-a-binary-search-tree/)**\n",
    "\n",
    "Given a binary search tree (BST), find the lowest common ancestor (LCA) of two given nodes in the BST.\n",
    "\n",
    "According to the definition of LCA on Wikipedia: “The lowest common ancestor is defined between two nodes p and q as the lowest node in T that has both p and q as descendants (where we allow a node to be a descendant of itself).”"
   ]
  },
  {
   "cell_type": "code",
   "execution_count": 41,
   "id": "710910e6",
   "metadata": {},
   "outputs": [],
   "source": [
    "class TreeNode:\n",
    "    def __init__(self, x):\n",
    "        self.val = x\n",
    "        self.left = None\n",
    "        self.right = None"
   ]
  },
  {
   "cell_type": "code",
   "execution_count": 42,
   "id": "58c5b32d",
   "metadata": {},
   "outputs": [],
   "source": [
    "def lowestCommonAncestor(self, root: 'TreeNode', p: 'TreeNode', q: 'TreeNode') -> 'TreeNode':\n",
    "\n",
    "    if root.left and p.val < root.val and q.val < root.val:\n",
    "        return self.lowestCommonAncestor(root.left, p, q)\n",
    "\n",
    "    if root.right and p.val > root.val and q.val > root.val:\n",
    "        return self.lowestCommonAncestor(root.right, p, q)\n",
    "\n",
    "    return root"
   ]
  },
  {
   "cell_type": "markdown",
   "id": "6f4a460f",
   "metadata": {},
   "source": [
    "---\n",
    "\n",
    "## Day 9\n",
    "\n",
    "**[733. Flood Fill](https://leetcode.com/problems/flood-fill/)**\n",
    "\n",
    "An image is represented by an `m` x `n` integer grid image where `image[i][j]` represents the pixel value of the image.\n",
    "\n",
    "You are also given three integers sr, sc, and color. You should perform a flood fill on the image starting from the pixel `image[sr][sc]`.\n",
    "\n",
    "To perform a flood fill, consider the starting pixel, plus any pixels connected 4-directionally to the starting pixel of the same color as the starting pixel, plus any pixels connected 4-directionally to those pixels (also with the same color), and so on. Replace the color of all of the aforementioned pixels with color.\n",
    "\n",
    "Return the modified image after performing the flood fill."
   ]
  },
  {
   "cell_type": "code",
   "execution_count": 43,
   "id": "64c4cc5d",
   "metadata": {},
   "outputs": [],
   "source": [
    "class Cell:\n",
    "    def __init__(self, row, col):\n",
    "        self.row = row\n",
    "        self.col = col\n",
    "\n",
    "def floodFill(image: List[List[int]], sr: int, sc: int, color: int) -> List[List[int]]:\n",
    "\n",
    "    neighbour_dirs = [Cell(elem[0], elem[1]) for elem in \n",
    "                     ((-1, 0), (0, 1), (1, 0), (0, -1))\n",
    "                     ]\n",
    "\n",
    "    queue = [Cell(sr, sc)]\n",
    "    start_color = image[sr][sc]\n",
    "\n",
    "    image[sr][sc] = color\n",
    "\n",
    "    while queue:\n",
    "\n",
    "        current = queue.pop()\n",
    "\n",
    "        for direction in neighbour_dirs:\n",
    "            neighbour = Cell(current.row + direction.row,\n",
    "                             current.col + direction.col)\n",
    "            if neighbour.row < 0 or neighbour.row == len(image) \\\n",
    "                or neighbour.col < 0 or neighbour.col == len(image[0]):\n",
    "                continue\n",
    "\n",
    "            if image[neighbour.row][neighbour.col] == color:\n",
    "                continue\n",
    "\n",
    "            if image[neighbour.row][neighbour.col] == start_color:\n",
    "                image[neighbour.row][neighbour.col] = color \n",
    "                queue.append(neighbour)\n",
    "    return image\n",
    "        "
   ]
  },
  {
   "cell_type": "code",
   "execution_count": 44,
   "id": "2564b5a6",
   "metadata": {},
   "outputs": [],
   "source": [
    "assert floodFill(image=[[1,1,1],[1,1,0],[1,0,1]], sr=1, sc=1, color=2) == [[2, 2, 2], [2, 2, 0], [2, 0, 1]]\n",
    "assert floodFill(image=[[0, 0, 0], [0, 0, 0]], sr=0, sc=0, color=0) == [[0, 0, 0], [0, 0, 0]]\n",
    "assert floodFill(image=[[0, 0, 0], [0, 1, 0]], sr=1, sc=1, color=2) == [[0, 0, 0], [0, 2, 0]]"
   ]
  },
  {
   "cell_type": "markdown",
   "id": "76efd4c7",
   "metadata": {},
   "source": [
    "_DFS_"
   ]
  },
  {
   "cell_type": "code",
   "execution_count": 45,
   "id": "dc7297fe",
   "metadata": {},
   "outputs": [],
   "source": [
    "def floodFill(image, sr, sc, color):\n",
    "    R, C = len(image), len(image[0])\n",
    "    curr_color = image[sr][sc]\n",
    "    if curr_color == color: return image\n",
    "    def dfs(r, c):\n",
    "        if image[r][c] == curr_color:\n",
    "            image[r][c] = color\n",
    "            if r >= 1: dfs(r-1, c)\n",
    "            if r+1 < R: dfs(r+1, c)\n",
    "            if c >= 1: dfs(r, c-1)\n",
    "            if c+1 < C: dfs(r, c+1)\n",
    "\n",
    "    dfs(sr, sc)\n",
    "    return image"
   ]
  },
  {
   "cell_type": "code",
   "execution_count": 46,
   "id": "3d8bde73",
   "metadata": {},
   "outputs": [],
   "source": [
    "assert floodFill(image=[[1,1,1],[1,1,0],[1,0,1]], sr=1, sc=1, color=2) == [[2, 2, 2], [2, 2, 0], [2, 0, 1]]\n",
    "assert floodFill(image=[[0, 0, 0], [0, 0, 0]], sr=0, sc=0, color=0) == [[0, 0, 0], [0, 0, 0]]\n",
    "assert floodFill(image=[[0, 0, 0], [0, 1, 0]], sr=1, sc=1, color=2) == [[0, 0, 0], [0, 2, 0]]"
   ]
  },
  {
   "cell_type": "markdown",
   "id": "d69c996d",
   "metadata": {},
   "source": [
    "**[200. Number of Islands](https://leetcode.com/problems/number-of-islands/)**\n",
    "\n",
    "Given an m x n 2D binary grid grid which represents a map of '1's (land) and '0's (water), return the number of islands.\n",
    "\n",
    "An island is surrounded by water and is formed by connecting adjacent lands horizontally or vertically. You may assume all four edges of the grid are all surrounded by water.\n",
    "\n"
   ]
  },
  {
   "cell_type": "code",
   "execution_count": 47,
   "id": "3f333830",
   "metadata": {},
   "outputs": [],
   "source": [
    "class Cell:\n",
    "    def __init__(self, row, col):\n",
    "        self.row = row\n",
    "        self.col = col\n",
    "        \n",
    "def numIslands(grid: List[List[str]]) -> int:\n",
    "\n",
    "    visited = [[0] * len(grid[0]) for _ in range(len(grid))]\n",
    "\n",
    "    num_islands = 0\n",
    "\n",
    "    for i in range(len(grid)):\n",
    "        for j in range(len(grid[0])):\n",
    "\n",
    "            if grid[i][j] == '1' and not visited[i][j]:\n",
    "                traverseIsland(i, j, grid, visited)\n",
    "                num_islands += 1\n",
    "\n",
    "    return num_islands \n",
    "\n",
    "\n",
    "def traverseIsland(i: int, j: int, grid: List[List[str]],\n",
    "                  visited: List[List[int]]) -> None:\n",
    "\n",
    "    queue = [Cell(i, j)]\n",
    "\n",
    "    neighbour_dirs = [Cell(elem[0], elem[1]) for elem in \n",
    "                     ((-1, 0), (0, 1), (1, 0), (0, -1))\n",
    "                     ]\n",
    "\n",
    "    while queue:\n",
    "\n",
    "        current = queue.pop()\n",
    "        #print(\"queue\", [(el.row, el.col) for el in queue])\n",
    "        #print(\"current\", (current.row, current.col))\n",
    "        \n",
    "        \n",
    "        if current.row >= 0 and current.row < len(grid) \\\n",
    "                    and current.col >= 0 and current.col < len(grid[0]):\n",
    "        \n",
    "            visited[current.row][current.col] = 1\n",
    "        \n",
    "        for direction in neighbour_dirs:\n",
    "                neighbour = Cell(current.row + direction.row,\n",
    "                                 current.col + direction.col)\n",
    "                \n",
    "                \n",
    "                if neighbour.row < 0 or neighbour.row == len(grid) \\\n",
    "                    or neighbour.col < 0 or neighbour.col == len(grid[0]):\n",
    "                    continue\n",
    "                    \n",
    "                #print(\"neighbour\", (neighbour.row, neighbour.col))\n",
    "                #print(\"visited:\", visited[neighbour.row][neighbour.col])\n",
    "\n",
    "                if grid[neighbour.row][neighbour.col] == \"0\":\n",
    "                    continue\n",
    "\n",
    "                elif not visited[neighbour.row][neighbour.col]:\n",
    "                    \n",
    "                    queue.append(neighbour)                    "
   ]
  },
  {
   "cell_type": "code",
   "execution_count": 48,
   "id": "4f285297",
   "metadata": {},
   "outputs": [],
   "source": [
    "assert numIslands(grid=[[\"1\",\"0\",\"1\",\"1\",\"1\"],[\"1\",\"0\",\"1\",\"0\",\"1\"],[\"1\",\"1\",\"1\",\"0\",\"1\"]]) == 1\n",
    "assert numIslands(grid = [\n",
    "  [\"1\",\"1\",\"0\",\"0\",\"0\"],\n",
    "  [\"1\",\"1\",\"0\",\"0\",\"0\"],\n",
    "  [\"0\",\"0\",\"1\",\"0\",\"0\"],\n",
    "  [\"0\",\"0\",\"0\",\"1\",\"1\"]\n",
    "]) == 3"
   ]
  },
  {
   "cell_type": "markdown",
   "id": "e7b536c2",
   "metadata": {},
   "source": [
    "---\n",
    "\n",
    "## Day 10"
   ]
  },
  {
   "cell_type": "markdown",
   "id": "b9c84aaa",
   "metadata": {},
   "source": [
    "**[509. Fibonacci Number](https://leetcode.com/problems/fibonacci-number/)**\n",
    "\n",
    "The Fibonacci numbers, commonly denoted F(n) form a sequence, called the Fibonacci sequence, such that each number is the sum of the two preceding ones, starting from 0 and 1. That is,\n",
    "```\n",
    "F(0) = 0, F(1) = 1\n",
    "F(n) = F(n - 1) + F(n - 2), for n > 1.\n",
    "```\n",
    "Given n, calculate F(n)."
   ]
  },
  {
   "cell_type": "code",
   "execution_count": 49,
   "id": "30d00705",
   "metadata": {},
   "outputs": [],
   "source": [
    "def fib(n: int) -> int:\n",
    "\n",
    "    if n <= 1:\n",
    "        return n\n",
    "\n",
    "    a, b = 0, 1\n",
    "    for _ in range(n):\n",
    "        a, b = b, a + b\n",
    "    return a"
   ]
  },
  {
   "cell_type": "markdown",
   "id": "e4d1bdf8",
   "metadata": {},
   "source": [
    "faster solutions rely on  matrix multiplications or direct math formulae"
   ]
  },
  {
   "cell_type": "markdown",
   "id": "2256e4fd",
   "metadata": {},
   "source": [
    "**[70. Climbing Stairs](https://leetcode.com/problems/climbing-stairs/)**\n",
    "\n",
    "You are climbing a staircase. It takes n steps to reach the top.\n",
    "\n",
    "Each time you can either climb 1 or 2 steps. In how many distinct ways can you climb to the top?"
   ]
  },
  {
   "cell_type": "code",
   "execution_count": 50,
   "id": "ee15e84e",
   "metadata": {},
   "outputs": [],
   "source": [
    "def climbStairs(self, n: int) -> int:\n",
    "    # fibonacci sequence\n",
    "    i, j = 0, 1\n",
    "    for _ in range(n):\n",
    "        i, j = j, i + j\n",
    "    return j"
   ]
  },
  {
   "cell_type": "markdown",
   "id": "6920616a",
   "metadata": {},
   "source": [
    "---\n",
    "## Day 11\n",
    "\n",
    "**[746. Min Cost Climbing Stairs](https://leetcode.com/problems/min-cost-climbing-stairs/)**\n",
    "\n",
    "You are given an integer array `cost` where `cost[i]` is the cost of ith step on a staircase. Once you pay the cost, you can either climb one or two steps.\n",
    "\n",
    "You can either start from the step with index 0, or the step with index 1.\n",
    "\n",
    "Return the minimum cost to reach the top of the floor."
   ]
  },
  {
   "cell_type": "markdown",
   "id": "b33adef8",
   "metadata": {},
   "source": [
    "This is _dynamic programming_. In this case:\n",
    "\n",
    "- _What is the state?_ State is the min cost to achieve step `i`. We store those in a list `dp`\n",
    "- _How to transition between states?_ ```dp[i] = min(dp[i-1] + cost[i-1], dp[i-2] + cost[i-2])```\n",
    "- _What's the initial state?_ `dp[0] = dp[1] = 0`\n",
    "- _What's the answer to the problem?_ `dp[-1]`"
   ]
  },
  {
   "cell_type": "code",
   "execution_count": 51,
   "id": "bcdb77d9",
   "metadata": {},
   "outputs": [],
   "source": [
    "def minCostClimbingStairs(cost: List[int]) -> int:\n",
    "\n",
    "    costs = [0] * (len(cost) + 1)\n",
    "\n",
    "    for i in range(2, len(costs)):\n",
    "\n",
    "        costs[i] = min(costs[i-1] + cost[i-1], \n",
    "                       costs[i-2] + cost[i-2])\n",
    "\n",
    "    return costs[-1]"
   ]
  },
  {
   "cell_type": "code",
   "execution_count": 52,
   "id": "0fc85506",
   "metadata": {},
   "outputs": [],
   "source": [
    "assert minCostClimbingStairs(cost=[10,15,20]) == 15\n",
    "assert minCostClimbingStairs(cost=[1,100,1,1,1,100,1,1,100,1]) == 6"
   ]
  },
  {
   "cell_type": "markdown",
   "id": "61731441",
   "metadata": {},
   "source": [
    "**[62. Unique Paths]()**\n",
    "\n",
    "There is a robot on an `m x n` grid. The robot is initially located at the top-left corner (i.e., `grid[0][0]`). The robot tries to move to the bottom-right corner (i.e., `grid[m - 1][n - 1]`). The robot can only move either down or right at any point in time.\n",
    "\n",
    "Given the two integers m and n, return the number of possible unique paths that the robot can take to reach the bottom-right corner.\n",
    "\n",
    "The test cases are generated so that the answer will be less than or equal to 2 * 109."
   ]
  },
  {
   "cell_type": "markdown",
   "id": "5df44ccd",
   "metadata": {},
   "source": [
    "This is _dynamic programming_. In this case:\n",
    "\n",
    "- _What is the state?_ State is the number of ways to reach `(i, j)`. We store those in a 2d array `dp`\n",
    "- _How to transition between states?_ ```dp[i][j] = dp[i-1][j] + dp[i][j-1]```\n",
    "- _What's the initial state?_ `dp[0][0] = 1`, $\\forall j$ `dp[0][j] = 1`, $\\forall i $ `dp[i][0] = 1`\n",
    "- _What's the answer to the problem?_ `dp[-1][-1]`"
   ]
  },
  {
   "cell_type": "code",
   "execution_count": 53,
   "id": "3a6646b7",
   "metadata": {},
   "outputs": [],
   "source": [
    "def uniquePaths(m: int, n: int) -> int:\n",
    "\n",
    "    dp = [[1] * n for _ in range(m)]\n",
    "\n",
    "    for i in range(1, m):\n",
    "        for j in range(1, n):\n",
    "            dp[i][j] = dp[i-1][j] + dp[i][j-1]\n",
    "\n",
    "    return dp[m-1][n-1]"
   ]
  },
  {
   "cell_type": "code",
   "execution_count": 54,
   "id": "a256a088",
   "metadata": {},
   "outputs": [],
   "source": [
    "assert uniquePaths(m=3, n=7) == 28\n",
    "assert uniquePaths(m=3, n=2) == 3"
   ]
  },
  {
   "cell_type": "markdown",
   "id": "58155f51",
   "metadata": {},
   "source": [
    "---\n",
    "## Day 12\n",
    "\n",
    "**[424. Longest Repeating Character Replacement](https://leetcode.com/problems/longest-repeating-character-replacement/)**\n",
    "\n",
    "You are given a string s and an integer k. You can choose any character of the string and change it to any other uppercase English character. You can perform this operation at most k times.\n",
    "\n",
    "Return the length of the longest substring containing the same letter you can get after performing the above operations."
   ]
  },
  {
   "cell_type": "markdown",
   "id": "9828d135",
   "metadata": {},
   "source": [
    "_Original version_"
   ]
  },
  {
   "cell_type": "code",
   "execution_count": 55,
   "id": "e3ab7641",
   "metadata": {},
   "outputs": [],
   "source": [
    "def characterReplacement(s: str, k: int) -> int:\n",
    "\n",
    "    max_length = 0\n",
    "    for i in range(len(s)):\n",
    "        if len(s) - i < max_length:\n",
    "            break\n",
    "        curr_char = s[i]\n",
    "        curr_length = 0\n",
    "        j = i\n",
    "        m = k\n",
    "        while j < len(s):\n",
    "            if s[j] != curr_char:\n",
    "                if m == 0:\n",
    "                    break\n",
    "                else:\n",
    "                    m -= 1\n",
    "            curr_length += 1\n",
    "            j += 1\n",
    "\n",
    "        if curr_length > max_length:\n",
    "            max_length = curr_length\n",
    "\n",
    "        if i < len(s)-1 and s[i+1] != s[i]:\n",
    "            curr_char = s[i+1]\n",
    "            curr_length = 0\n",
    "            j = i\n",
    "            m = k\n",
    "            while j < len(s):\n",
    "                if s[j] != curr_char:\n",
    "                    if m == 0:\n",
    "                        break\n",
    "                    else:\n",
    "                        m -= 1\n",
    "                curr_length += 1\n",
    "                j += 1\n",
    "\n",
    "            if curr_length > max_length:\n",
    "                max_length = curr_length\n",
    "\n",
    "    return max_length\n",
    "        "
   ]
  },
  {
   "cell_type": "code",
   "execution_count": 56,
   "id": "59774572",
   "metadata": {},
   "outputs": [],
   "source": [
    "assert characterReplacement(s=\"AABABBA\", k=1) == 4\n",
    "assert characterReplacement(s=\"ABBB\", k=1) == 4"
   ]
  },
  {
   "cell_type": "markdown",
   "id": "c1033936",
   "metadata": {},
   "source": [
    "More efficient version"
   ]
  },
  {
   "cell_type": "code",
   "execution_count": 57,
   "id": "5796e02f",
   "metadata": {},
   "outputs": [],
   "source": [
    "def characterReplacement(s: str, k: int) -> int:\n",
    "    \n",
    "    freqs = {}\n",
    "    \n",
    "    left, right = 0, 0\n",
    "    max_length = 0\n",
    "    \n",
    "    for right in range(len(s)):\n",
    "        \n",
    "        if s[right] not in freqs:\n",
    "            freqs[s[right]] = 0\n",
    "        freqs[s[right]] += 1\n",
    "        \n",
    "        replacement_cost = right - left + 1 - max(freqs.values())\n",
    "        \n",
    "        if replacement_cost <= k:\n",
    "            max_length = max(max_length, right - left + 1)\n",
    "        else:\n",
    "            freqs[s[left]] -= 1\n",
    "            if not freqs[s[left]]:\n",
    "                    freqs.pop(s[left])\n",
    "            left += 1\n",
    "            \n",
    "    return max_length\n",
    "    \n",
    "    "
   ]
  },
  {
   "cell_type": "markdown",
   "id": "34635dc7",
   "metadata": {},
   "source": [
    "**[438. Find All Anagrams in a String](https://leetcode.com/problems/find-all-anagrams-in-a-string/)**\n",
    "\n",
    "Given two strings s and p, return an array of all the start indices of p's anagrams in s. You may return the answer in any order.\n",
    "\n",
    "An Anagram is a word or phrase formed by rearranging the letters of a different word or phrase, typically using all the original letters exactly once."
   ]
  },
  {
   "cell_type": "markdown",
   "id": "8eb2a59c",
   "metadata": {},
   "source": [
    "_Original version_"
   ]
  },
  {
   "cell_type": "code",
   "execution_count": 58,
   "id": "ff297a65",
   "metadata": {},
   "outputs": [],
   "source": [
    "def findAnagrams(s: str, p: str) -> List[int]:\n",
    "\n",
    "    result = []\n",
    "\n",
    "    left = 0\n",
    "\n",
    "    counts_p = Counter(p)\n",
    "\n",
    "    for left in range(len(s)):\n",
    "\n",
    "        counts = counts_p.copy()\n",
    "\n",
    "        for right in range(left, min(left + len(p), len(s))):\n",
    "\n",
    "            if s[right] not in p:\n",
    "                break\n",
    "\n",
    "            counts[s[right]] -= 1\n",
    "\n",
    "        if max(counts.values()) == 0:\n",
    "            result.append(left)\n",
    "    return result"
   ]
  },
  {
   "cell_type": "code",
   "execution_count": 59,
   "id": "e3f70cc3",
   "metadata": {},
   "outputs": [],
   "source": [
    "assert findAnagrams(s=\"cbaebabacd\", p=\"abc\") == [0, 6]\n",
    "assert findAnagrams(s=\"abab\", p=\"ab\") == [0, 1, 2]"
   ]
  },
  {
   "cell_type": "markdown",
   "id": "9290ffb9",
   "metadata": {},
   "source": [
    "_Efficient solution_"
   ]
  },
  {
   "cell_type": "code",
   "execution_count": 60,
   "id": "447b0563",
   "metadata": {},
   "outputs": [],
   "source": [
    "def findAnagrams(s: str, p: str) -> List[int]:\n",
    "\n",
    "    result = []\n",
    "    counts_p = Counter(p)\n",
    "\n",
    "    for left in range(len(s)):\n",
    "\n",
    "        if left == 0:\n",
    "            counts_slice = Counter(s[left:min(left + len(p), len(s))])\n",
    "        else:\n",
    "            counts_slice[s[left-1]] -= 1\n",
    "            if left + len(p) - 1 < len(s):\n",
    "                counts_slice[s[left + len(p) - 1]] += 1\n",
    "\n",
    "        if counts_slice == counts_p:\n",
    "            result.append(left)\n",
    "    return result"
   ]
  },
  {
   "cell_type": "code",
   "execution_count": 61,
   "id": "75e3c9b5",
   "metadata": {},
   "outputs": [],
   "source": [
    "assert findAnagrams(s=\"cbaebabacd\", p=\"abc\") == [0, 6]\n",
    "assert findAnagrams(s=\"abab\", p=\"ab\") == [0, 1, 2]"
   ]
  },
  {
   "cell_type": "markdown",
   "id": "bed500d1",
   "metadata": {},
   "source": [
    "## Day 13\n",
    "\n",
    "**[1. Two Sum](https://leetcode.com/problems/two-sum/)**\n",
    "\n",
    "Given an array of integers nums and an integer target, return indices of the two numbers such that they add up to target.\n",
    "\n",
    "You may assume that each input would have exactly one solution, and you may not use the same element twice.\n",
    "\n",
    "You can return the answer in any order."
   ]
  },
  {
   "cell_type": "code",
   "execution_count": 62,
   "id": "6ed5e19e",
   "metadata": {},
   "outputs": [],
   "source": [
    "def twoSum(nums: List[int], target: int) -> List[int]:\n",
    "\n",
    "    d = {nums[i]: i for i in range(len(nums))}\n",
    "\n",
    "    for i in range(len(nums)):\n",
    "        complement = target - nums[i]\n",
    "\n",
    "        if complement in d and d[complement] != i:\n",
    "            return [i, d[complement]]"
   ]
  },
  {
   "cell_type": "code",
   "execution_count": 64,
   "id": "3c7b3da3",
   "metadata": {},
   "outputs": [],
   "source": [
    "assert twoSum(nums=[2,7,11,15], target=9) == [0, 1]\n",
    "assert twoSum(nums=[3,2,4], target=6) == [1, 2]"
   ]
  },
  {
   "cell_type": "markdown",
   "id": "44f145ab",
   "metadata": {},
   "source": [
    "---\n",
    "**[299. Bulls and Cows](https://leetcode.com/problems/bulls-and-cows/)**\n",
    "\n",
    "\n",
    "You are playing the Bulls and Cows game with your friend.\n",
    "\n",
    "You write down a secret number and ask your friend to guess what the number is. When your friend makes a guess, you provide a hint with the following info:\n",
    "\n",
    "The number of \"bulls\", which are digits in the guess that are in the correct position.\n",
    "The number of \"cows\", which are digits in the guess that are in your secret number but are located in the wrong position. Specifically, the non-bull digits in the guess that could be rearranged such that they become bulls.\n",
    "Given the secret number secret and your friend's guess guess, return the hint for your friend's guess.\n",
    "\n",
    "The hint should be formatted as \"xAyB\", where x is the number of bulls and y is the number of cows. Note that both secret and guess may contain duplicate digits."
   ]
  },
  {
   "cell_type": "markdown",
   "id": "22d9b024",
   "metadata": {},
   "source": [
    "_Multi-pass solution_"
   ]
  },
  {
   "cell_type": "code",
   "execution_count": 66,
   "id": "e23263ec",
   "metadata": {},
   "outputs": [],
   "source": [
    "def getHint(secret: str, guess: str) -> str:\n",
    "        \n",
    "    counts_secret = Counter(secret)\n",
    "    counts_guess = Counter(guess)\n",
    "\n",
    "    num_common = 0\n",
    "\n",
    "    for k, v in counts_secret.items():\n",
    "        if k in counts_guess:\n",
    "            num_common += min(v, counts_guess[k])\n",
    "\n",
    "    bulls, cows = 0, 0 \n",
    "\n",
    "    for i in range(len(secret)):\n",
    "        if secret[i] == guess[i]:\n",
    "            bulls += 1\n",
    "\n",
    "    cows = num_common - bulls\n",
    "\n",
    "    return f\"{bulls}A{cows}B\""
   ]
  },
  {
   "cell_type": "code",
   "execution_count": 67,
   "id": "5cb73abc",
   "metadata": {},
   "outputs": [],
   "source": [
    "assert getHint(secret=\"1807\", guess=\"7810\") == \"1A3B\"\n",
    "assert getHint(secret=\"1123\", guess=\"0111\") == \"1A1B\""
   ]
  },
  {
   "cell_type": "markdown",
   "id": "b49ef58b",
   "metadata": {},
   "source": [
    "One-pass"
   ]
  },
  {
   "cell_type": "code",
   "execution_count": 71,
   "id": "6f78c882",
   "metadata": {},
   "outputs": [],
   "source": [
    "def getHint(secret: str, guess: str) -> str:\n",
    "\n",
    "    counts_secret, counts_guess = {}, {}\n",
    "    bulls, cows = 0, 0\n",
    "\n",
    "    for i in range(len(secret)):\n",
    "        s, g = secret[i], guess[i]\n",
    "\n",
    "        if s == g:\n",
    "            bulls += 1\n",
    "\n",
    "        if s not in counts_secret:\n",
    "            counts_secret[s] = 1\n",
    "        else:\n",
    "            counts_secret[s] += 1\n",
    "\n",
    "        if g not in counts_guess:\n",
    "            counts_guess[g] = 1\n",
    "        else:\n",
    "            counts_guess[g] += 1\n",
    "\n",
    "    num_common = 0\n",
    "\n",
    "    for k in counts_secret:\n",
    "        if k in counts_guess:\n",
    "            num_common += min(counts_secret[k], counts_guess[k])\n",
    "\n",
    "    cows = num_common - bulls\n",
    "\n",
    "    return f\"{bulls}A{cows}B\""
   ]
  },
  {
   "cell_type": "code",
   "execution_count": 72,
   "id": "85a7d1d6",
   "metadata": {},
   "outputs": [],
   "source": [
    "assert getHint(secret=\"1807\", guess=\"7810\") == \"1A3B\"\n",
    "assert getHint(secret=\"1123\", guess=\"0111\") == \"1A1B\""
   ]
  },
  {
   "cell_type": "markdown",
   "id": "b69e671d",
   "metadata": {},
   "source": [
    "---\n",
    "## Day 14\n",
    "**[844. Backspace String Compare](https://leetcode.com/problems/backspace-string-compare/)**\n",
    "\n",
    "Given two strings s and t, return true if they are equal when both are typed into empty text editors. '#' means a backspace character.\n",
    "\n",
    "Note that after backspacing an empty text, the text will continue empty."
   ]
  },
  {
   "cell_type": "code",
   "execution_count": 80,
   "id": "0757dcae",
   "metadata": {},
   "outputs": [],
   "source": [
    "def backspaceCompare(s: str, t: str) -> bool:\n",
    "\n",
    "    def modify_string(string: str):\n",
    "        stack = []\n",
    "\n",
    "        for char in string:\n",
    "            if char != '#':\n",
    "                stack.append(char)\n",
    "            elif len(stack):\n",
    "                stack.pop()\n",
    "\n",
    "        return \"\".join(stack)\n",
    "\n",
    "    return modify_string(s) == modify_string(t)"
   ]
  },
  {
   "cell_type": "code",
   "execution_count": 81,
   "id": "d732c296",
   "metadata": {},
   "outputs": [],
   "source": [
    "assert backspaceCompare(s=\"ab#c\", t=\"ad#c\")\n",
    "assert backspaceCompare(s=\"ab##\", t=\"c#d#\")\n",
    "assert backspaceCompare(s=\"a#c\", t =\"b\") == False"
   ]
  },
  {
   "cell_type": "markdown",
   "id": "a5ff5f9e",
   "metadata": {},
   "source": [
    "**[394. Decode String](https://leetcode.com/problems/decode-string/)**\n",
    "\n",
    "Given an encoded string, return its decoded string.\n",
    "\n",
    "The encoding rule is: k[encoded_string], where the encoded_string inside the square brackets is being repeated exactly k times. Note that k is guaranteed to be a positive integer.\n",
    "\n",
    "You may assume that the input string is always valid; there are no extra white spaces, square brackets are well-formed, etc. Furthermore, you may assume that the original data does not contain any digits and that digits are only for those repeat numbers, k. For example, there will not be input like 3a or 2[4].\n",
    "\n",
    "The test cases are generated so that the length of the output will never exceed 105."
   ]
  },
  {
   "cell_type": "code",
   "execution_count": 191,
   "id": "1e5ce050",
   "metadata": {},
   "outputs": [],
   "source": [
    "def decodeString(s: str) -> str:\n",
    "    \n",
    "    if '[' not in s:\n",
    "        return s\n",
    "    \n",
    "    stack = []\n",
    "    result, buffer = \"\", []\n",
    "\n",
    "    for i in range(len(s)):\n",
    "\n",
    "        if s[i] == ']':\n",
    "            a, repeats = \"\", \"\"\n",
    "            buffer = []\n",
    "            while a != '[':\n",
    "                buffer.append(a)\n",
    "                a = stack.pop()\n",
    "                \n",
    "            buffer = \"\".join(buffer[::-1])\n",
    "\n",
    "            while stack and stack[-1] in ['0', '1', '2', '3', '4', '5', '6', '7', '8', '9']:\n",
    "                a = stack.pop()\n",
    "                repeats += a\n",
    "            repeats = int(repeats[::-1])\n",
    "            \n",
    "            for _ in range(repeats):\n",
    "                stack.append(buffer)\n",
    "            \n",
    "            #print(stack)\n",
    "        else:\n",
    "            stack.append(s[i])\n",
    "    \n",
    "    result = \"\".join(stack)\n",
    "        \n",
    "    \n",
    "    return result"
   ]
  },
  {
   "cell_type": "code",
   "execution_count": 192,
   "id": "86b561e3",
   "metadata": {},
   "outputs": [],
   "source": [
    "assert decodeString('3[a]2[bc]') == 'aaabcbc'\n",
    "assert decodeString('3[a2[c]]') == 'accaccacc'\n",
    "assert decodeString('10[leet]') == 'leetleetleetleetleetleetleetleetleetleet'\n",
    "assert decodeString(\"3[z]2[2[y]pq4[2[jk]e1[f]]]ef\") == 'zzzyypqjkjkefjkjkefjkjkefjkjkefyypqjkjkefjkjkefjkjkefjkjkefef'"
   ]
  },
  {
   "cell_type": "markdown",
   "id": "e464e044",
   "metadata": {},
   "source": [
    "---\n",
    "## Day 15\n",
    "**[1046. Last Stone Weight](https://leetcode.com/problems/last-stone-weight/)**\n",
    "\n",
    "You are given an array of integers stones where stones[i] is the weight of the ith stone.\n",
    "\n",
    "We are playing a game with the stones. On each turn, we choose the heaviest two stones and smash them together. Suppose the heaviest two stones have weights x and y with x <= y. The result of this smash is:\n",
    "\n",
    "- If x == y, both stones are destroyed, and\n",
    "- If x != y, the stone of weight x is destroyed, and the stone of weight y has new weight y - x.\n",
    "\n",
    "At the end of the game, there is at most one stone left.\n",
    "\n",
    "Return the weight of the last remaining stone. If there are no stones left, return 0."
   ]
  },
  {
   "cell_type": "code",
   "execution_count": 193,
   "id": "b3edab3c",
   "metadata": {},
   "outputs": [],
   "source": [
    "from sortedcontainers import SortedList"
   ]
  },
  {
   "cell_type": "code",
   "execution_count": 210,
   "id": "6df23d85",
   "metadata": {},
   "outputs": [],
   "source": [
    "def lastStoneWeight(stones: List[int]) -> int:\n",
    "    stones = SortedList(stones)\n",
    "    \n",
    "    while len(stones) > 1:\n",
    "        last = stones[-1]\n",
    "        last_but_one =  stones[-2]\n",
    "        \n",
    "        diff = last - last_but_one\n",
    "        \n",
    "        if diff != 0:\n",
    "            stones.add(diff)\n",
    "            \n",
    "        stones.remove(last)\n",
    "        stones.remove(last_but_one)\n",
    "        \n",
    "    if len(stones):\n",
    "        return stones.pop()\n",
    "    \n",
    "    return 0"
   ]
  },
  {
   "cell_type": "code",
   "execution_count": 211,
   "id": "830ee4e6",
   "metadata": {},
   "outputs": [],
   "source": [
    "assert lastStoneWeight([2,7,4,1,8,1]) == 1\n",
    "assert lastStoneWeight([1]) == 1\n",
    "assert lastStoneWeight([2,2]) == 0"
   ]
  },
  {
   "cell_type": "markdown",
   "id": "2810726e",
   "metadata": {},
   "source": [
    "---\n",
    "**[692. Top K Frequent Words](https://leetcode.com/problems/top-k-frequent-words/)**\n",
    "\n",
    "Given an array of strings words and an integer k, return the k most frequent strings.\n",
    "\n",
    "Return the answer sorted by the frequency from highest to lowest. Sort the words with the same frequency by their lexicographical order."
   ]
  },
  {
   "cell_type": "code",
   "execution_count": 243,
   "id": "3f2db294",
   "metadata": {},
   "outputs": [],
   "source": [
    "from sortedcontainers import SortedValuesView, SortedDict"
   ]
  },
  {
   "cell_type": "code",
   "execution_count": 286,
   "id": "2c05d257",
   "metadata": {},
   "outputs": [],
   "source": [
    "def topKFrequent(words: List[str], k: int) -> List[str]:\n",
    "    \n",
    "    freqs = Counter(words)\n",
    "    freqs_tuples = sorted(freqs.items(), key=lambda p: -p[1])\n",
    "    \n",
    "    print(freqs_tuples)\n",
    "    \n",
    "    res, curr_keys = [], [freqs_tuples[0][0]]\n",
    "    \n",
    "    curr_freq = freqs_tuples[0][1]\n",
    "    \n",
    "    for k, v in freqs_tuples[1:k]:\n",
    "        \n",
    "        if v != curr_freq:\n",
    "            res.extend(sorted(curr_keys))\n",
    "            curr_keys = [k]\n",
    "            curr_freq = v\n",
    "        else:\n",
    "            curr_keys.append(k)\n",
    "        \n",
    "    res.extend(sorted(curr_keys))\n",
    "    return res"
   ]
  },
  {
   "cell_type": "code",
   "execution_count": 311,
   "id": "2a2d5896",
   "metadata": {},
   "outputs": [],
   "source": [
    "def topKFrequent(words: List[str], k: int) -> List[str]:\n",
    "    \n",
    "    freqs = Counter(words)\n",
    "    \n",
    "    inv_freqs = {}\n",
    "    \n",
    "    for key, v in freqs.items():\n",
    "        if v not in inv_freqs:\n",
    "            inv_freqs[v] = [key]\n",
    "        else:\n",
    "            inv_freqs[v].append(key)\n",
    "    \n",
    "    for key, v in inv_freqs.items():\n",
    "        \n",
    "        inv_freqs[key] = sorted(v)\n",
    "    \n",
    "    \n",
    "    inv_freqs = SortedDict(inv_freqs)\n",
    "    \n",
    "    res = []\n",
    "    added = 0\n",
    "        \n",
    "    for key, v in inv_freqs.items()[::-1]:\n",
    "        \n",
    "        if added + len(v) <= k:\n",
    "            res.extend(v)\n",
    "            added += len(v)\n",
    "        else:\n",
    "            res.extend(v[:k-added]) \n",
    "            break\n",
    "        \n",
    "    return res    "
   ]
  },
  {
   "cell_type": "code",
   "execution_count": 315,
   "id": "4f005349",
   "metadata": {},
   "outputs": [],
   "source": [
    "assert topKFrequent(words=[\"love\", \"i\",\"leetcode\",\"i\",\"love\",\"coding\"], k=2) == ['i', 'love']\n",
    "assert topKFrequent(words=[\"the\",\"day\",\"is\",\"sunny\",\"the\",\"the\",\"the\",\"sunny\",\"is\",\"is\"], k=4) == ['the', 'is', 'sunny', 'day']\n",
    "assert topKFrequent(words=[\"i\",\"love\",\"leetcode\",\"i\",\"love\",\"coding\"], k=3) == ['i', 'love', 'coding']\n",
    "assert topKFrequent(words=[\"i\",\"love\",\"leetcode\",\"i\",\"love\",\"coding\"], k=1) == ['i']"
   ]
  }
 ],
 "metadata": {
  "kernelspec": {
   "display_name": "Python 3 (ipykernel)",
   "language": "python",
   "name": "python3"
  },
  "language_info": {
   "codemirror_mode": {
    "name": "ipython",
    "version": 3
   },
   "file_extension": ".py",
   "mimetype": "text/x-python",
   "name": "python",
   "nbconvert_exporter": "python",
   "pygments_lexer": "ipython3",
   "version": "3.10.4"
  }
 },
 "nbformat": 4,
 "nbformat_minor": 5
}
