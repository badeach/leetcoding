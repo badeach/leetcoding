{
 "cells": [
  {
   "cell_type": "markdown",
   "id": "0a19d75d",
   "metadata": {},
   "source": [
    "**[Merge Sorted Array](https://leetcode.com/problems/merge-sorted-array/)**\n",
    "\n",
    "You are given two integer arrays `nums1` and `nums2`, sorted in non-decreasing order, and two integers m and n, representing the number of elements in `nums1` and `nums2` respectively.\n",
    "\n",
    "Merge `nums1` and `nums2` into a single array sorted in non-decreasing order.\n",
    "\n",
    "The final sorted array should not be returned by the function, but instead be stored inside the array `nums1`. To accommodate this, `nums1` has a length of m + n, where the first m elements denote the elements that should be merged, and the last n elements are set to 0 and should be ignored. `nums2` has a length of n."
   ]
  },
  {
   "cell_type": "code",
   "execution_count": 1,
   "id": "961e45c5",
   "metadata": {},
   "outputs": [],
   "source": [
    "from typing import List, Dict, Tuple, Any, Callable, Optional"
   ]
  },
  {
   "cell_type": "code",
   "execution_count": 2,
   "id": "604c210d",
   "metadata": {},
   "outputs": [],
   "source": [
    "def merge(nums1: List[int], m: int, nums2: List[int], n: int) -> None:\n",
    "    \"\"\"\n",
    "    Do not return anything, modify nums1 in-place instead.\n",
    "    \"\"\"\n",
    "    if n == 0:\n",
    "        pass\n",
    "    elif m == 0:\n",
    "        for i in range(n):\n",
    "            nums1[i] = nums2[i]\n",
    "    else:\n",
    "        i, j, k = 0, 0, m - 1\n",
    "        while i <= k and j < n:\n",
    "            # if the current element in nums1 is greater than \n",
    "            # the current element in nums2\n",
    "            # we need to shift values in nums1\n",
    "            if nums1[i] > nums2[j]:\n",
    "\n",
    "                for k_ in range(k, i-1, -1):\n",
    "                    nums1[k_ + 1] = nums1[k_]\n",
    "                nums1[i] = nums2[j]\n",
    "\n",
    "                k += 1\n",
    "                j += 1\n",
    "\n",
    "            i += 1\n",
    "\n",
    "        # add leftovers from `nums2`\n",
    "        while i < m + n and j < n:\n",
    "            nums1[i] = nums2[j]\n",
    "            i += 1\n",
    "            j += 1"
   ]
  },
  {
   "cell_type": "code",
   "execution_count": 3,
   "id": "f5639d8c",
   "metadata": {},
   "outputs": [],
   "source": [
    "nums1 = [4,5,6,0,0,0]\n",
    "nums2 = [1,2,3]\n",
    "\n",
    "merge(nums1=nums1, m=3, nums2=nums2, n=3)\n",
    "assert nums1 == [1, 2, 3, 4, 5, 6]"
   ]
  },
  {
   "cell_type": "code",
   "execution_count": 4,
   "id": "79adf358",
   "metadata": {},
   "outputs": [],
   "source": [
    "nums1 = [1,2,3,0,0,0]\n",
    "nums2 = [2,5,6]\n",
    "\n",
    "merge(nums1=nums1, m=3, nums2=nums2, n=3)\n",
    "assert nums1 == [1, 2, 2, 3, 5, 6]"
   ]
  },
  {
   "cell_type": "code",
   "execution_count": 5,
   "id": "17d0dffb",
   "metadata": {},
   "outputs": [],
   "source": [
    "nums1 = [0,0,0,0,0]\n",
    "m = 0\n",
    "nums2 = [1,2,3,4,5]\n",
    "n = 5\n",
    "\n",
    "merge(nums1=nums1, m=0, nums2=nums2, n=5)\n",
    "assert nums1 == [1, 2, 3, 4, 5]"
   ]
  },
  {
   "cell_type": "code",
   "execution_count": null,
   "id": "fb1d912c",
   "metadata": {},
   "outputs": [],
   "source": []
  }
 ],
 "metadata": {
  "kernelspec": {
   "display_name": "Python 3 (ipykernel)",
   "language": "python",
   "name": "python3"
  },
  "language_info": {
   "codemirror_mode": {
    "name": "ipython",
    "version": 3
   },
   "file_extension": ".py",
   "mimetype": "text/x-python",
   "name": "python",
   "nbconvert_exporter": "python",
   "pygments_lexer": "ipython3",
   "version": "3.10.4"
  }
 },
 "nbformat": 4,
 "nbformat_minor": 5
}
