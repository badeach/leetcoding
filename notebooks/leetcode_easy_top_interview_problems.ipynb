{
 "cells": [
  {
   "cell_type": "markdown",
   "metadata": {},
   "source": [
    "**[A whole list](https://leetcode.com/problemset/all/?difficulty=EASY&page=1&listId=wpwgkgt)**"
   ]
  },
  {
   "cell_type": "markdown",
   "metadata": {},
   "source": [
    "-----------------\n",
    "**[20. Valid Parentheses](https://leetcode.com/problems/valid-parentheses/)**\n",
    "\n",
    "Given a string s containing just the characters '(', ')', '{', '}', '[' and ']', determine if the input string is valid.\n",
    "\n",
    "An input string is valid if:\n",
    "\n",
    "- Open brackets must be closed by the same type of brackets.\n",
    "- Open brackets must be closed in the correct order."
   ]
  },
  {
   "cell_type": "code",
   "execution_count": 1,
   "metadata": {},
   "outputs": [],
   "source": [
    "from typing import List, Optional"
   ]
  },
  {
   "cell_type": "code",
   "execution_count": 2,
   "metadata": {},
   "outputs": [],
   "source": [
    "def isValid(s: str) -> bool:\n",
    "        \n",
    "    def match(br1, br2):\n",
    "        return (br1 == '(' and br2 == ')') or  \\\n",
    "               (br1 == '[' and br2 == ']')  or \\\n",
    "               (br1 == '{' and br2 == '}') \n",
    "\n",
    "\n",
    "    opens, closes = [], []\n",
    "    for bracket in s:\n",
    "        if bracket in ['(', '[', '{']:\n",
    "            opens.append(bracket)\n",
    "        else:\n",
    "            closes.append(bracket)\n",
    "\n",
    "            if len(opens) and match(opens[-1], closes[-1]):\n",
    "                opens = opens[:-1]\n",
    "                closes = closes[:-1]\n",
    "\n",
    "    return len(opens) == 0 and len(closes) == 0"
   ]
  },
  {
   "cell_type": "code",
   "execution_count": 3,
   "metadata": {},
   "outputs": [],
   "source": [
    "assert isValid(s='()')\n",
    "assert isValid(s=\"()[]{}\")\n",
    "assert isValid(s='({)}') == False\n",
    "assert isValid(s=\"(){}}{\") == False\n",
    "assert isValid(s=')(') == False\n",
    "assert isValid(s=\"[([]])\") == False"
   ]
  },
  {
   "cell_type": "markdown",
   "metadata": {},
   "source": [
    "-----------\n",
    "**[283. Move Zeroes](https://leetcode.com/problems/move-zeroes/)**\n",
    "\n",
    "Given an integer array nums, move all 0's to the end of it while maintaining the relative order of the non-zero elements.\n",
    "\n",
    "Note that you must do this in-place without making a copy of the array."
   ]
  },
  {
   "cell_type": "code",
   "execution_count": 4,
   "metadata": {},
   "outputs": [],
   "source": [
    "def moveZeroes(nums: List[int]) -> None:\n",
    "    \"\"\"\n",
    "    Do not return anything, modify nums in-place instead.\n",
    "    \"\"\"\n",
    "\n",
    "    def swap_with_zero(nums, i, j):\n",
    "\n",
    "        if nums[i] == 0 and nums[j] != 0:\n",
    "            tmp = nums[j]\n",
    "            nums[i] = tmp\n",
    "            nums[j] = 0\n",
    "\n",
    "    if len(nums) <= 1:\n",
    "        pass\n",
    "    else:\n",
    "        running_num_zeroes = 0\n",
    "        \n",
    "        i, j = 0, 1\n",
    "\n",
    "        while j < len(nums):\n",
    "            \n",
    "            if nums[i] != 0:\n",
    "                i += 1\n",
    "                j += 1\n",
    "                continue\n",
    "            else:\n",
    "                running_num_zeroes += 1\n",
    "                if nums[j] == 0:\n",
    "                    i += 1\n",
    "                    j += 1\n",
    "                    continue\n",
    "                else:\n",
    "                    n, m = i, j\n",
    "                    for _ in range(running_num_zeroes):\n",
    "                        swap_with_zero(nums, n, m)\n",
    "                        n -= 1\n",
    "                        m -= 1\n",
    "                i += 1\n",
    "                j += 1\n"
   ]
  },
  {
   "cell_type": "code",
   "execution_count": 5,
   "metadata": {},
   "outputs": [
    {
     "data": {
      "text/plain": [
       "[2, 4, 5, 0, 0, 0, 0, 0, 0, 0]"
      ]
     },
     "execution_count": 5,
     "metadata": {},
     "output_type": "execute_result"
    }
   ],
   "source": [
    "nums = [0, 2, 0, 0, 4, 0, 0, 0, 0, 5]\n",
    "#nums = [0,1,0,3,12]\n",
    "#nums = [0, 0, 1]\n",
    "moveZeroes(nums)\n",
    "nums"
   ]
  },
  {
   "cell_type": "markdown",
   "metadata": {},
   "source": [
    "---\n",
    "**[Maximum subarray](https://leetcode.com/problems/maximum-subarray/)**\n",
    "\n",
    "Given an integer array nums, find the contiguous subarray (containing at least one number) which has the largest sum and return its sum.\n",
    "\n",
    "A subarray is a contiguous part of an array."
   ]
  },
  {
   "cell_type": "markdown",
   "metadata": {},
   "source": [
    "_Kadane's algorithm_"
   ]
  },
  {
   "cell_type": "code",
   "execution_count": 6,
   "metadata": {},
   "outputs": [],
   "source": [
    "def maxSubArray(nums: List[int]) -> int:\n",
    "    for i in range(1, len(nums)):\n",
    "        if nums[i-1] > 0:\n",
    "            nums[i] += nums[i-1]\n",
    "    return max(nums)"
   ]
  },
  {
   "cell_type": "code",
   "execution_count": 7,
   "metadata": {},
   "outputs": [],
   "source": [
    "assert maxSubArray(nums=[-2,1,-3,4,-1,2,1,-5,4]) == 6\n",
    "assert maxSubArray(nums=[-1, -2, -4, -6]) == -1"
   ]
  },
  {
   "cell_type": "code",
   "execution_count": 8,
   "metadata": {},
   "outputs": [],
   "source": [
    "class TreeNode:\n",
    "    def __init__(self, val=0, left=None, right=None):\n",
    "        self.val = val\n",
    "        self.left = left\n",
    "        self.right = right"
   ]
  },
  {
   "cell_type": "code",
   "execution_count": 9,
   "metadata": {},
   "outputs": [],
   "source": [
    "def inorderTraversal(root: Optional[TreeNode]) -> List[int]:\n",
    "        \n",
    "    if not root:\n",
    "        return []\n",
    "        \n",
    "    res = []\n",
    "    if root.left:\n",
    "        res += inorderTraversal(root.left)\n",
    "\n",
    "    res += [root.val]\n",
    "\n",
    "    if root.right:\n",
    "        res += inorderTraversal(root.right)\n",
    "\n",
    "    return res"
   ]
  },
  {
   "cell_type": "code",
   "execution_count": 10,
   "metadata": {},
   "outputs": [],
   "source": [
    "def postorderTraversal(root: Optional[TreeNode]) -> List[int]:\n",
    "        \n",
    "    if not root:\n",
    "        return []\n",
    "        \n",
    "    res = []\n",
    "    if root.left:\n",
    "        res += postorderTraversal(root.left)\n",
    "        \n",
    "    if root.right:\n",
    "        res += postorderTraversal(root.right)\n",
    "\n",
    "    res += [root.val]\n",
    "\n",
    "    \n",
    "\n",
    "    return res"
   ]
  },
  {
   "cell_type": "code",
   "execution_count": 11,
   "metadata": {},
   "outputs": [],
   "source": [
    "def preorderTraversal(root: Optional[TreeNode]) -> List[int]:\n",
    "        \n",
    "    if not root:\n",
    "        return []\n",
    "        \n",
    "    res = [root.val]\n",
    "    if root.left:\n",
    "        res += preorderTraversal(root.left)\n",
    "    if root.right:\n",
    "        res += preorderTraversal(root.right)\n",
    "\n",
    "    return res"
   ]
  },
  {
   "cell_type": "code",
   "execution_count": 12,
   "metadata": {},
   "outputs": [],
   "source": [
    "tree = TreeNode(val=4, left=TreeNode(1), right=TreeNode(1))"
   ]
  },
  {
   "cell_type": "code",
   "execution_count": 13,
   "metadata": {},
   "outputs": [
    {
     "data": {
      "text/plain": [
       "([1, 4, 1], [1, 1, 4], [4, 1, 1])"
      ]
     },
     "execution_count": 13,
     "metadata": {},
     "output_type": "execute_result"
    }
   ],
   "source": [
    "inorderTraversal(tree), postorderTraversal(tree), preorderTraversal(tree)"
   ]
  },
  {
   "cell_type": "markdown",
   "metadata": {},
   "source": [
    "---\n",
    "**[Merge Sorted Array](https://leetcode.com/problems/merge-sorted-array/)**\n",
    "\n",
    "You are given two integer arrays `nums1` and `nums2`, sorted in non-decreasing order, and two integers m and n, representing the number of elements in `nums1` and `nums2` respectively.\n",
    "\n",
    "Merge `nums1` and `nums2` into a single array sorted in non-decreasing order.\n",
    "\n",
    "The final sorted array should not be returned by the function, but instead be stored inside the array `nums1`. To accommodate this, `nums1` has a length of m + n, where the first m elements denote the elements that should be merged, and the last n elements are set to 0 and should be ignored. `nums2` has a length of n.\n"
   ]
  },
  {
   "cell_type": "markdown",
   "metadata": {},
   "source": [
    "_My solution_"
   ]
  },
  {
   "cell_type": "code",
   "execution_count": 14,
   "metadata": {},
   "outputs": [],
   "source": [
    "def merge(nums1: List[int], m: int, nums2: List[int], n: int) -> None:\n",
    "    \"\"\"\n",
    "    Do not return anything, modify nums1 in-place instead.\n",
    "    \"\"\"\n",
    "    if n == 0:\n",
    "        pass\n",
    "    elif m == 0:\n",
    "        for i in range(n):\n",
    "            nums1[i] = nums2[i]\n",
    "    else:\n",
    "        i, j, k = 0, 0, m - 1\n",
    "        while i <= k and j < n:\n",
    "            # if the current element in nums1 is greater than \n",
    "            # the current element in nums2\n",
    "            # we need to shift values in nums1\n",
    "            if nums1[i] > nums2[j]:\n",
    "\n",
    "                for k_ in range(k, i-1, -1):\n",
    "                    nums1[k_ + 1] = nums1[k_]\n",
    "                nums1[i] = nums2[j]\n",
    "\n",
    "                k += 1\n",
    "                j += 1\n",
    "\n",
    "            i += 1\n",
    "\n",
    "        # add leftovers from `nums2`\n",
    "        while i < m + n and j < n:\n",
    "            nums1[i] = nums2[j]\n",
    "            i += 1\n",
    "            j += 1"
   ]
  },
  {
   "cell_type": "code",
   "execution_count": 15,
   "metadata": {},
   "outputs": [],
   "source": [
    "nums1 = [4,5,6,0,0,0]\n",
    "nums2 = [1,2,3]\n",
    "merge(nums1=nums1, m=3, nums2=nums2, n=3)\n",
    "assert nums1 == [1, 2, 3, 4, 5, 6]"
   ]
  },
  {
   "cell_type": "code",
   "execution_count": 16,
   "metadata": {},
   "outputs": [],
   "source": [
    "nums1 = [1,2,3,0,0,0]\n",
    "nums2 = [2,5,6]\n",
    "\n",
    "merge(nums1=nums1, m=3, nums2=nums2, n=3)\n",
    "assert nums1 == [1, 2, 2, 3, 5, 6]"
   ]
  },
  {
   "cell_type": "code",
   "execution_count": 17,
   "metadata": {},
   "outputs": [],
   "source": [
    "nums1 = [0,0,0,0,0]\n",
    "m = 0\n",
    "nums2 = [1,2,3,4,5]\n",
    "n = 5\n",
    "\n",
    "merge(nums1=nums1, m=0, nums2=nums2, n=5)\n",
    "assert nums1 == [1, 2, 3, 4, 5]"
   ]
  },
  {
   "cell_type": "markdown",
   "metadata": {},
   "source": [
    "Complexity:\n",
    "\n",
    " - time: $O(n + m)$\n",
    " - space: $O(1)$"
   ]
  },
  {
   "cell_type": "markdown",
   "metadata": {},
   "source": [
    "_Simpler but heavier solution_"
   ]
  },
  {
   "cell_type": "code",
   "execution_count": 18,
   "metadata": {},
   "outputs": [],
   "source": [
    "def merge(nums1: List[int], m: int, nums2: List[int], n: int) -> None:\n",
    "    \"\"\"\n",
    "    Do not return anything, modify nums1 in-place instead.\n",
    "    \"\"\"\n",
    "    # Write the elements of num2 into the end of nums1.\n",
    "    for i in range(n):\n",
    "        nums1[i + m] = nums2[i]\n",
    "\n",
    "    # Sort nums1 list in-place.\n",
    "    nums1.sort()"
   ]
  },
  {
   "cell_type": "markdown",
   "metadata": {},
   "source": [
    "Complexity:\n",
    "\n",
    " - time: $O((n + m)\\log(n+m))$\n",
    " - space: $O(n)$"
   ]
  },
  {
   "cell_type": "markdown",
   "metadata": {},
   "source": [
    "_Nicer code_"
   ]
  },
  {
   "cell_type": "code",
   "execution_count": 19,
   "metadata": {},
   "outputs": [],
   "source": [
    "def merge(nums1: List[int], m: int, nums2: List[int], n: int) -> None:\n",
    "    \"\"\"\n",
    "    Do not return anything, modify nums1 in-place instead.\n",
    "    \"\"\"\n",
    "\n",
    "    # Set p1 and p2 to point to the end of their respective arrays.\n",
    "    p1 = m - 1\n",
    "    p2 = n - 1\n",
    "\n",
    "    # And move p backwards through the array, each time writing\n",
    "    # the smallest value pointed at by p1 or p2.\n",
    "    for p in range(n + m - 1, -1, -1):\n",
    "        if p2 < 0:\n",
    "            break\n",
    "        if p1 >= 0 and nums1[p1] > nums2[p2]:\n",
    "            nums1[p] = nums1[p1]\n",
    "            p1 -= 1\n",
    "        else:\n",
    "            nums1[p] = nums2[p2]\n",
    "            p2 -= 1"
   ]
  },
  {
   "cell_type": "markdown",
   "metadata": {},
   "source": [
    "---\n",
    "**[141. Linked List Cycle](https://leetcode.com/problems/linked-list-cycle/)**\n",
    "\n",
    "Given head, the head of a linked list, determine if the linked list has a cycle in it.\n",
    "\n",
    "There is a cycle in a linked list if there is some node in the list that can be reached again by continuously following the next pointer. Internally, `pos` is used to denote the index of the node that tail's next pointer is connected to. Note that `pos` is not passed as a parameter.\n",
    "\n",
    "Return true if there is a cycle in the linked list. Otherwise, return false."
   ]
  },
  {
   "cell_type": "code",
   "execution_count": 20,
   "metadata": {},
   "outputs": [],
   "source": [
    "class ListNode:\n",
    "    def __init__(self, x):\n",
    "        self.val = x\n",
    "        self.next = None"
   ]
  },
  {
   "cell_type": "code",
   "execution_count": 21,
   "metadata": {},
   "outputs": [],
   "source": [
    "def hasCycle(head: Optional[ListNode]) -> bool:\n",
    "        \n",
    "    visited = set([])\n",
    "\n",
    "    if not head or not head.next:\n",
    "        return False\n",
    "\n",
    "    while head.next not in visited:\n",
    "        visited.add(head)\n",
    "        head = head.next\n",
    "\n",
    "        if not head.next:\n",
    "            return False\n",
    "\n",
    "    return True     "
   ]
  },
  {
   "cell_type": "markdown",
   "metadata": {},
   "source": [
    "---\n",
    "**[160. Intersection of Two Linked Lists](https://leetcode.com/problems/intersection-of-two-linked-lists/)**\n",
    "\n",
    "Given the heads of two singly linked-lists headA and headB, return the node at which the two lists intersect. If the two linked lists have no intersection at all, return null.\n",
    "\n",
    "For example, the following two linked lists begin to intersect at node c1:"
   ]
  },
  {
   "cell_type": "code",
   "execution_count": 22,
   "metadata": {},
   "outputs": [],
   "source": [
    "def getIntersectionNode(headA: ListNode, headB: ListNode) -> Optional[ListNode]:  \n",
    "        \n",
    "    visited_b = set([])\n",
    "\n",
    "    while headB:\n",
    "        visited_b.add(headB)\n",
    "        headB = headB.next\n",
    "\n",
    "    while headA:\n",
    "        if headA in visited_b:\n",
    "            return headA\n",
    "        headA = headA.next\n",
    "\n",
    "    return None"
   ]
  },
  {
   "cell_type": "markdown",
   "metadata": {},
   "source": [
    "---\n",
    "**[118. Pascal's Triangle](https://leetcode.com/problems/pascals-triangle/)**\n",
    "\n",
    "Given an integer numRows, return the first numRows of Pascal's triangle.\n",
    "\n",
    "In Pascal's triangle, each number is the sum of the two numbers directly above it as shown:"
   ]
  },
  {
   "cell_type": "code",
   "execution_count": 23,
   "metadata": {},
   "outputs": [],
   "source": [
    "def generate(numRows: int) -> List[List[int]]:\n",
    "\n",
    "\n",
    "    if numRows == 1:\n",
    "        return [[1]]\n",
    "\n",
    "    result = generate(numRows - 1)\n",
    "    last_line = result[-1]\n",
    "\n",
    "    new_line = [1]\n",
    "\n",
    "    for i in range(numRows - 2):\n",
    "        new_line.append(last_line[i] + last_line[i + 1])\n",
    "    new_line.append(1)\n",
    "\n",
    "    result.append(new_line)\n",
    "\n",
    "    return result"
   ]
  },
  {
   "cell_type": "code",
   "execution_count": 24,
   "metadata": {},
   "outputs": [],
   "source": [
    "assert generate(5) == [[1],[1,1],[1,2,1],[1,3,3,1],[1,4,6,4,1]]"
   ]
  },
  {
   "cell_type": "markdown",
   "metadata": {},
   "source": [
    "---\n",
    "**[136. Single Number](https://leetcode.com/problems/single-number/)**\n",
    "\n",
    "Given a non-empty array of integers nums, every element appears twice except for one. Find that single one.\n",
    "\n",
    "You must implement a solution with a linear runtime complexity and use only constant extra space."
   ]
  },
  {
   "cell_type": "code",
   "execution_count": 25,
   "metadata": {},
   "outputs": [],
   "source": [
    "from collections import Counter\n",
    "def singleNumber(nums: List[int]) -> int:\n",
    "\n",
    "    counts = Counter(nums)\n",
    "\n",
    "    for num, freq in counts.items():\n",
    "        if freq == 1:\n",
    "            return num"
   ]
  },
  {
   "cell_type": "code",
   "execution_count": 26,
   "metadata": {},
   "outputs": [],
   "source": [
    "assert singleNumber(nums=[2,2,1]) == 1"
   ]
  },
  {
   "cell_type": "markdown",
   "metadata": {},
   "source": [
    "Complexity:\n",
    "\n",
    " - time: $O(n)$\n",
    " - space: $O(n)$"
   ]
  },
  {
   "cell_type": "markdown",
   "metadata": {},
   "source": [
    "Nicer"
   ]
  },
  {
   "cell_type": "code",
   "execution_count": 27,
   "metadata": {},
   "outputs": [],
   "source": [
    "def singleNumber(nums):\n",
    "    \"\"\"\n",
    "    :type nums: List[int]\n",
    "    :rtype: int\n",
    "    \"\"\"\n",
    "    return 2 * sum(set(nums)) - sum(nums)"
   ]
  },
  {
   "cell_type": "code",
   "execution_count": 28,
   "metadata": {},
   "outputs": [],
   "source": [
    "assert singleNumber(nums=[2,2,1]) == 1"
   ]
  },
  {
   "cell_type": "markdown",
   "metadata": {},
   "source": [
    "Complexity:\n",
    "\n",
    " - time: $O(n)$\n",
    " - space: $O(n)$"
   ]
  },
  {
   "cell_type": "markdown",
   "metadata": {},
   "source": [
    "Even nicer"
   ]
  },
  {
   "cell_type": "markdown",
   "metadata": {},
   "source": [
    "$$a \\oplus  0 = a$$\n",
    "$$a \\oplus  a = 0$$\n",
    "\n",
    "$$a \\oplus  b \\oplus a = (a \\oplus  a) \\oplus b = 0 \\oplus b = b$$"
   ]
  },
  {
   "cell_type": "code",
   "execution_count": 29,
   "metadata": {},
   "outputs": [],
   "source": [
    "def singleNumber(nums):\n",
    "    \"\"\"\n",
    "    :type nums: List[int]\n",
    "    :rtype: int\n",
    "    \"\"\"\n",
    "    a = 0\n",
    "    for i in nums:\n",
    "        a ^= i\n",
    "    return a"
   ]
  },
  {
   "cell_type": "code",
   "execution_count": 30,
   "metadata": {},
   "outputs": [],
   "source": [
    "assert singleNumber(nums=[2,2,1]) == 1"
   ]
  },
  {
   "cell_type": "markdown",
   "metadata": {},
   "source": [
    "Complexity:\n",
    "\n",
    " - time: $O(n)$\n",
    " - space: $O(1)$"
   ]
  },
  {
   "cell_type": "code",
   "execution_count": 31,
   "metadata": {},
   "outputs": [],
   "source": [
    "def isHappy(n: int) -> bool:\n",
    "        \n",
    "    res = n\n",
    "    i = 0\n",
    "    \n",
    "    results = set([])\n",
    "    \n",
    "    while res != 1:\n",
    "        \n",
    "        res = sum_squared_digits(res)\n",
    "        \n",
    "        if res in results:\n",
    "            return False\n",
    "        \n",
    "        results.add(res)\n",
    "       \n",
    "\n",
    "    return True\n",
    "\n",
    "\n",
    "def sum_squared_digits(n: int) -> int:\n",
    "    res = 0\n",
    "\n",
    "    for s in str(n):\n",
    "        res += int(s) ** 2\n",
    "\n",
    "    return res"
   ]
  },
  {
   "cell_type": "code",
   "execution_count": 32,
   "metadata": {},
   "outputs": [
    {
     "data": {
      "text/plain": [
       "True"
      ]
     },
     "execution_count": 32,
     "metadata": {},
     "output_type": "execute_result"
    }
   ],
   "source": [
    "isHappy(19)"
   ]
  },
  {
   "cell_type": "markdown",
   "metadata": {},
   "source": [
    "---\n",
    "\n",
    "**[104. Maximum Depth of Binary Tree](https://leetcode.com/problems/maximum-depth-of-binary-tree/)**\n",
    "\n",
    "Given the root of a binary tree, return its maximum depth.\n",
    "\n",
    "A binary tree's maximum depth is the number of nodes along the longest path from the root node down to the farthest leaf node."
   ]
  },
  {
   "cell_type": "markdown",
   "metadata": {},
   "source": [
    "_Iterative approach_"
   ]
  },
  {
   "cell_type": "code",
   "execution_count": 34,
   "metadata": {},
   "outputs": [],
   "source": [
    "class TreeNode:\n",
    "    def __init__(self, val=0, left=None, right=None):\n",
    "        self.val = val\n",
    "        self.left = left\n",
    "        self.right = right"
   ]
  },
  {
   "cell_type": "code",
   "execution_count": 35,
   "metadata": {},
   "outputs": [],
   "source": [
    "def maxDepth(root: Optional[TreeNode]) -> int:\n",
    "\n",
    "    if not root:\n",
    "        return 0\n",
    "\n",
    "    visited = [[root.val]]\n",
    "    queue = [[root]]\n",
    "\n",
    "    level = 0\n",
    "\n",
    "    while 1:\n",
    "\n",
    "        curr_visited = []\n",
    "        curr_queue = []\n",
    "\n",
    "        for node in queue[level]:\n",
    "            if node.left:\n",
    "                curr_queue.append(node.left)\n",
    "                curr_visited.append(node.left.val)\n",
    "            if node.right:\n",
    "                curr_queue.append(node.right)\n",
    "                curr_visited.append(node.right.val)\n",
    "\n",
    "        if curr_queue:\n",
    "            visited.append(curr_visited)\n",
    "            queue.append(curr_queue)\n",
    "            level += 1\n",
    "        else:\n",
    "            break\n",
    "\n",
    "    return level + 1"
   ]
  },
  {
   "cell_type": "markdown",
   "metadata": {},
   "source": [
    "_Elegant recursive solution_"
   ]
  },
  {
   "cell_type": "code",
   "execution_count": 36,
   "metadata": {},
   "outputs": [],
   "source": [
    "def maxDepth(root: Optional[TreeNode]) -> int:\n",
    "\n",
    "    if not root:\n",
    "        return 0\n",
    "\n",
    "    depth = 1 + max(maxDepth(root.left), maxDepth(root.right))\n",
    "\n",
    "    return depth"
   ]
  },
  {
   "cell_type": "code",
   "execution_count": 14,
   "metadata": {},
   "outputs": [],
   "source": [
    "def isInterleave(s1: str, s2: str, s3: str) -> bool:\n",
    "\n",
    "    if s1 == \"\":\n",
    "        return s2 == s3\n",
    "    elif s2 == \"\":\n",
    "        return s1 == s3\n",
    "\n",
    "    if len(s3) != len(s1) + len(s2):\n",
    "        return False\n",
    "\n",
    "    options = []\n",
    "\n",
    "    if s3[0] == s1[0]:\n",
    "        options.append([0])\n",
    "    if s3[0] == s2[0]:\n",
    "        options.append([1])\n",
    "\n",
    "    for i in range(1, len(s3)):\n",
    "        \n",
    "        new_options = []\n",
    "\n",
    "        for option in options:\n",
    "            num_zeroes = sum([1 for el in option if el == 0])\n",
    "            num_ones = len(option) - num_zeroes\n",
    "\n",
    "            if num_zeroes < len(s1) and s1[num_zeroes] == s3[i]:\n",
    "                new_options.append(option + [0])\n",
    "            if num_ones < len(s2) and s2[num_ones] == s3[i]:\n",
    "                new_options.append(option + [1])\n",
    "                \n",
    "            options = new_options\n",
    "        \n",
    "\n",
    "    return options != []     "
   ]
  },
  {
   "cell_type": "code",
   "execution_count": 15,
   "metadata": {},
   "outputs": [
    {
     "data": {
      "text/plain": [
       "True"
      ]
     },
     "execution_count": 15,
     "metadata": {},
     "output_type": "execute_result"
    }
   ],
   "source": [
    "isInterleave(s1 = \"aabcc\", s2 = \"dbbca\", s3 = \"aadbbcbcac\")"
   ]
  },
  {
   "cell_type": "code",
   "execution_count": 18,
   "metadata": {},
   "outputs": [],
   "source": [
    "def isInterleave(s1: str, s2: str, s3: str) -> bool:\n",
    "\n",
    "    if s1 == \"\":\n",
    "        return s2 == s3\n",
    "    elif s2 == \"\":\n",
    "        return s1 == s3\n",
    "\n",
    "    if len(s3) != len(s1) + len(s2):\n",
    "        return False\n",
    "\n",
    "    options = []\n",
    "\n",
    "    if s3[0] == s1[0]:\n",
    "        options.append([1, 0])\n",
    "    if s3[0] == s2[0]:\n",
    "        options.append([0, 1])\n",
    "\n",
    "    for i in range(1, len(s3)):\n",
    "        \n",
    "        new_options = []\n",
    "\n",
    "        for option in options:\n",
    "#             num_zeroes = sum([1 for el in option if el == 0])\n",
    "#             num_ones = len(option) - num_zeroes\n",
    "\n",
    "            num_zeroes, num_ones = option\n",
    "\n",
    "            if num_zeroes < len(s1) and s1[num_zeroes] == s3[i]:\n",
    "                new_options.append([num_zeroes + 1, num_ones])\n",
    "            if num_ones < len(s2) and s2[num_ones] == s3[i]:\n",
    "                new_options.append([num_zeroes, num_ones + 1])\n",
    "                \n",
    "            options = new_options\n",
    "        \n",
    "\n",
    "    return options != []     "
   ]
  },
  {
   "cell_type": "code",
   "execution_count": 19,
   "metadata": {},
   "outputs": [
    {
     "data": {
      "text/plain": [
       "True"
      ]
     },
     "execution_count": 19,
     "metadata": {},
     "output_type": "execute_result"
    }
   ],
   "source": [
    "isInterleave(s1 = \"aabcc\", s2 = \"dbbca\", s3 = \"aadbbcbcac\")"
   ]
  },
  {
   "cell_type": "code",
   "execution_count": null,
   "metadata": {},
   "outputs": [],
   "source": []
  }
 ],
 "metadata": {
  "kernelspec": {
   "display_name": "Python 3 (ipykernel)",
   "language": "python",
   "name": "python3"
  },
  "language_info": {
   "codemirror_mode": {
    "name": "ipython",
    "version": 3
   },
   "file_extension": ".py",
   "mimetype": "text/x-python",
   "name": "python",
   "nbconvert_exporter": "python",
   "pygments_lexer": "ipython3",
   "version": "3.10.4"
  }
 },
 "nbformat": 4,
 "nbformat_minor": 4
}
