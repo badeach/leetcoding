{
 "cells": [
  {
   "cell_type": "markdown",
   "metadata": {},
   "source": [
    "**[A whole list](https://leetcode.com/problemset/all/?difficulty=EASY&page=1&listId=wpwgkgt)**"
   ]
  },
  {
   "cell_type": "markdown",
   "metadata": {},
   "source": [
    "-----------------\n",
    "**[20. Valid Parentheses](https://leetcode.com/problems/valid-parentheses/)**\n",
    "\n",
    "Given a string s containing just the characters '(', ')', '{', '}', '[' and ']', determine if the input string is valid.\n",
    "\n",
    "An input string is valid if:\n",
    "\n",
    "- Open brackets must be closed by the same type of brackets.\n",
    "- Open brackets must be closed in the correct order."
   ]
  },
  {
   "cell_type": "code",
   "execution_count": 1,
   "metadata": {},
   "outputs": [],
   "source": [
    "from typing import List, Optional"
   ]
  },
  {
   "cell_type": "code",
   "execution_count": 2,
   "metadata": {},
   "outputs": [],
   "source": [
    "def isValid(s: str) -> bool:\n",
    "        \n",
    "    def match(br1, br2):\n",
    "        return (br1 == '(' and br2 == ')') or  \\\n",
    "               (br1 == '[' and br2 == ']')  or \\\n",
    "               (br1 == '{' and br2 == '}') \n",
    "\n",
    "\n",
    "    opens, closes = [], []\n",
    "    for bracket in s:\n",
    "        if bracket in ['(', '[', '{']:\n",
    "            opens.append(bracket)\n",
    "        else:\n",
    "            closes.append(bracket)\n",
    "\n",
    "            if len(opens) and match(opens[-1], closes[-1]):\n",
    "                opens = opens[:-1]\n",
    "                closes = closes[:-1]\n",
    "\n",
    "    return len(opens) == 0 and len(closes) == 0"
   ]
  },
  {
   "cell_type": "code",
   "execution_count": 3,
   "metadata": {},
   "outputs": [],
   "source": [
    "assert isValid(s='()')\n",
    "assert isValid(s=\"()[]{}\")\n",
    "assert isValid(s='({)}') == False\n",
    "assert isValid(s=\"(){}}{\") == False\n",
    "assert isValid(s=')(') == False\n",
    "assert isValid(s=\"[([]])\") == False"
   ]
  },
  {
   "cell_type": "markdown",
   "metadata": {},
   "source": [
    "-----------\n",
    "**[283. Move Zeroes](https://leetcode.com/problems/move-zeroes/)**\n",
    "\n",
    "Given an integer array nums, move all 0's to the end of it while maintaining the relative order of the non-zero elements.\n",
    "\n",
    "Note that you must do this in-place without making a copy of the array."
   ]
  },
  {
   "cell_type": "code",
   "execution_count": 4,
   "metadata": {},
   "outputs": [],
   "source": [
    "def moveZeroes(nums: List[int]) -> None:\n",
    "    \"\"\"\n",
    "    Do not return anything, modify nums in-place instead.\n",
    "    \"\"\"\n",
    "\n",
    "    def swap_with_zero(nums, i, j):\n",
    "\n",
    "        if nums[i] == 0 and nums[j] != 0:\n",
    "            tmp = nums[j]\n",
    "            nums[i] = tmp\n",
    "            nums[j] = 0\n",
    "\n",
    "    if len(nums) <= 1:\n",
    "        pass\n",
    "    else:\n",
    "        running_num_zeroes = 0\n",
    "        \n",
    "        i, j = 0, 1\n",
    "\n",
    "        while j < len(nums):\n",
    "            \n",
    "            if nums[i] != 0:\n",
    "                i += 1\n",
    "                j += 1\n",
    "                continue\n",
    "            else:\n",
    "                running_num_zeroes += 1\n",
    "                if nums[j] == 0:\n",
    "                    i += 1\n",
    "                    j += 1\n",
    "                    continue\n",
    "                else:\n",
    "                    n, m = i, j\n",
    "                    for _ in range(running_num_zeroes):\n",
    "                        swap_with_zero(nums, n, m)\n",
    "                        n -= 1\n",
    "                        m -= 1\n",
    "                i += 1\n",
    "                j += 1\n"
   ]
  },
  {
   "cell_type": "code",
   "execution_count": 5,
   "metadata": {},
   "outputs": [
    {
     "data": {
      "text/plain": [
       "[2, 4, 5, 0, 0, 0, 0, 0, 0, 0]"
      ]
     },
     "execution_count": 5,
     "metadata": {},
     "output_type": "execute_result"
    }
   ],
   "source": [
    "nums = [0, 2, 0, 0, 4, 0, 0, 0, 0, 5]\n",
    "#nums = [0,1,0,3,12]\n",
    "#nums = [0, 0, 1]\n",
    "moveZeroes(nums)\n",
    "nums"
   ]
  },
  {
   "cell_type": "markdown",
   "metadata": {},
   "source": [
    "---\n",
    "**[Maximum subarray](https://leetcode.com/problems/maximum-subarray/)**\n",
    "\n",
    "Given an integer array nums, find the contiguous subarray (containing at least one number) which has the largest sum and return its sum.\n",
    "\n",
    "A subarray is a contiguous part of an array."
   ]
  },
  {
   "cell_type": "markdown",
   "metadata": {},
   "source": [
    "_Kadane's algorithm_"
   ]
  },
  {
   "cell_type": "code",
   "execution_count": 6,
   "metadata": {},
   "outputs": [],
   "source": [
    "def maxSubArray(nums: List[int]) -> int:\n",
    "    for i in range(1, len(nums)):\n",
    "        if nums[i-1] > 0:\n",
    "            nums[i] += nums[i-1]\n",
    "    return max(nums)"
   ]
  },
  {
   "cell_type": "code",
   "execution_count": 7,
   "metadata": {},
   "outputs": [],
   "source": [
    "assert maxSubArray(nums=[-2,1,-3,4,-1,2,1,-5,4]) == 6\n",
    "assert maxSubArray(nums=[-1, -2, -4, -6]) == -1"
   ]
  },
  {
   "cell_type": "code",
   "execution_count": 8,
   "metadata": {},
   "outputs": [],
   "source": [
    "class TreeNode:\n",
    "    def __init__(self, val=0, left=None, right=None):\n",
    "        self.val = val\n",
    "        self.left = left\n",
    "        self.right = right"
   ]
  },
  {
   "cell_type": "code",
   "execution_count": 9,
   "metadata": {},
   "outputs": [],
   "source": [
    "def inorderTraversal(root: Optional[TreeNode]) -> List[int]:\n",
    "        \n",
    "    if not root:\n",
    "        return []\n",
    "        \n",
    "    res = []\n",
    "    if root.left:\n",
    "        res += inorderTraversal(root.left)\n",
    "\n",
    "    res += [root.val]\n",
    "\n",
    "    if root.right:\n",
    "        res += inorderTraversal(root.right)\n",
    "\n",
    "    return res"
   ]
  },
  {
   "cell_type": "code",
   "execution_count": 10,
   "metadata": {},
   "outputs": [],
   "source": [
    "def postorderTraversal(root: Optional[TreeNode]) -> List[int]:\n",
    "        \n",
    "    if not root:\n",
    "        return []\n",
    "        \n",
    "    res = []\n",
    "    if root.left:\n",
    "        res += postorderTraversal(root.left)\n",
    "        \n",
    "    if root.right:\n",
    "        res += postorderTraversal(root.right)\n",
    "\n",
    "    res += [root.val]\n",
    "\n",
    "    \n",
    "\n",
    "    return res"
   ]
  },
  {
   "cell_type": "code",
   "execution_count": 11,
   "metadata": {},
   "outputs": [],
   "source": [
    "def preorderTraversal(root: Optional[TreeNode]) -> List[int]:\n",
    "        \n",
    "    if not root:\n",
    "        return []\n",
    "        \n",
    "    res = [root.val]\n",
    "    if root.left:\n",
    "        res += preorderTraversal(root.left)\n",
    "    if root.right:\n",
    "        res += preorderTraversal(root.right)\n",
    "\n",
    "    return res"
   ]
  },
  {
   "cell_type": "code",
   "execution_count": 12,
   "metadata": {},
   "outputs": [],
   "source": [
    "tree = TreeNode(val=4, left=TreeNode(1), right=TreeNode(1))"
   ]
  },
  {
   "cell_type": "code",
   "execution_count": 13,
   "metadata": {},
   "outputs": [
    {
     "data": {
      "text/plain": [
       "([1, 4, 1], [1, 1, 4], [4, 1, 1])"
      ]
     },
     "execution_count": 13,
     "metadata": {},
     "output_type": "execute_result"
    }
   ],
   "source": [
    "inorderTraversal(tree), postorderTraversal(tree), preorderTraversal(tree)"
   ]
  },
  {
   "cell_type": "markdown",
   "metadata": {},
   "source": [
    "---\n",
    "**[Merge Sorted Array](https://leetcode.com/problems/merge-sorted-array/)**\n",
    "\n",
    "You are given two integer arrays `nums1` and `nums2`, sorted in non-decreasing order, and two integers m and n, representing the number of elements in `nums1` and `nums2` respectively.\n",
    "\n",
    "Merge `nums1` and `nums2` into a single array sorted in non-decreasing order.\n",
    "\n",
    "The final sorted array should not be returned by the function, but instead be stored inside the array `nums1`. To accommodate this, `nums1` has a length of m + n, where the first m elements denote the elements that should be merged, and the last n elements are set to 0 and should be ignored. `nums2` has a length of n.\n"
   ]
  },
  {
   "cell_type": "markdown",
   "metadata": {},
   "source": [
    "_My solution_"
   ]
  },
  {
   "cell_type": "code",
   "execution_count": 14,
   "metadata": {},
   "outputs": [],
   "source": [
    "def merge(nums1: List[int], m: int, nums2: List[int], n: int) -> None:\n",
    "    \"\"\"\n",
    "    Do not return anything, modify nums1 in-place instead.\n",
    "    \"\"\"\n",
    "    if n == 0:\n",
    "        pass\n",
    "    elif m == 0:\n",
    "        for i in range(n):\n",
    "            nums1[i] = nums2[i]\n",
    "    else:\n",
    "        i, j, k = 0, 0, m - 1\n",
    "        while i <= k and j < n:\n",
    "            # if the current element in nums1 is greater than \n",
    "            # the current element in nums2\n",
    "            # we need to shift values in nums1\n",
    "            if nums1[i] > nums2[j]:\n",
    "\n",
    "                for k_ in range(k, i-1, -1):\n",
    "                    nums1[k_ + 1] = nums1[k_]\n",
    "                nums1[i] = nums2[j]\n",
    "\n",
    "                k += 1\n",
    "                j += 1\n",
    "\n",
    "            i += 1\n",
    "\n",
    "        # add leftovers from `nums2`\n",
    "        while i < m + n and j < n:\n",
    "            nums1[i] = nums2[j]\n",
    "            i += 1\n",
    "            j += 1"
   ]
  },
  {
   "cell_type": "code",
   "execution_count": 20,
   "metadata": {},
   "outputs": [],
   "source": [
    "nums1 = [4,5,6,0,0,0]\n",
    "nums2 = [1,2,3]\n",
    "merge(nums1=nums1, m=3, nums2=nums2, n=3)\n",
    "assert nums1 == [1, 2, 3, 4, 5, 6]"
   ]
  },
  {
   "cell_type": "code",
   "execution_count": 21,
   "metadata": {},
   "outputs": [],
   "source": [
    "nums1 = [1,2,3,0,0,0]\n",
    "nums2 = [2,5,6]\n",
    "\n",
    "merge(nums1=nums1, m=3, nums2=nums2, n=3)\n",
    "assert nums1 == [1, 2, 2, 3, 5, 6]"
   ]
  },
  {
   "cell_type": "code",
   "execution_count": 22,
   "metadata": {},
   "outputs": [],
   "source": [
    "nums1 = [0,0,0,0,0]\n",
    "m = 0\n",
    "nums2 = [1,2,3,4,5]\n",
    "n = 5\n",
    "\n",
    "merge(nums1=nums1, m=0, nums2=nums2, n=5)\n",
    "assert nums1 == [1, 2, 3, 4, 5]"
   ]
  },
  {
   "cell_type": "markdown",
   "metadata": {},
   "source": [
    "Complexity:\n",
    "\n",
    " - time: $O(n + m)$\n",
    " - space: $O(1)$"
   ]
  },
  {
   "cell_type": "markdown",
   "metadata": {},
   "source": [
    "_Simpler but heavier solution_"
   ]
  },
  {
   "cell_type": "code",
   "execution_count": 19,
   "metadata": {},
   "outputs": [],
   "source": [
    "def merge(nums1: List[int], m: int, nums2: List[int], n: int) -> None:\n",
    "    \"\"\"\n",
    "    Do not return anything, modify nums1 in-place instead.\n",
    "    \"\"\"\n",
    "    # Write the elements of num2 into the end of nums1.\n",
    "    for i in range(n):\n",
    "        nums1[i + m] = nums2[i]\n",
    "\n",
    "    # Sort nums1 list in-place.\n",
    "    nums1.sort()"
   ]
  },
  {
   "cell_type": "markdown",
   "metadata": {},
   "source": [
    "Complexity:\n",
    "\n",
    " - time: $O((n + m)\\log(n+m))$\n",
    " - space: $O(n)$"
   ]
  },
  {
   "cell_type": "markdown",
   "metadata": {},
   "source": [
    "_Nicer code_"
   ]
  },
  {
   "cell_type": "code",
   "execution_count": 23,
   "metadata": {},
   "outputs": [],
   "source": [
    "def merge(nums1: List[int], m: int, nums2: List[int], n: int) -> None:\n",
    "    \"\"\"\n",
    "    Do not return anything, modify nums1 in-place instead.\n",
    "    \"\"\"\n",
    "\n",
    "    # Set p1 and p2 to point to the end of their respective arrays.\n",
    "    p1 = m - 1\n",
    "    p2 = n - 1\n",
    "\n",
    "    # And move p backwards through the array, each time writing\n",
    "    # the smallest value pointed at by p1 or p2.\n",
    "    for p in range(n + m - 1, -1, -1):\n",
    "        if p2 < 0:\n",
    "            break\n",
    "        if p1 >= 0 and nums1[p1] > nums2[p2]:\n",
    "            nums1[p] = nums1[p1]\n",
    "            p1 -= 1\n",
    "        else:\n",
    "            nums1[p] = nums2[p2]\n",
    "            p2 -= 1"
   ]
  },
  {
   "cell_type": "markdown",
   "metadata": {},
   "source": [
    "---\n",
    "**[141. Linked List Cycle](https://leetcode.com/problems/linked-list-cycle/)**\n",
    "\n",
    "Given head, the head of a linked list, determine if the linked list has a cycle in it.\n",
    "\n",
    "There is a cycle in a linked list if there is some node in the list that can be reached again by continuously following the next pointer. Internally, `pos` is used to denote the index of the node that tail's next pointer is connected to. Note that `pos` is not passed as a parameter.\n",
    "\n",
    "Return true if there is a cycle in the linked list. Otherwise, return false."
   ]
  },
  {
   "cell_type": "code",
   "execution_count": 16,
   "metadata": {},
   "outputs": [],
   "source": [
    "class ListNode:\n",
    "    def __init__(self, x):\n",
    "        self.val = x\n",
    "        self.next = None"
   ]
  },
  {
   "cell_type": "code",
   "execution_count": 17,
   "metadata": {},
   "outputs": [],
   "source": [
    "def hasCycle(head: Optional[ListNode]) -> bool:\n",
    "        \n",
    "    visited = set([])\n",
    "\n",
    "    if not head or not head.next:\n",
    "        return False\n",
    "\n",
    "    while head.next not in visited:\n",
    "        visited.add(head)\n",
    "        head = head.next\n",
    "\n",
    "        if not head.next:\n",
    "            return False\n",
    "\n",
    "    return True     "
   ]
  },
  {
   "cell_type": "markdown",
   "metadata": {},
   "source": [
    "---\n",
    "**[160. Intersection of Two Linked Lists](https://leetcode.com/problems/intersection-of-two-linked-lists/)**\n",
    "\n",
    "Given the heads of two singly linked-lists headA and headB, return the node at which the two lists intersect. If the two linked lists have no intersection at all, return null.\n",
    "\n",
    "For example, the following two linked lists begin to intersect at node c1:"
   ]
  },
  {
   "cell_type": "code",
   "execution_count": 18,
   "metadata": {},
   "outputs": [],
   "source": [
    "def getIntersectionNode(headA: ListNode, headB: ListNode) -> Optional[ListNode]:  \n",
    "        \n",
    "    visited_b = set([])\n",
    "\n",
    "    while headB:\n",
    "        visited_b.add(headB)\n",
    "        headB = headB.next\n",
    "\n",
    "    while headA:\n",
    "        if headA in visited_b:\n",
    "            return headA\n",
    "        headA = headA.next\n",
    "\n",
    "    return None"
   ]
  },
  {
   "cell_type": "code",
   "execution_count": null,
   "metadata": {},
   "outputs": [],
   "source": []
  }
 ],
 "metadata": {
  "kernelspec": {
   "display_name": "Python 3 (ipykernel)",
   "language": "python",
   "name": "python3"
  },
  "language_info": {
   "codemirror_mode": {
    "name": "ipython",
    "version": 3
   },
   "file_extension": ".py",
   "mimetype": "text/x-python",
   "name": "python",
   "nbconvert_exporter": "python",
   "pygments_lexer": "ipython3",
   "version": "3.10.4"
  }
 },
 "nbformat": 4,
 "nbformat_minor": 4
}
