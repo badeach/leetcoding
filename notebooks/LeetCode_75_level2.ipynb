{
 "cells": [
  {
   "cell_type": "markdown",
   "id": "ca117338",
   "metadata": {},
   "source": [
    "# [Study Plan](https://leetcode.com/study-plan/leetcode-75/?progress=1s29d85)"
   ]
  },
  {
   "cell_type": "code",
   "execution_count": 1,
   "id": "a2895d8d",
   "metadata": {},
   "outputs": [],
   "source": [
    "from collections import Counter\n",
    "from typing import List, Dict, Tuple, Any, Callable, Optional"
   ]
  },
  {
   "cell_type": "markdown",
   "id": "4a0accf2",
   "metadata": {},
   "source": [
    "---\n",
    "## Day 1\n",
    "\n",
    "**[202. Happy Number](https://leetcode.com/problems/happy-number/)**\n",
    "\n",
    "Write an algorithm to determine if a number n is happy.\n",
    "\n",
    "A happy number is a number defined by the following process:\n",
    "\n",
    "Starting with any positive integer, replace the number by the sum of the squares of its digits.\n",
    "Repeat the process until the number equals 1 (where it will stay), or it loops endlessly in a cycle which does not include 1.\n",
    "Those numbers for which this process ends in 1 are happy.\n",
    "Return true if n is a happy number, and false if not."
   ]
  },
  {
   "cell_type": "code",
   "execution_count": 2,
   "id": "9b2774c9",
   "metadata": {},
   "outputs": [],
   "source": [
    "def isHappy(n: int) -> bool:\n",
    "\n",
    "    res = n\n",
    "    results = set([])\n",
    "\n",
    "    while res != 1:\n",
    "\n",
    "        res = sum_squared_digits(res)\n",
    "\n",
    "        if res in results:\n",
    "            return False\n",
    "\n",
    "        results.add(res)   \n",
    "\n",
    "    return True\n",
    "\n",
    "def sum_squared_digits(n: int) -> int:\n",
    "    res = 0\n",
    "\n",
    "    for s in str(n):\n",
    "        res += int(s) ** 2\n",
    "\n",
    "    return res"
   ]
  },
  {
   "cell_type": "code",
   "execution_count": 3,
   "id": "2d63c7c1",
   "metadata": {},
   "outputs": [],
   "source": [
    "assert isHappy(n=19)\n",
    "assert isHappy(n=2) == False"
   ]
  },
  {
   "cell_type": "markdown",
   "id": "f84a8861",
   "metadata": {},
   "source": [
    "---\n",
    "**[54. Spiral Matrix](https://leetcode.com/problems/spiral-matrix/)**\n",
    "\n",
    "Given an `m x n` matrix, return all elements of the matrix in spiral order."
   ]
  },
  {
   "cell_type": "code",
   "execution_count": 4,
   "id": "30b045d2",
   "metadata": {},
   "outputs": [],
   "source": [
    "def spiralOrder(matrix: List[List[int]]) -> List[int]:\n",
    "        \n",
    "    n, m = len(matrix), len(matrix[0])\n",
    "\n",
    "    if n == 1:\n",
    "        return matrix[0]\n",
    "    elif n == 2:\n",
    "        return matrix[0] + matrix[1][::-1]\n",
    "\n",
    "    elif m == 1:\n",
    "        return [el[0] for el in matrix]\n",
    "\n",
    "    elif m == 2:\n",
    "        res = [] \n",
    "        res.extend(matrix[0])\n",
    "        for i in range(1, n-1):\n",
    "            res.append(matrix[i][1])\n",
    "        res.extend(matrix[-1][::-1])\n",
    "        for i in range(n-2, 0, -1):\n",
    "            res.append(matrix[i][0])\n",
    "        return res\n",
    "\n",
    "\n",
    "    res = []\n",
    "    i, j = 0, 0\n",
    "\n",
    "    res.extend(matrix[0])\n",
    "    j = m - 1\n",
    "    for i in range(1, n):\n",
    "        res.append(matrix[i][j])\n",
    "\n",
    "    res.extend(matrix[-1][:-1][::-1])\n",
    "\n",
    "    j = 0\n",
    "    for i in range(n-2, 0, -1):\n",
    "        res.append(matrix[i][j])\n",
    "\n",
    "    res += spiralOrder([line[1: -1] for i, line in enumerate(matrix) if i not in [0, n-1]])\n",
    "\n",
    "    return res  "
   ]
  },
  {
   "cell_type": "code",
   "execution_count": 5,
   "id": "cd086389",
   "metadata": {},
   "outputs": [],
   "source": [
    "assert spiralOrder(matrix=[[1,2,3],[4,5,6],[7,8,9]]) == [1, 2, 3, 6, 9, 8, 7, 4, 5]\n",
    "assert spiralOrder(matrix=[[1,2,3,4],[5,6,7,8],[9,10,11,12]]) == [1, 2, 3, 4, 8, 12, 11, 10, 9, 5, 6, 7]\n",
    "assert spiralOrder(matrix=[[1,2],[3,4]]) == [1, 2, 4, 3]\n",
    "assert spiralOrder(matrix=[[1,11],[2,12],[3,13],[4,14],[5,15],[6,16],[7,17],[8,18],[9,19],[10,20]]) == [1, 11, 12, 13, 14, 15, 16, 17, 18, 19, 20, 10, 9, 8, 7, 6, 5, 4, 3, 2]"
   ]
  }
 ],
 "metadata": {
  "kernelspec": {
   "display_name": "Python 3 (ipykernel)",
   "language": "python",
   "name": "python3"
  },
  "language_info": {
   "codemirror_mode": {
    "name": "ipython",
    "version": 3
   },
   "file_extension": ".py",
   "mimetype": "text/x-python",
   "name": "python",
   "nbconvert_exporter": "python",
   "pygments_lexer": "ipython3",
   "version": "3.10.4"
  }
 },
 "nbformat": 4,
 "nbformat_minor": 5
}
