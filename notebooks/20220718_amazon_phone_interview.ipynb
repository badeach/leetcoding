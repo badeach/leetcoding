{
 "cells": [
  {
   "cell_type": "code",
   "execution_count": 1,
   "id": "ac20d3b2",
   "metadata": {},
   "outputs": [],
   "source": [
    "from typing import Mapping, List "
   ]
  },
  {
   "cell_type": "code",
   "execution_count": 12,
   "id": "30d392a2",
   "metadata": {},
   "outputs": [],
   "source": [
    "def parse(log_fname: str) -> Mapping[str, int]:\n",
    "    freq_dict = {}\n",
    "    \n",
    "    with open(log_fname) as f:\n",
    "        \n",
    "        for line in f:\n",
    "            ts, words_string, user_id = line.strip().split('\\t')\n",
    "\n",
    "            for word in words_string.split():\n",
    "\n",
    "                if word in freq_dict:\n",
    "                    freq_dict[word] += 1\n",
    "                else:\n",
    "                    freq_dict[word] = 1\n",
    "        return freq_dict"
   ]
  },
  {
   "cell_type": "code",
   "execution_count": 13,
   "id": "fb184260",
   "metadata": {},
   "outputs": [
    {
     "data": {
      "text/plain": [
       "{'big': 2, 'data': 1, 'models': 1, 'cats': 2, 'video': 1, 'files': 1}"
      ]
     },
     "execution_count": 13,
     "metadata": {},
     "output_type": "execute_result"
    }
   ],
   "source": [
    "parse('../data/parse_logs_amazon.txt')"
   ]
  },
  {
   "cell_type": "code",
   "execution_count": 26,
   "id": "98ca2c1f",
   "metadata": {},
   "outputs": [],
   "source": [
    "def is_valid_isbn(s: str) -> bool:\n",
    "    \n",
    "    if '-' in s:\n",
    "        \n",
    "        parts = s.split('-')\n",
    "        \n",
    "        if len(parts) != 4:\n",
    "            return False\n",
    "        \n",
    "        for part in parts[:-1]:\n",
    "            if not part.isnumeric():\n",
    "                return False\n",
    "        \n",
    "        if not parts[-1].isnumeric() and parts[-1] != 'x':\n",
    "            return False\n",
    "        \n",
    "        return len(parts[0]) == 1 and len(parts[1]) == 5 and len(parts[2]) == 3 and len(parts[3]) == 1\n",
    "    \n",
    "    else:\n",
    "        if len(s) != 10:\n",
    "            return False\n",
    "        return s[:-1].isnumeric() and (s[-1].isnumeric() or s[-1] == 'x')"
   ]
  },
  {
   "cell_type": "code",
   "execution_count": 27,
   "id": "0bdc2df3",
   "metadata": {},
   "outputs": [],
   "source": [
    "assert is_valid_isbn('1-23456-789-0')\n",
    "assert is_valid_isbn('1-23456-789-x')\n",
    "assert is_valid_isbn('1234567890')\n",
    "assert is_valid_isbn('123456789x')\n",
    "assert is_valid_isbn('12345-6789x') == False\n",
    "assert is_valid_isbn('1-23456-7890') == False\n",
    "assert is_valid_isbn('1-2345w6-789-x') == False"
   ]
  },
  {
   "cell_type": "code",
   "execution_count": 22,
   "id": "08b97d22",
   "metadata": {},
   "outputs": [],
   "source": [
    "def logs_with_isbns(log_fname: str) -> List[str]:\n",
    "    \n",
    "    queries_with_isbns = []\n",
    "    \n",
    "    with open(log_fname) as f:\n",
    "        \n",
    "        for line in f:\n",
    "            ts, query, user_id = line.strip().split('\\t')\n",
    "\n",
    "            for word in query.split():\n",
    "                \n",
    "                if is_valid_isbn(word):\n",
    "                    queries_with_isbns.append(query)\n",
    "                    break\n",
    "    return queries_with_isbns"
   ]
  },
  {
   "cell_type": "code",
   "execution_count": 23,
   "id": "b6b40454",
   "metadata": {},
   "outputs": [
    {
     "data": {
      "text/plain": [
       "['paper 1-23456-789-0', 'science 1234567890']"
      ]
     },
     "execution_count": 23,
     "metadata": {},
     "output_type": "execute_result"
    }
   ],
   "source": [
    "logs_with_isbns('../data/parse_logs_amazon.txt')"
   ]
  },
  {
   "cell_type": "markdown",
   "id": "70ad14a9",
   "metadata": {},
   "source": [
    "Mistakes:\n",
    "    \n",
    " - used `isnum` instead of `isnumeric`\n",
    " - read only first line of the file\n",
    " - used \"or\" instead of \"and\" here: `if not parts[-1].isnumeric() and parts[-1] != 'x':`"
   ]
  },
  {
   "cell_type": "code",
   "execution_count": null,
   "id": "5290ebd2",
   "metadata": {},
   "outputs": [],
   "source": []
  }
 ],
 "metadata": {
  "kernelspec": {
   "display_name": "Python 3 (ipykernel)",
   "language": "python",
   "name": "python3"
  },
  "language_info": {
   "codemirror_mode": {
    "name": "ipython",
    "version": 3
   },
   "file_extension": ".py",
   "mimetype": "text/x-python",
   "name": "python",
   "nbconvert_exporter": "python",
   "pygments_lexer": "ipython3",
   "version": "3.10.4"
  }
 },
 "nbformat": 4,
 "nbformat_minor": 5
}
